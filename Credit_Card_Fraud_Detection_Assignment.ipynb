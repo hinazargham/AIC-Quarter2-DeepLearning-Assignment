{
  "nbformat": 4,
  "nbformat_minor": 0,
  "metadata": {
    "kernelspec": {
      "display_name": "Python 3",
      "language": "python",
      "name": "python3"
    },
    "language_info": {
      "codemirror_mode": {
        "name": "ipython",
        "version": 3
      },
      "file_extension": ".py",
      "mimetype": "text/x-python",
      "name": "python",
      "nbconvert_exporter": "python",
      "pygments_lexer": "ipython3",
      "version": "3.7.3"
    },
    "colab": {
      "name": "Credit Card Fraud Detection assignment.ipynb",
      "provenance": [],
      "collapsed_sections": [],
      "toc_visible": true
    },
    "accelerator": "TPU"
  },
  "cells": [
    {
      "cell_type": "markdown",
      "metadata": {
        "id": "K_IvM1tOhzSX"
      },
      "source": [
        "# Credit Card Fraud Detection::"
      ]
    },
    {
      "cell_type": "markdown",
      "metadata": {
        "id": "ad2QekefhzSh"
      },
      "source": [
        "Download dataset from this link:\n",
        "\n",
        "https://www.kaggle.com/mlg-ulb/creditcardfraud"
      ]
    },
    {
      "cell_type": "markdown",
      "metadata": {
        "id": "pZELDdA_hzSi"
      },
      "source": [
        "# Description about dataset::"
      ]
    },
    {
      "cell_type": "markdown",
      "metadata": {
        "id": "cTHL9w36hzSi"
      },
      "source": [
        "The datasets contains transactions made by credit cards in September 2013 by european cardholders.\n",
        "This dataset presents transactions that occurred in two days, where we have 492 frauds out of 284,807 transactions. The dataset is highly unbalanced, the positive class (frauds) account for 0.172% of all transactions.\n",
        "\n",
        "It contains only numerical input variables which are the result of a PCA transformation. Unfortunately, due to confidentiality issues, we cannot provide the original features and more background information about the data. Features V1, V2, … V28 are the principal components obtained with PCA, the only features which have not been transformed with PCA are 'Time' and 'Amount'. Feature 'Time' contains the seconds elapsed between each transaction and the first transaction in the dataset. The feature 'Amount' is the transaction Amount, this feature can be used for example-dependant cost-senstive learning. \n",
        "\n",
        "\n",
        "### Feature 'Class' is the response variable and it takes value 1 in case of fraud and 0 otherwise."
      ]
    },
    {
      "cell_type": "markdown",
      "metadata": {
        "id": "_X5ZISjwhzSl"
      },
      "source": [
        "# WORKFLOW :"
      ]
    },
    {
      "cell_type": "markdown",
      "metadata": {
        "id": "bdR7K4PKhzSl"
      },
      "source": [
        "1.Load Data\n",
        "\n",
        "2.Check Missing Values ( If Exist ; Fill each record with mean of its feature )\n",
        "\n",
        "3.Standardized the Input Variables. \n",
        "\n",
        "4.Split into 50% Training(Samples,Labels) , 30% Test(Samples,Labels) and 20% Validation Data(Samples,Labels).\n",
        "\n",
        "5.Model : input Layer (No. of features ), 3 hidden layers including 10,8,6 unit & Output Layer with activation function relu/tanh (check by experiment).\n",
        "\n",
        "6.Compilation Step (Note : Its a Binary problem , select loss , metrics according to it)\n",
        "\n",
        "7.Train the Model with Epochs (100).\n",
        "\n",
        "8.If the model gets overfit tune your model by changing the units , No. of layers , epochs , add dropout layer or add Regularizer according to the need .\n",
        "\n",
        "9.Prediction should be > 92%\n",
        "\n",
        "10.Evaluation Step\n",
        "\n",
        "11.Prediction\n"
      ]
    },
    {
      "cell_type": "markdown",
      "metadata": {
        "id": "yknzz3FPhzSm"
      },
      "source": [
        "## Identify fraudulent credit card transactions."
      ]
    },
    {
      "cell_type": "markdown",
      "metadata": {
        "id": "K1PhwzqrhzSm"
      },
      "source": [
        "# Task"
      ]
    },
    {
      "cell_type": "markdown",
      "metadata": {
        "id": "syIOCe9S2ZE8"
      },
      "source": [
        "## 1.Loading Data"
      ]
    },
    {
      "cell_type": "code",
      "metadata": {
        "id": "PXHJ7rljhzSn",
        "colab": {
          "base_uri": "https://localhost:8080/"
        },
        "outputId": "8185e9cf-9a74-4662-e889-07f360099fe5"
      },
      "source": [
        "# mount google drive in to your Colab enviornment\n",
        "from google.colab import drive\n",
        "drive.mount('/content/drive')"
      ],
      "execution_count": null,
      "outputs": [
        {
          "output_type": "stream",
          "text": [
            "Drive already mounted at /content/drive; to attempt to forcibly remount, call drive.mount(\"/content/drive\", force_remount=True).\n"
          ],
          "name": "stdout"
        }
      ]
    },
    {
      "cell_type": "code",
      "metadata": {
        "id": "5SGT7vPBhzSo"
      },
      "source": [
        "from google.colab import files\n",
        "uploaded = files.upload()"
      ],
      "execution_count": null,
      "outputs": []
    },
    {
      "cell_type": "markdown",
      "metadata": {
        "id": "CFOysh-XKqcs"
      },
      "source": [
        "## 2.Importing Libraries"
      ]
    },
    {
      "cell_type": "code",
      "metadata": {
        "id": "oEo-e9hNhzSo"
      },
      "source": [
        "import tensorflow as tf\n",
        "import pandas as pd\n",
        "import numpy as np\n",
        "import matplotlib.pyplot as plt\n",
        "from keras import models\n",
        "from keras import layers\n",
        "from keras import regularizers\n"
      ],
      "execution_count": null,
      "outputs": []
    },
    {
      "cell_type": "markdown",
      "metadata": {
        "id": "-4msSQTIKxtK"
      },
      "source": [
        "## 3.Check Missing Values \n",
        "\n",
        "(If Exist ; Fill each record with mean of its feature )"
      ]
    },
    {
      "cell_type": "code",
      "metadata": {
        "colab": {
          "base_uri": "https://localhost:8080/",
          "height": 224
        },
        "id": "nQc2d90E9i7j",
        "outputId": "433751ed-b11a-4b00-d448-560f8e3f7d0b"
      },
      "source": [
        "credit_data = pd.read_csv('./creditcard.csv')\n",
        "credit_data.head(5)"
      ],
      "execution_count": null,
      "outputs": [
        {
          "output_type": "execute_result",
          "data": {
            "text/html": [
              "<div>\n",
              "<style scoped>\n",
              "    .dataframe tbody tr th:only-of-type {\n",
              "        vertical-align: middle;\n",
              "    }\n",
              "\n",
              "    .dataframe tbody tr th {\n",
              "        vertical-align: top;\n",
              "    }\n",
              "\n",
              "    .dataframe thead th {\n",
              "        text-align: right;\n",
              "    }\n",
              "</style>\n",
              "<table border=\"1\" class=\"dataframe\">\n",
              "  <thead>\n",
              "    <tr style=\"text-align: right;\">\n",
              "      <th></th>\n",
              "      <th>Time</th>\n",
              "      <th>V1</th>\n",
              "      <th>V2</th>\n",
              "      <th>V3</th>\n",
              "      <th>V4</th>\n",
              "      <th>V5</th>\n",
              "      <th>V6</th>\n",
              "      <th>V7</th>\n",
              "      <th>V8</th>\n",
              "      <th>V9</th>\n",
              "      <th>V10</th>\n",
              "      <th>V11</th>\n",
              "      <th>V12</th>\n",
              "      <th>V13</th>\n",
              "      <th>V14</th>\n",
              "      <th>V15</th>\n",
              "      <th>V16</th>\n",
              "      <th>V17</th>\n",
              "      <th>V18</th>\n",
              "      <th>V19</th>\n",
              "      <th>V20</th>\n",
              "      <th>V21</th>\n",
              "      <th>V22</th>\n",
              "      <th>V23</th>\n",
              "      <th>V24</th>\n",
              "      <th>V25</th>\n",
              "      <th>V26</th>\n",
              "      <th>V27</th>\n",
              "      <th>V28</th>\n",
              "      <th>Amount</th>\n",
              "      <th>Class</th>\n",
              "    </tr>\n",
              "  </thead>\n",
              "  <tbody>\n",
              "    <tr>\n",
              "      <th>0</th>\n",
              "      <td>0.0</td>\n",
              "      <td>-1.359807</td>\n",
              "      <td>-0.072781</td>\n",
              "      <td>2.536347</td>\n",
              "      <td>1.378155</td>\n",
              "      <td>-0.338321</td>\n",
              "      <td>0.462388</td>\n",
              "      <td>0.239599</td>\n",
              "      <td>0.098698</td>\n",
              "      <td>0.363787</td>\n",
              "      <td>0.090794</td>\n",
              "      <td>-0.551600</td>\n",
              "      <td>-0.617801</td>\n",
              "      <td>-0.991390</td>\n",
              "      <td>-0.311169</td>\n",
              "      <td>1.468177</td>\n",
              "      <td>-0.470401</td>\n",
              "      <td>0.207971</td>\n",
              "      <td>0.025791</td>\n",
              "      <td>0.403993</td>\n",
              "      <td>0.251412</td>\n",
              "      <td>-0.018307</td>\n",
              "      <td>0.277838</td>\n",
              "      <td>-0.110474</td>\n",
              "      <td>0.066928</td>\n",
              "      <td>0.128539</td>\n",
              "      <td>-0.189115</td>\n",
              "      <td>0.133558</td>\n",
              "      <td>-0.021053</td>\n",
              "      <td>149.62</td>\n",
              "      <td>0</td>\n",
              "    </tr>\n",
              "    <tr>\n",
              "      <th>1</th>\n",
              "      <td>0.0</td>\n",
              "      <td>1.191857</td>\n",
              "      <td>0.266151</td>\n",
              "      <td>0.166480</td>\n",
              "      <td>0.448154</td>\n",
              "      <td>0.060018</td>\n",
              "      <td>-0.082361</td>\n",
              "      <td>-0.078803</td>\n",
              "      <td>0.085102</td>\n",
              "      <td>-0.255425</td>\n",
              "      <td>-0.166974</td>\n",
              "      <td>1.612727</td>\n",
              "      <td>1.065235</td>\n",
              "      <td>0.489095</td>\n",
              "      <td>-0.143772</td>\n",
              "      <td>0.635558</td>\n",
              "      <td>0.463917</td>\n",
              "      <td>-0.114805</td>\n",
              "      <td>-0.183361</td>\n",
              "      <td>-0.145783</td>\n",
              "      <td>-0.069083</td>\n",
              "      <td>-0.225775</td>\n",
              "      <td>-0.638672</td>\n",
              "      <td>0.101288</td>\n",
              "      <td>-0.339846</td>\n",
              "      <td>0.167170</td>\n",
              "      <td>0.125895</td>\n",
              "      <td>-0.008983</td>\n",
              "      <td>0.014724</td>\n",
              "      <td>2.69</td>\n",
              "      <td>0</td>\n",
              "    </tr>\n",
              "    <tr>\n",
              "      <th>2</th>\n",
              "      <td>1.0</td>\n",
              "      <td>-1.358354</td>\n",
              "      <td>-1.340163</td>\n",
              "      <td>1.773209</td>\n",
              "      <td>0.379780</td>\n",
              "      <td>-0.503198</td>\n",
              "      <td>1.800499</td>\n",
              "      <td>0.791461</td>\n",
              "      <td>0.247676</td>\n",
              "      <td>-1.514654</td>\n",
              "      <td>0.207643</td>\n",
              "      <td>0.624501</td>\n",
              "      <td>0.066084</td>\n",
              "      <td>0.717293</td>\n",
              "      <td>-0.165946</td>\n",
              "      <td>2.345865</td>\n",
              "      <td>-2.890083</td>\n",
              "      <td>1.109969</td>\n",
              "      <td>-0.121359</td>\n",
              "      <td>-2.261857</td>\n",
              "      <td>0.524980</td>\n",
              "      <td>0.247998</td>\n",
              "      <td>0.771679</td>\n",
              "      <td>0.909412</td>\n",
              "      <td>-0.689281</td>\n",
              "      <td>-0.327642</td>\n",
              "      <td>-0.139097</td>\n",
              "      <td>-0.055353</td>\n",
              "      <td>-0.059752</td>\n",
              "      <td>378.66</td>\n",
              "      <td>0</td>\n",
              "    </tr>\n",
              "    <tr>\n",
              "      <th>3</th>\n",
              "      <td>1.0</td>\n",
              "      <td>-0.966272</td>\n",
              "      <td>-0.185226</td>\n",
              "      <td>1.792993</td>\n",
              "      <td>-0.863291</td>\n",
              "      <td>-0.010309</td>\n",
              "      <td>1.247203</td>\n",
              "      <td>0.237609</td>\n",
              "      <td>0.377436</td>\n",
              "      <td>-1.387024</td>\n",
              "      <td>-0.054952</td>\n",
              "      <td>-0.226487</td>\n",
              "      <td>0.178228</td>\n",
              "      <td>0.507757</td>\n",
              "      <td>-0.287924</td>\n",
              "      <td>-0.631418</td>\n",
              "      <td>-1.059647</td>\n",
              "      <td>-0.684093</td>\n",
              "      <td>1.965775</td>\n",
              "      <td>-1.232622</td>\n",
              "      <td>-0.208038</td>\n",
              "      <td>-0.108300</td>\n",
              "      <td>0.005274</td>\n",
              "      <td>-0.190321</td>\n",
              "      <td>-1.175575</td>\n",
              "      <td>0.647376</td>\n",
              "      <td>-0.221929</td>\n",
              "      <td>0.062723</td>\n",
              "      <td>0.061458</td>\n",
              "      <td>123.50</td>\n",
              "      <td>0</td>\n",
              "    </tr>\n",
              "    <tr>\n",
              "      <th>4</th>\n",
              "      <td>2.0</td>\n",
              "      <td>-1.158233</td>\n",
              "      <td>0.877737</td>\n",
              "      <td>1.548718</td>\n",
              "      <td>0.403034</td>\n",
              "      <td>-0.407193</td>\n",
              "      <td>0.095921</td>\n",
              "      <td>0.592941</td>\n",
              "      <td>-0.270533</td>\n",
              "      <td>0.817739</td>\n",
              "      <td>0.753074</td>\n",
              "      <td>-0.822843</td>\n",
              "      <td>0.538196</td>\n",
              "      <td>1.345852</td>\n",
              "      <td>-1.119670</td>\n",
              "      <td>0.175121</td>\n",
              "      <td>-0.451449</td>\n",
              "      <td>-0.237033</td>\n",
              "      <td>-0.038195</td>\n",
              "      <td>0.803487</td>\n",
              "      <td>0.408542</td>\n",
              "      <td>-0.009431</td>\n",
              "      <td>0.798278</td>\n",
              "      <td>-0.137458</td>\n",
              "      <td>0.141267</td>\n",
              "      <td>-0.206010</td>\n",
              "      <td>0.502292</td>\n",
              "      <td>0.219422</td>\n",
              "      <td>0.215153</td>\n",
              "      <td>69.99</td>\n",
              "      <td>0</td>\n",
              "    </tr>\n",
              "  </tbody>\n",
              "</table>\n",
              "</div>"
            ],
            "text/plain": [
              "   Time        V1        V2        V3  ...       V27       V28  Amount  Class\n",
              "0   0.0 -1.359807 -0.072781  2.536347  ...  0.133558 -0.021053  149.62      0\n",
              "1   0.0  1.191857  0.266151  0.166480  ... -0.008983  0.014724    2.69      0\n",
              "2   1.0 -1.358354 -1.340163  1.773209  ... -0.055353 -0.059752  378.66      0\n",
              "3   1.0 -0.966272 -0.185226  1.792993  ...  0.062723  0.061458  123.50      0\n",
              "4   2.0 -1.158233  0.877737  1.548718  ...  0.219422  0.215153   69.99      0\n",
              "\n",
              "[5 rows x 31 columns]"
            ]
          },
          "metadata": {
            "tags": []
          },
          "execution_count": 127
        }
      ]
    },
    {
      "cell_type": "code",
      "metadata": {
        "colab": {
          "base_uri": "https://localhost:8080/",
          "height": 317
        },
        "id": "5PpX63oi2Ixk",
        "outputId": "6bce5f27-0d12-4885-f5d8-53a8112173e2"
      },
      "source": [
        "credit_data.describe()"
      ],
      "execution_count": null,
      "outputs": [
        {
          "output_type": "execute_result",
          "data": {
            "text/html": [
              "<div>\n",
              "<style scoped>\n",
              "    .dataframe tbody tr th:only-of-type {\n",
              "        vertical-align: middle;\n",
              "    }\n",
              "\n",
              "    .dataframe tbody tr th {\n",
              "        vertical-align: top;\n",
              "    }\n",
              "\n",
              "    .dataframe thead th {\n",
              "        text-align: right;\n",
              "    }\n",
              "</style>\n",
              "<table border=\"1\" class=\"dataframe\">\n",
              "  <thead>\n",
              "    <tr style=\"text-align: right;\">\n",
              "      <th></th>\n",
              "      <th>Time</th>\n",
              "      <th>V1</th>\n",
              "      <th>V2</th>\n",
              "      <th>V3</th>\n",
              "      <th>V4</th>\n",
              "      <th>V5</th>\n",
              "      <th>V6</th>\n",
              "      <th>V7</th>\n",
              "      <th>V8</th>\n",
              "      <th>V9</th>\n",
              "      <th>V10</th>\n",
              "      <th>V11</th>\n",
              "      <th>V12</th>\n",
              "      <th>V13</th>\n",
              "      <th>V14</th>\n",
              "      <th>V15</th>\n",
              "      <th>V16</th>\n",
              "      <th>V17</th>\n",
              "      <th>V18</th>\n",
              "      <th>V19</th>\n",
              "      <th>V20</th>\n",
              "      <th>V21</th>\n",
              "      <th>V22</th>\n",
              "      <th>V23</th>\n",
              "      <th>V24</th>\n",
              "      <th>V25</th>\n",
              "      <th>V26</th>\n",
              "      <th>V27</th>\n",
              "      <th>V28</th>\n",
              "      <th>Amount</th>\n",
              "      <th>Class</th>\n",
              "    </tr>\n",
              "  </thead>\n",
              "  <tbody>\n",
              "    <tr>\n",
              "      <th>count</th>\n",
              "      <td>284807.000000</td>\n",
              "      <td>2.848070e+05</td>\n",
              "      <td>2.848070e+05</td>\n",
              "      <td>2.848070e+05</td>\n",
              "      <td>2.848070e+05</td>\n",
              "      <td>2.848070e+05</td>\n",
              "      <td>2.848070e+05</td>\n",
              "      <td>2.848070e+05</td>\n",
              "      <td>2.848070e+05</td>\n",
              "      <td>2.848070e+05</td>\n",
              "      <td>2.848070e+05</td>\n",
              "      <td>2.848070e+05</td>\n",
              "      <td>2.848070e+05</td>\n",
              "      <td>2.848070e+05</td>\n",
              "      <td>2.848070e+05</td>\n",
              "      <td>2.848070e+05</td>\n",
              "      <td>2.848070e+05</td>\n",
              "      <td>2.848070e+05</td>\n",
              "      <td>2.848070e+05</td>\n",
              "      <td>2.848070e+05</td>\n",
              "      <td>2.848070e+05</td>\n",
              "      <td>2.848070e+05</td>\n",
              "      <td>2.848070e+05</td>\n",
              "      <td>2.848070e+05</td>\n",
              "      <td>2.848070e+05</td>\n",
              "      <td>2.848070e+05</td>\n",
              "      <td>2.848070e+05</td>\n",
              "      <td>2.848070e+05</td>\n",
              "      <td>2.848070e+05</td>\n",
              "      <td>284807.000000</td>\n",
              "      <td>284807.000000</td>\n",
              "    </tr>\n",
              "    <tr>\n",
              "      <th>mean</th>\n",
              "      <td>94813.859575</td>\n",
              "      <td>3.919560e-15</td>\n",
              "      <td>5.688174e-16</td>\n",
              "      <td>-8.769071e-15</td>\n",
              "      <td>2.782312e-15</td>\n",
              "      <td>-1.552563e-15</td>\n",
              "      <td>2.010663e-15</td>\n",
              "      <td>-1.694249e-15</td>\n",
              "      <td>-1.927028e-16</td>\n",
              "      <td>-3.137024e-15</td>\n",
              "      <td>1.768627e-15</td>\n",
              "      <td>9.170318e-16</td>\n",
              "      <td>-1.810658e-15</td>\n",
              "      <td>1.693438e-15</td>\n",
              "      <td>1.479045e-15</td>\n",
              "      <td>3.482336e-15</td>\n",
              "      <td>1.392007e-15</td>\n",
              "      <td>-7.528491e-16</td>\n",
              "      <td>4.328772e-16</td>\n",
              "      <td>9.049732e-16</td>\n",
              "      <td>5.085503e-16</td>\n",
              "      <td>1.537294e-16</td>\n",
              "      <td>7.959909e-16</td>\n",
              "      <td>5.367590e-16</td>\n",
              "      <td>4.458112e-15</td>\n",
              "      <td>1.453003e-15</td>\n",
              "      <td>1.699104e-15</td>\n",
              "      <td>-3.660161e-16</td>\n",
              "      <td>-1.206049e-16</td>\n",
              "      <td>88.349619</td>\n",
              "      <td>0.001727</td>\n",
              "    </tr>\n",
              "    <tr>\n",
              "      <th>std</th>\n",
              "      <td>47488.145955</td>\n",
              "      <td>1.958696e+00</td>\n",
              "      <td>1.651309e+00</td>\n",
              "      <td>1.516255e+00</td>\n",
              "      <td>1.415869e+00</td>\n",
              "      <td>1.380247e+00</td>\n",
              "      <td>1.332271e+00</td>\n",
              "      <td>1.237094e+00</td>\n",
              "      <td>1.194353e+00</td>\n",
              "      <td>1.098632e+00</td>\n",
              "      <td>1.088850e+00</td>\n",
              "      <td>1.020713e+00</td>\n",
              "      <td>9.992014e-01</td>\n",
              "      <td>9.952742e-01</td>\n",
              "      <td>9.585956e-01</td>\n",
              "      <td>9.153160e-01</td>\n",
              "      <td>8.762529e-01</td>\n",
              "      <td>8.493371e-01</td>\n",
              "      <td>8.381762e-01</td>\n",
              "      <td>8.140405e-01</td>\n",
              "      <td>7.709250e-01</td>\n",
              "      <td>7.345240e-01</td>\n",
              "      <td>7.257016e-01</td>\n",
              "      <td>6.244603e-01</td>\n",
              "      <td>6.056471e-01</td>\n",
              "      <td>5.212781e-01</td>\n",
              "      <td>4.822270e-01</td>\n",
              "      <td>4.036325e-01</td>\n",
              "      <td>3.300833e-01</td>\n",
              "      <td>250.120109</td>\n",
              "      <td>0.041527</td>\n",
              "    </tr>\n",
              "    <tr>\n",
              "      <th>min</th>\n",
              "      <td>0.000000</td>\n",
              "      <td>-5.640751e+01</td>\n",
              "      <td>-7.271573e+01</td>\n",
              "      <td>-4.832559e+01</td>\n",
              "      <td>-5.683171e+00</td>\n",
              "      <td>-1.137433e+02</td>\n",
              "      <td>-2.616051e+01</td>\n",
              "      <td>-4.355724e+01</td>\n",
              "      <td>-7.321672e+01</td>\n",
              "      <td>-1.343407e+01</td>\n",
              "      <td>-2.458826e+01</td>\n",
              "      <td>-4.797473e+00</td>\n",
              "      <td>-1.868371e+01</td>\n",
              "      <td>-5.791881e+00</td>\n",
              "      <td>-1.921433e+01</td>\n",
              "      <td>-4.498945e+00</td>\n",
              "      <td>-1.412985e+01</td>\n",
              "      <td>-2.516280e+01</td>\n",
              "      <td>-9.498746e+00</td>\n",
              "      <td>-7.213527e+00</td>\n",
              "      <td>-5.449772e+01</td>\n",
              "      <td>-3.483038e+01</td>\n",
              "      <td>-1.093314e+01</td>\n",
              "      <td>-4.480774e+01</td>\n",
              "      <td>-2.836627e+00</td>\n",
              "      <td>-1.029540e+01</td>\n",
              "      <td>-2.604551e+00</td>\n",
              "      <td>-2.256568e+01</td>\n",
              "      <td>-1.543008e+01</td>\n",
              "      <td>0.000000</td>\n",
              "      <td>0.000000</td>\n",
              "    </tr>\n",
              "    <tr>\n",
              "      <th>25%</th>\n",
              "      <td>54201.500000</td>\n",
              "      <td>-9.203734e-01</td>\n",
              "      <td>-5.985499e-01</td>\n",
              "      <td>-8.903648e-01</td>\n",
              "      <td>-8.486401e-01</td>\n",
              "      <td>-6.915971e-01</td>\n",
              "      <td>-7.682956e-01</td>\n",
              "      <td>-5.540759e-01</td>\n",
              "      <td>-2.086297e-01</td>\n",
              "      <td>-6.430976e-01</td>\n",
              "      <td>-5.354257e-01</td>\n",
              "      <td>-7.624942e-01</td>\n",
              "      <td>-4.055715e-01</td>\n",
              "      <td>-6.485393e-01</td>\n",
              "      <td>-4.255740e-01</td>\n",
              "      <td>-5.828843e-01</td>\n",
              "      <td>-4.680368e-01</td>\n",
              "      <td>-4.837483e-01</td>\n",
              "      <td>-4.988498e-01</td>\n",
              "      <td>-4.562989e-01</td>\n",
              "      <td>-2.117214e-01</td>\n",
              "      <td>-2.283949e-01</td>\n",
              "      <td>-5.423504e-01</td>\n",
              "      <td>-1.618463e-01</td>\n",
              "      <td>-3.545861e-01</td>\n",
              "      <td>-3.171451e-01</td>\n",
              "      <td>-3.269839e-01</td>\n",
              "      <td>-7.083953e-02</td>\n",
              "      <td>-5.295979e-02</td>\n",
              "      <td>5.600000</td>\n",
              "      <td>0.000000</td>\n",
              "    </tr>\n",
              "    <tr>\n",
              "      <th>50%</th>\n",
              "      <td>84692.000000</td>\n",
              "      <td>1.810880e-02</td>\n",
              "      <td>6.548556e-02</td>\n",
              "      <td>1.798463e-01</td>\n",
              "      <td>-1.984653e-02</td>\n",
              "      <td>-5.433583e-02</td>\n",
              "      <td>-2.741871e-01</td>\n",
              "      <td>4.010308e-02</td>\n",
              "      <td>2.235804e-02</td>\n",
              "      <td>-5.142873e-02</td>\n",
              "      <td>-9.291738e-02</td>\n",
              "      <td>-3.275735e-02</td>\n",
              "      <td>1.400326e-01</td>\n",
              "      <td>-1.356806e-02</td>\n",
              "      <td>5.060132e-02</td>\n",
              "      <td>4.807155e-02</td>\n",
              "      <td>6.641332e-02</td>\n",
              "      <td>-6.567575e-02</td>\n",
              "      <td>-3.636312e-03</td>\n",
              "      <td>3.734823e-03</td>\n",
              "      <td>-6.248109e-02</td>\n",
              "      <td>-2.945017e-02</td>\n",
              "      <td>6.781943e-03</td>\n",
              "      <td>-1.119293e-02</td>\n",
              "      <td>4.097606e-02</td>\n",
              "      <td>1.659350e-02</td>\n",
              "      <td>-5.213911e-02</td>\n",
              "      <td>1.342146e-03</td>\n",
              "      <td>1.124383e-02</td>\n",
              "      <td>22.000000</td>\n",
              "      <td>0.000000</td>\n",
              "    </tr>\n",
              "    <tr>\n",
              "      <th>75%</th>\n",
              "      <td>139320.500000</td>\n",
              "      <td>1.315642e+00</td>\n",
              "      <td>8.037239e-01</td>\n",
              "      <td>1.027196e+00</td>\n",
              "      <td>7.433413e-01</td>\n",
              "      <td>6.119264e-01</td>\n",
              "      <td>3.985649e-01</td>\n",
              "      <td>5.704361e-01</td>\n",
              "      <td>3.273459e-01</td>\n",
              "      <td>5.971390e-01</td>\n",
              "      <td>4.539234e-01</td>\n",
              "      <td>7.395934e-01</td>\n",
              "      <td>6.182380e-01</td>\n",
              "      <td>6.625050e-01</td>\n",
              "      <td>4.931498e-01</td>\n",
              "      <td>6.488208e-01</td>\n",
              "      <td>5.232963e-01</td>\n",
              "      <td>3.996750e-01</td>\n",
              "      <td>5.008067e-01</td>\n",
              "      <td>4.589494e-01</td>\n",
              "      <td>1.330408e-01</td>\n",
              "      <td>1.863772e-01</td>\n",
              "      <td>5.285536e-01</td>\n",
              "      <td>1.476421e-01</td>\n",
              "      <td>4.395266e-01</td>\n",
              "      <td>3.507156e-01</td>\n",
              "      <td>2.409522e-01</td>\n",
              "      <td>9.104512e-02</td>\n",
              "      <td>7.827995e-02</td>\n",
              "      <td>77.165000</td>\n",
              "      <td>0.000000</td>\n",
              "    </tr>\n",
              "    <tr>\n",
              "      <th>max</th>\n",
              "      <td>172792.000000</td>\n",
              "      <td>2.454930e+00</td>\n",
              "      <td>2.205773e+01</td>\n",
              "      <td>9.382558e+00</td>\n",
              "      <td>1.687534e+01</td>\n",
              "      <td>3.480167e+01</td>\n",
              "      <td>7.330163e+01</td>\n",
              "      <td>1.205895e+02</td>\n",
              "      <td>2.000721e+01</td>\n",
              "      <td>1.559499e+01</td>\n",
              "      <td>2.374514e+01</td>\n",
              "      <td>1.201891e+01</td>\n",
              "      <td>7.848392e+00</td>\n",
              "      <td>7.126883e+00</td>\n",
              "      <td>1.052677e+01</td>\n",
              "      <td>8.877742e+00</td>\n",
              "      <td>1.731511e+01</td>\n",
              "      <td>9.253526e+00</td>\n",
              "      <td>5.041069e+00</td>\n",
              "      <td>5.591971e+00</td>\n",
              "      <td>3.942090e+01</td>\n",
              "      <td>2.720284e+01</td>\n",
              "      <td>1.050309e+01</td>\n",
              "      <td>2.252841e+01</td>\n",
              "      <td>4.584549e+00</td>\n",
              "      <td>7.519589e+00</td>\n",
              "      <td>3.517346e+00</td>\n",
              "      <td>3.161220e+01</td>\n",
              "      <td>3.384781e+01</td>\n",
              "      <td>25691.160000</td>\n",
              "      <td>1.000000</td>\n",
              "    </tr>\n",
              "  </tbody>\n",
              "</table>\n",
              "</div>"
            ],
            "text/plain": [
              "                Time            V1  ...         Amount          Class\n",
              "count  284807.000000  2.848070e+05  ...  284807.000000  284807.000000\n",
              "mean    94813.859575  3.919560e-15  ...      88.349619       0.001727\n",
              "std     47488.145955  1.958696e+00  ...     250.120109       0.041527\n",
              "min         0.000000 -5.640751e+01  ...       0.000000       0.000000\n",
              "25%     54201.500000 -9.203734e-01  ...       5.600000       0.000000\n",
              "50%     84692.000000  1.810880e-02  ...      22.000000       0.000000\n",
              "75%    139320.500000  1.315642e+00  ...      77.165000       0.000000\n",
              "max    172792.000000  2.454930e+00  ...   25691.160000       1.000000\n",
              "\n",
              "[8 rows x 31 columns]"
            ]
          },
          "metadata": {
            "tags": []
          },
          "execution_count": 128
        }
      ]
    },
    {
      "cell_type": "code",
      "metadata": {
        "colab": {
          "base_uri": "https://localhost:8080/"
        },
        "id": "EjtrRfpl2Fmn",
        "outputId": "0a9d129c-8aaa-47c3-ab61-25165b4df419"
      },
      "source": [
        "credit_data.info()"
      ],
      "execution_count": null,
      "outputs": [
        {
          "output_type": "stream",
          "text": [
            "<class 'pandas.core.frame.DataFrame'>\n",
            "RangeIndex: 284807 entries, 0 to 284806\n",
            "Data columns (total 31 columns):\n",
            " #   Column  Non-Null Count   Dtype  \n",
            "---  ------  --------------   -----  \n",
            " 0   Time    284807 non-null  float64\n",
            " 1   V1      284807 non-null  float64\n",
            " 2   V2      284807 non-null  float64\n",
            " 3   V3      284807 non-null  float64\n",
            " 4   V4      284807 non-null  float64\n",
            " 5   V5      284807 non-null  float64\n",
            " 6   V6      284807 non-null  float64\n",
            " 7   V7      284807 non-null  float64\n",
            " 8   V8      284807 non-null  float64\n",
            " 9   V9      284807 non-null  float64\n",
            " 10  V10     284807 non-null  float64\n",
            " 11  V11     284807 non-null  float64\n",
            " 12  V12     284807 non-null  float64\n",
            " 13  V13     284807 non-null  float64\n",
            " 14  V14     284807 non-null  float64\n",
            " 15  V15     284807 non-null  float64\n",
            " 16  V16     284807 non-null  float64\n",
            " 17  V17     284807 non-null  float64\n",
            " 18  V18     284807 non-null  float64\n",
            " 19  V19     284807 non-null  float64\n",
            " 20  V20     284807 non-null  float64\n",
            " 21  V21     284807 non-null  float64\n",
            " 22  V22     284807 non-null  float64\n",
            " 23  V23     284807 non-null  float64\n",
            " 24  V24     284807 non-null  float64\n",
            " 25  V25     284807 non-null  float64\n",
            " 26  V26     284807 non-null  float64\n",
            " 27  V27     284807 non-null  float64\n",
            " 28  V28     284807 non-null  float64\n",
            " 29  Amount  284807 non-null  float64\n",
            " 30  Class   284807 non-null  int64  \n",
            "dtypes: float64(30), int64(1)\n",
            "memory usage: 67.4 MB\n"
          ],
          "name": "stdout"
        }
      ]
    },
    {
      "cell_type": "markdown",
      "metadata": {
        "id": "mLgyEWEWLHeZ"
      },
      "source": [
        "\n",
        "## 4.Standardized the Input Variables."
      ]
    },
    {
      "cell_type": "code",
      "metadata": {
        "colab": {
          "base_uri": "https://localhost:8080/"
        },
        "id": "RQjrdUF4_OpO",
        "outputId": "edde9a9e-4c91-4899-a915-7e5fb5895b57"
      },
      "source": [
        "credit_data['Class']=credit_data['Class'].astype('float64') #converting the only int type column to float\n",
        "credit_data.info()"
      ],
      "execution_count": null,
      "outputs": [
        {
          "output_type": "stream",
          "text": [
            "<class 'pandas.core.frame.DataFrame'>\n",
            "RangeIndex: 284807 entries, 0 to 284806\n",
            "Data columns (total 31 columns):\n",
            " #   Column  Non-Null Count   Dtype  \n",
            "---  ------  --------------   -----  \n",
            " 0   Time    284807 non-null  float64\n",
            " 1   V1      284807 non-null  float64\n",
            " 2   V2      284807 non-null  float64\n",
            " 3   V3      284807 non-null  float64\n",
            " 4   V4      284807 non-null  float64\n",
            " 5   V5      284807 non-null  float64\n",
            " 6   V6      284807 non-null  float64\n",
            " 7   V7      284807 non-null  float64\n",
            " 8   V8      284807 non-null  float64\n",
            " 9   V9      284807 non-null  float64\n",
            " 10  V10     284807 non-null  float64\n",
            " 11  V11     284807 non-null  float64\n",
            " 12  V12     284807 non-null  float64\n",
            " 13  V13     284807 non-null  float64\n",
            " 14  V14     284807 non-null  float64\n",
            " 15  V15     284807 non-null  float64\n",
            " 16  V16     284807 non-null  float64\n",
            " 17  V17     284807 non-null  float64\n",
            " 18  V18     284807 non-null  float64\n",
            " 19  V19     284807 non-null  float64\n",
            " 20  V20     284807 non-null  float64\n",
            " 21  V21     284807 non-null  float64\n",
            " 22  V22     284807 non-null  float64\n",
            " 23  V23     284807 non-null  float64\n",
            " 24  V24     284807 non-null  float64\n",
            " 25  V25     284807 non-null  float64\n",
            " 26  V26     284807 non-null  float64\n",
            " 27  V27     284807 non-null  float64\n",
            " 28  V28     284807 non-null  float64\n",
            " 29  Amount  284807 non-null  float64\n",
            " 30  Class   284807 non-null  float64\n",
            "dtypes: float64(31)\n",
            "memory usage: 67.4 MB\n"
          ],
          "name": "stdout"
        }
      ]
    },
    {
      "cell_type": "code",
      "metadata": {
        "id": "8bmnRCkh_mxB"
      },
      "source": [
        "fraud=credit_data[credit_data['Class']==1] #selecting all the rows that have Class equals to 1 from Dataset "
      ],
      "execution_count": null,
      "outputs": []
    },
    {
      "cell_type": "code",
      "metadata": {
        "id": "Zx2H7bWZ_wje"
      },
      "source": [
        "non_fraud=credit_data[credit_data['Class']==0]"
      ],
      "execution_count": null,
      "outputs": []
    },
    {
      "cell_type": "code",
      "metadata": {
        "colab": {
          "base_uri": "https://localhost:8080/"
        },
        "id": "U7RaHPkPABXM",
        "outputId": "a3f08a51-c1fb-4e3f-fc11-feacaea9c833"
      },
      "source": [
        "fraud.shape, non_fraud.shape"
      ],
      "execution_count": null,
      "outputs": [
        {
          "output_type": "execute_result",
          "data": {
            "text/plain": [
              "((492, 31), (284315, 31))"
            ]
          },
          "metadata": {
            "tags": []
          },
          "execution_count": 133
        }
      ]
    },
    {
      "cell_type": "code",
      "metadata": {
        "id": "yAbP3UqvA3DQ"
      },
      "source": [
        "non_fraud=non_fraud.sample(3*fraud.shape[0])\n",
        "data = fraud.append(non_fraud, ignore_index=True)"
      ],
      "execution_count": null,
      "outputs": []
    },
    {
      "cell_type": "code",
      "metadata": {
        "colab": {
          "base_uri": "https://localhost:8080/"
        },
        "id": "FJx7E31SDZe2",
        "outputId": "1fc2bfe4-ed12-41bb-ef18-bec11cf0237e"
      },
      "source": [
        "fraud.shape, non_fraud.shape"
      ],
      "execution_count": null,
      "outputs": [
        {
          "output_type": "execute_result",
          "data": {
            "text/plain": [
              "((492, 31), (1476, 31))"
            ]
          },
          "metadata": {
            "tags": []
          },
          "execution_count": 135
        }
      ]
    },
    {
      "cell_type": "markdown",
      "metadata": {
        "id": "NHL0oO1TOF-V"
      },
      "source": [
        "## 5.Splitting Data "
      ]
    },
    {
      "cell_type": "code",
      "metadata": {
        "id": "daRIIE52OF-X"
      },
      "source": [
        "train_data = credit_data.sample(frac= 0.7, random_state=125)\n",
        "test_data =  credit_data.drop(train_data.index)"
      ],
      "execution_count": null,
      "outputs": []
    },
    {
      "cell_type": "code",
      "metadata": {
        "id": "ispYNNFBPM1A"
      },
      "source": [
        "train_labels = train_data.iloc[:,-1]\n",
        "train_data = train_data.iloc[:,0:-1]\n",
        "test_labels = test_data.iloc[:,-1]\n",
        "test_data = test_data.iloc[:,0:-1]"
      ],
      "execution_count": null,
      "outputs": []
    },
    {
      "cell_type": "code",
      "metadata": {
        "id": "X_KAwe7HPM1B"
      },
      "source": [
        "train_mean = train_data.mean(axis=0) # taking the mean of \n",
        "train_data -= train_mean\n",
        "train_std = train_data.std(axis=0)\n",
        "train_data /= train_std\n",
        "test_data -= train_mean\n",
        "test_data /= train_std"
      ],
      "execution_count": null,
      "outputs": []
    },
    {
      "cell_type": "code",
      "metadata": {
        "colab": {
          "base_uri": "https://localhost:8080/",
          "height": 402
        },
        "id": "Qw4_s4XdPM1C",
        "outputId": "cf4461b5-dcaa-48b7-bd06-0eb63f5b6949"
      },
      "source": [
        "train_data.describe()"
      ],
      "execution_count": null,
      "outputs": [
        {
          "output_type": "execute_result",
          "data": {
            "text/html": [
              "<div>\n",
              "<style scoped>\n",
              "    .dataframe tbody tr th:only-of-type {\n",
              "        vertical-align: middle;\n",
              "    }\n",
              "\n",
              "    .dataframe tbody tr th {\n",
              "        vertical-align: top;\n",
              "    }\n",
              "\n",
              "    .dataframe thead th {\n",
              "        text-align: right;\n",
              "    }\n",
              "</style>\n",
              "<table border=\"1\" class=\"dataframe\">\n",
              "  <thead>\n",
              "    <tr style=\"text-align: right;\">\n",
              "      <th></th>\n",
              "      <th>Time</th>\n",
              "      <th>V1</th>\n",
              "      <th>V2</th>\n",
              "      <th>V3</th>\n",
              "      <th>V4</th>\n",
              "      <th>V5</th>\n",
              "      <th>V6</th>\n",
              "      <th>V7</th>\n",
              "      <th>V8</th>\n",
              "      <th>V9</th>\n",
              "      <th>V10</th>\n",
              "      <th>V11</th>\n",
              "      <th>V12</th>\n",
              "      <th>V13</th>\n",
              "      <th>V14</th>\n",
              "      <th>V15</th>\n",
              "      <th>V16</th>\n",
              "      <th>V17</th>\n",
              "      <th>V18</th>\n",
              "      <th>V19</th>\n",
              "      <th>V20</th>\n",
              "      <th>V21</th>\n",
              "      <th>V22</th>\n",
              "      <th>V23</th>\n",
              "      <th>V24</th>\n",
              "      <th>V25</th>\n",
              "      <th>V26</th>\n",
              "      <th>V27</th>\n",
              "      <th>V28</th>\n",
              "      <th>Amount</th>\n",
              "    </tr>\n",
              "  </thead>\n",
              "  <tbody>\n",
              "    <tr>\n",
              "      <th>count</th>\n",
              "      <td>1.993650e+05</td>\n",
              "      <td>1.993650e+05</td>\n",
              "      <td>1.993650e+05</td>\n",
              "      <td>1.993650e+05</td>\n",
              "      <td>1.993650e+05</td>\n",
              "      <td>1.993650e+05</td>\n",
              "      <td>1.993650e+05</td>\n",
              "      <td>1.993650e+05</td>\n",
              "      <td>1.993650e+05</td>\n",
              "      <td>1.993650e+05</td>\n",
              "      <td>1.993650e+05</td>\n",
              "      <td>1.993650e+05</td>\n",
              "      <td>1.993650e+05</td>\n",
              "      <td>1.993650e+05</td>\n",
              "      <td>1.993650e+05</td>\n",
              "      <td>1.993650e+05</td>\n",
              "      <td>1.993650e+05</td>\n",
              "      <td>1.993650e+05</td>\n",
              "      <td>1.993650e+05</td>\n",
              "      <td>1.993650e+05</td>\n",
              "      <td>1.993650e+05</td>\n",
              "      <td>1.993650e+05</td>\n",
              "      <td>1.993650e+05</td>\n",
              "      <td>1.993650e+05</td>\n",
              "      <td>1.993650e+05</td>\n",
              "      <td>1.993650e+05</td>\n",
              "      <td>1.993650e+05</td>\n",
              "      <td>1.993650e+05</td>\n",
              "      <td>1.993650e+05</td>\n",
              "      <td>1.993650e+05</td>\n",
              "    </tr>\n",
              "    <tr>\n",
              "      <th>mean</th>\n",
              "      <td>-3.925890e-17</td>\n",
              "      <td>1.192975e-17</td>\n",
              "      <td>-8.433775e-17</td>\n",
              "      <td>-1.323682e-17</td>\n",
              "      <td>6.850315e-19</td>\n",
              "      <td>3.234273e-17</td>\n",
              "      <td>-1.428730e-17</td>\n",
              "      <td>3.417682e-17</td>\n",
              "      <td>1.023879e-17</td>\n",
              "      <td>-5.292511e-17</td>\n",
              "      <td>-2.039572e-18</td>\n",
              "      <td>-3.025081e-17</td>\n",
              "      <td>5.765931e-18</td>\n",
              "      <td>2.884142e-17</td>\n",
              "      <td>-2.952019e-17</td>\n",
              "      <td>4.409818e-17</td>\n",
              "      <td>6.332278e-18</td>\n",
              "      <td>-2.186532e-17</td>\n",
              "      <td>1.019201e-17</td>\n",
              "      <td>-4.480987e-17</td>\n",
              "      <td>-3.723306e-17</td>\n",
              "      <td>7.057530e-17</td>\n",
              "      <td>-4.741273e-18</td>\n",
              "      <td>-3.023104e-17</td>\n",
              "      <td>-1.216448e-17</td>\n",
              "      <td>1.405035e-17</td>\n",
              "      <td>-7.258369e-18</td>\n",
              "      <td>-7.778164e-18</td>\n",
              "      <td>8.301653e-17</td>\n",
              "      <td>-2.569235e-14</td>\n",
              "    </tr>\n",
              "    <tr>\n",
              "      <th>std</th>\n",
              "      <td>1.000000e+00</td>\n",
              "      <td>1.000000e+00</td>\n",
              "      <td>1.000000e+00</td>\n",
              "      <td>1.000000e+00</td>\n",
              "      <td>1.000000e+00</td>\n",
              "      <td>1.000000e+00</td>\n",
              "      <td>1.000000e+00</td>\n",
              "      <td>1.000000e+00</td>\n",
              "      <td>1.000000e+00</td>\n",
              "      <td>1.000000e+00</td>\n",
              "      <td>1.000000e+00</td>\n",
              "      <td>1.000000e+00</td>\n",
              "      <td>1.000000e+00</td>\n",
              "      <td>1.000000e+00</td>\n",
              "      <td>1.000000e+00</td>\n",
              "      <td>1.000000e+00</td>\n",
              "      <td>1.000000e+00</td>\n",
              "      <td>1.000000e+00</td>\n",
              "      <td>1.000000e+00</td>\n",
              "      <td>1.000000e+00</td>\n",
              "      <td>1.000000e+00</td>\n",
              "      <td>1.000000e+00</td>\n",
              "      <td>1.000000e+00</td>\n",
              "      <td>1.000000e+00</td>\n",
              "      <td>1.000000e+00</td>\n",
              "      <td>1.000000e+00</td>\n",
              "      <td>1.000000e+00</td>\n",
              "      <td>1.000000e+00</td>\n",
              "      <td>1.000000e+00</td>\n",
              "      <td>1.000000e+00</td>\n",
              "    </tr>\n",
              "    <tr>\n",
              "      <th>min</th>\n",
              "      <td>-1.996238e+00</td>\n",
              "      <td>-2.881577e+01</td>\n",
              "      <td>-4.380082e+01</td>\n",
              "      <td>-2.231191e+01</td>\n",
              "      <td>-4.013093e+00</td>\n",
              "      <td>-3.077713e+01</td>\n",
              "      <td>-1.967242e+01</td>\n",
              "      <td>-2.608873e+01</td>\n",
              "      <td>-6.094208e+01</td>\n",
              "      <td>-8.635701e+00</td>\n",
              "      <td>-2.054552e+01</td>\n",
              "      <td>-4.706365e+00</td>\n",
              "      <td>-1.863770e+01</td>\n",
              "      <td>-5.817337e+00</td>\n",
              "      <td>-2.010925e+01</td>\n",
              "      <td>-4.792564e+00</td>\n",
              "      <td>-1.615229e+01</td>\n",
              "      <td>-2.993154e+01</td>\n",
              "      <td>-1.115310e+01</td>\n",
              "      <td>-8.850710e+00</td>\n",
              "      <td>-3.621936e+01</td>\n",
              "      <td>-4.744429e+01</td>\n",
              "      <td>-1.506365e+01</td>\n",
              "      <td>-7.164264e+01</td>\n",
              "      <td>-4.694145e+00</td>\n",
              "      <td>-1.973419e+01</td>\n",
              "      <td>-5.398327e+00</td>\n",
              "      <td>-5.668279e+01</td>\n",
              "      <td>-3.556585e+01</td>\n",
              "      <td>-3.533628e-01</td>\n",
              "    </tr>\n",
              "    <tr>\n",
              "      <th>25%</th>\n",
              "      <td>-8.565564e-01</td>\n",
              "      <td>-4.702602e-01</td>\n",
              "      <td>-3.606746e-01</td>\n",
              "      <td>-5.923400e-01</td>\n",
              "      <td>-5.984836e-01</td>\n",
              "      <td>-5.053654e-01</td>\n",
              "      <td>-5.774662e-01</td>\n",
              "      <td>-4.563401e-01</td>\n",
              "      <td>-1.723074e-01</td>\n",
              "      <td>-5.863533e-01</td>\n",
              "      <td>-4.950254e-01</td>\n",
              "      <td>-7.461583e-01</td>\n",
              "      <td>-4.080998e-01</td>\n",
              "      <td>-6.527561e-01</td>\n",
              "      <td>-4.452935e-01</td>\n",
              "      <td>-6.389066e-01</td>\n",
              "      <td>-5.345845e-01</td>\n",
              "      <td>-5.768045e-01</td>\n",
              "      <td>-5.970581e-01</td>\n",
              "      <td>-5.600998e-01</td>\n",
              "      <td>-2.749508e-01</td>\n",
              "      <td>-3.122364e-01</td>\n",
              "      <td>-7.488500e-01</td>\n",
              "      <td>-2.602047e-01</td>\n",
              "      <td>-5.862328e-01</td>\n",
              "      <td>-6.083067e-01</td>\n",
              "      <td>-6.773241e-01</td>\n",
              "      <td>-1.772374e-01</td>\n",
              "      <td>-1.603271e-01</td>\n",
              "      <td>-3.307569e-01</td>\n",
              "    </tr>\n",
              "    <tr>\n",
              "      <th>50%</th>\n",
              "      <td>-2.130830e-01</td>\n",
              "      <td>8.723818e-03</td>\n",
              "      <td>4.110953e-02</td>\n",
              "      <td>1.182160e-01</td>\n",
              "      <td>-1.431255e-02</td>\n",
              "      <td>-4.240449e-02</td>\n",
              "      <td>-2.059559e-01</td>\n",
              "      <td>3.393187e-02</td>\n",
              "      <td>2.010205e-02</td>\n",
              "      <td>-4.594891e-02</td>\n",
              "      <td>-8.619985e-02</td>\n",
              "      <td>-3.137459e-02</td>\n",
              "      <td>1.403885e-01</td>\n",
              "      <td>-1.362505e-02</td>\n",
              "      <td>5.218559e-02</td>\n",
              "      <td>5.246476e-02</td>\n",
              "      <td>7.688645e-02</td>\n",
              "      <td>-7.948088e-02</td>\n",
              "      <td>-4.536037e-03</td>\n",
              "      <td>3.446898e-03</td>\n",
              "      <td>-8.117891e-02</td>\n",
              "      <td>-4.071204e-02</td>\n",
              "      <td>8.482173e-03</td>\n",
              "      <td>-1.897412e-02</td>\n",
              "      <td>6.710511e-02</td>\n",
              "      <td>3.354316e-02</td>\n",
              "      <td>-1.077466e-01</td>\n",
              "      <td>3.502735e-03</td>\n",
              "      <td>3.535937e-02</td>\n",
              "      <td>-2.656501e-01</td>\n",
              "    </tr>\n",
              "    <tr>\n",
              "      <th>75%</th>\n",
              "      <td>9.369135e-01</td>\n",
              "      <td>6.723102e-01</td>\n",
              "      <td>4.865339e-01</td>\n",
              "      <td>6.801713e-01</td>\n",
              "      <td>5.242022e-01</td>\n",
              "      <td>4.469652e-01</td>\n",
              "      <td>2.997099e-01</td>\n",
              "      <td>4.677158e-01</td>\n",
              "      <td>2.740379e-01</td>\n",
              "      <td>5.446123e-01</td>\n",
              "      <td>4.226581e-01</td>\n",
              "      <td>7.250534e-01</td>\n",
              "      <td>6.211084e-01</td>\n",
              "      <td>6.661494e-01</td>\n",
              "      <td>5.147750e-01</td>\n",
              "      <td>7.106283e-01</td>\n",
              "      <td>5.981735e-01</td>\n",
              "      <td>4.752293e-01</td>\n",
              "      <td>5.972795e-01</td>\n",
              "      <td>5.634491e-01</td>\n",
              "      <td>1.725646e-01</td>\n",
              "      <td>2.535142e-01</td>\n",
              "      <td>7.291346e-01</td>\n",
              "      <td>2.359462e-01</td>\n",
              "      <td>7.259779e-01</td>\n",
              "      <td>6.738489e-01</td>\n",
              "      <td>4.993406e-01</td>\n",
              "      <td>2.292346e-01</td>\n",
              "      <td>2.392303e-01</td>\n",
              "      <td>-4.509229e-02</td>\n",
              "    </tr>\n",
              "    <tr>\n",
              "      <th>max</th>\n",
              "      <td>1.640926e+00</td>\n",
              "      <td>1.253980e+00</td>\n",
              "      <td>1.138839e+01</td>\n",
              "      <td>6.215735e+00</td>\n",
              "      <td>1.190993e+01</td>\n",
              "      <td>2.541061e+01</td>\n",
              "      <td>1.798487e+01</td>\n",
              "      <td>3.618168e+01</td>\n",
              "      <td>1.665552e+01</td>\n",
              "      <td>1.423674e+01</td>\n",
              "      <td>2.198662e+01</td>\n",
              "      <td>1.179667e+01</td>\n",
              "      <td>7.883826e+00</td>\n",
              "      <td>4.588014e+00</td>\n",
              "      <td>1.101413e+01</td>\n",
              "      <td>6.314669e+00</td>\n",
              "      <td>9.476573e+00</td>\n",
              "      <td>9.236457e+00</td>\n",
              "      <td>6.021019e+00</td>\n",
              "      <td>6.855582e+00</td>\n",
              "      <td>5.097338e+01</td>\n",
              "      <td>3.705359e+01</td>\n",
              "      <td>1.447106e+01</td>\n",
              "      <td>3.530815e+01</td>\n",
              "      <td>6.639070e+00</td>\n",
              "      <td>1.441270e+01</td>\n",
              "      <td>7.291280e+00</td>\n",
              "      <td>3.052668e+01</td>\n",
              "      <td>1.027995e+02</td>\n",
              "      <td>7.801613e+01</td>\n",
              "    </tr>\n",
              "  </tbody>\n",
              "</table>\n",
              "</div>"
            ],
            "text/plain": [
              "               Time            V1  ...           V28        Amount\n",
              "count  1.993650e+05  1.993650e+05  ...  1.993650e+05  1.993650e+05\n",
              "mean  -3.925890e-17  1.192975e-17  ...  8.301653e-17 -2.569235e-14\n",
              "std    1.000000e+00  1.000000e+00  ...  1.000000e+00  1.000000e+00\n",
              "min   -1.996238e+00 -2.881577e+01  ... -3.556585e+01 -3.533628e-01\n",
              "25%   -8.565564e-01 -4.702602e-01  ... -1.603271e-01 -3.307569e-01\n",
              "50%   -2.130830e-01  8.723818e-03  ...  3.535937e-02 -2.656501e-01\n",
              "75%    9.369135e-01  6.723102e-01  ...  2.392303e-01 -4.509229e-02\n",
              "max    1.640926e+00  1.253980e+00  ...  1.027995e+02  7.801613e+01\n",
              "\n",
              "[8 rows x 30 columns]"
            ]
          },
          "metadata": {
            "tags": []
          },
          "execution_count": 139
        }
      ]
    },
    {
      "cell_type": "code",
      "metadata": {
        "id": "yzDLzzK4PM1U"
      },
      "source": [
        "train_data = train_data.to_numpy()\n",
        "train_labels = train_labels.to_numpy().astype('float64')\n",
        "\n",
        "test_data = test_data.to_numpy()\n",
        "test_labels = test_labels.to_numpy().astype('float64')"
      ],
      "execution_count": null,
      "outputs": []
    },
    {
      "cell_type": "markdown",
      "metadata": {
        "id": "DFyrgv5MLq_G"
      },
      "source": [
        "## 6.Modelling "
      ]
    },
    {
      "cell_type": "code",
      "metadata": {
        "id": "S_ePJyXIhzSp"
      },
      "source": [
        "model = models.Sequential()\n",
        "model.add(layers.Dense(20, activation='relu',kernel_regularizer=regularizers.l2(0.001), input_shape=(train_data.shape[1],)))\n",
        "model.add(layers.Dropout(0.5))\n",
        "model.add(layers.Dense(10, activation='relu',kernel_regularizer=regularizers.l2(0.001)))\n",
        "model.add(layers.Dropout(0.5))\n",
        "model.add(layers.Dense(8, activation='relu',kernel_regularizer=regularizers.l2(0.001)))\n",
        "model.add(layers.Dropout(0.5))\n",
        "model.add(layers.Dense(6, activation='relu',kernel_regularizer=regularizers.l2(0.001)))\n",
        "model.add(layers.Dropout(0.5))\n",
        "model.add(layers.Dense(1, activation='sigmoid'))\n"
      ],
      "execution_count": null,
      "outputs": []
    },
    {
      "cell_type": "markdown",
      "metadata": {
        "id": "GzqiUl4yL4eZ"
      },
      "source": [
        "## 7.Compilation Step \n",
        "(Note : Its a Binary problem , select loss , metrics according to it)\n"
      ]
    },
    {
      "cell_type": "code",
      "metadata": {
        "id": "SethJAoYMEZZ"
      },
      "source": [
        "model.compile(loss= 'binary_crossentropy', optimizer= 'rmsprop', metrics=['accuracy'])"
      ],
      "execution_count": null,
      "outputs": []
    },
    {
      "cell_type": "markdown",
      "metadata": {
        "id": "tXVpFNJfMRo-"
      },
      "source": [
        "## 8.Train the Model with 50 Epochs to avoid overfitting\n"
      ]
    },
    {
      "cell_type": "code",
      "metadata": {
        "id": "aNWmbq--hzSq",
        "colab": {
          "base_uri": "https://localhost:8080/"
        },
        "outputId": "a2c0dea5-52eb-4640-a0e0-4464d4ee88b3"
      },
      "source": [
        "history = model.fit(train_data, train_labels, epochs=50,validation_split = 0.3)"
      ],
      "execution_count": null,
      "outputs": [
        {
          "output_type": "stream",
          "text": [
            "Epoch 1/50\n",
            "4362/4362 [==============================] - 9s 2ms/step - loss: 0.1839 - accuracy: 0.9791 - val_loss: 0.0164 - val_accuracy: 0.9982\n",
            "Epoch 2/50\n",
            "4362/4362 [==============================] - 8s 2ms/step - loss: 0.0196 - accuracy: 0.9983 - val_loss: 0.0197 - val_accuracy: 0.9982\n",
            "Epoch 3/50\n",
            "4362/4362 [==============================] - 8s 2ms/step - loss: 0.0179 - accuracy: 0.9985 - val_loss: 0.0204 - val_accuracy: 0.9982\n",
            "Epoch 4/50\n",
            "4362/4362 [==============================] - 8s 2ms/step - loss: 0.0206 - accuracy: 0.9983 - val_loss: 0.0187 - val_accuracy: 0.9982\n",
            "Epoch 5/50\n",
            "4362/4362 [==============================] - 8s 2ms/step - loss: 0.0177 - accuracy: 0.9984 - val_loss: 0.0176 - val_accuracy: 0.9982\n",
            "Epoch 6/50\n",
            "4362/4362 [==============================] - 8s 2ms/step - loss: 0.0181 - accuracy: 0.9983 - val_loss: 0.0176 - val_accuracy: 0.9982\n",
            "Epoch 7/50\n",
            "4362/4362 [==============================] - 8s 2ms/step - loss: 0.0175 - accuracy: 0.9983 - val_loss: 0.0188 - val_accuracy: 0.9982\n",
            "Epoch 8/50\n",
            "4362/4362 [==============================] - 8s 2ms/step - loss: 0.0202 - accuracy: 0.9981 - val_loss: 0.0183 - val_accuracy: 0.9982\n",
            "Epoch 9/50\n",
            "4362/4362 [==============================] - 8s 2ms/step - loss: 0.0195 - accuracy: 0.9982 - val_loss: 0.0191 - val_accuracy: 0.9982\n",
            "Epoch 10/50\n",
            "4362/4362 [==============================] - 8s 2ms/step - loss: 0.0184 - accuracy: 0.9983 - val_loss: 0.0180 - val_accuracy: 0.9982\n",
            "Epoch 11/50\n",
            "4362/4362 [==============================] - 8s 2ms/step - loss: 0.0185 - accuracy: 0.9982 - val_loss: 0.0177 - val_accuracy: 0.9982\n",
            "Epoch 12/50\n",
            "4362/4362 [==============================] - 8s 2ms/step - loss: 0.0173 - accuracy: 0.9984 - val_loss: 0.0176 - val_accuracy: 0.9982\n",
            "Epoch 13/50\n",
            "4362/4362 [==============================] - 8s 2ms/step - loss: 0.0182 - accuracy: 0.9983 - val_loss: 0.0171 - val_accuracy: 0.9982\n",
            "Epoch 14/50\n",
            "4362/4362 [==============================] - 8s 2ms/step - loss: 0.0169 - accuracy: 0.9984 - val_loss: 0.0179 - val_accuracy: 0.9982\n",
            "Epoch 15/50\n",
            "4362/4362 [==============================] - 8s 2ms/step - loss: 0.0172 - accuracy: 0.9983 - val_loss: 0.0185 - val_accuracy: 0.9982\n",
            "Epoch 16/50\n",
            "4362/4362 [==============================] - 8s 2ms/step - loss: 0.0165 - accuracy: 0.9984 - val_loss: 0.0180 - val_accuracy: 0.9982\n",
            "Epoch 17/50\n",
            "4362/4362 [==============================] - 8s 2ms/step - loss: 0.0168 - accuracy: 0.9984 - val_loss: 0.0184 - val_accuracy: 0.9982\n",
            "Epoch 18/50\n",
            "4362/4362 [==============================] - 8s 2ms/step - loss: 0.0168 - accuracy: 0.9984 - val_loss: 0.0178 - val_accuracy: 0.9982\n",
            "Epoch 19/50\n",
            "4362/4362 [==============================] - 8s 2ms/step - loss: 0.0172 - accuracy: 0.9984 - val_loss: 0.0179 - val_accuracy: 0.9982\n",
            "Epoch 20/50\n",
            "4362/4362 [==============================] - 8s 2ms/step - loss: 0.0169 - accuracy: 0.9984 - val_loss: 0.0182 - val_accuracy: 0.9982\n",
            "Epoch 21/50\n",
            "4362/4362 [==============================] - 8s 2ms/step - loss: 0.0193 - accuracy: 0.9981 - val_loss: 0.0185 - val_accuracy: 0.9982\n",
            "Epoch 22/50\n",
            "4362/4362 [==============================] - 8s 2ms/step - loss: 0.0168 - accuracy: 0.9984 - val_loss: 0.0175 - val_accuracy: 0.9982\n",
            "Epoch 23/50\n",
            "4362/4362 [==============================] - 8s 2ms/step - loss: 0.0162 - accuracy: 0.9985 - val_loss: 0.0177 - val_accuracy: 0.9982\n",
            "Epoch 24/50\n",
            "4362/4362 [==============================] - 8s 2ms/step - loss: 0.0182 - accuracy: 0.9982 - val_loss: 0.0178 - val_accuracy: 0.9982\n",
            "Epoch 25/50\n",
            "4362/4362 [==============================] - 8s 2ms/step - loss: 0.0172 - accuracy: 0.9984 - val_loss: 0.0173 - val_accuracy: 0.9982\n",
            "Epoch 26/50\n",
            "4362/4362 [==============================] - 8s 2ms/step - loss: 0.0161 - accuracy: 0.9984 - val_loss: 0.0179 - val_accuracy: 0.9982\n",
            "Epoch 27/50\n",
            "4362/4362 [==============================] - 8s 2ms/step - loss: 0.0153 - accuracy: 0.9985 - val_loss: 0.0181 - val_accuracy: 0.9982\n",
            "Epoch 28/50\n",
            "4362/4362 [==============================] - 8s 2ms/step - loss: 0.0189 - accuracy: 0.9982 - val_loss: 0.0191 - val_accuracy: 0.9982\n",
            "Epoch 29/50\n",
            "4362/4362 [==============================] - 8s 2ms/step - loss: 0.0181 - accuracy: 0.9983 - val_loss: 0.0183 - val_accuracy: 0.9982\n",
            "Epoch 30/50\n",
            "4362/4362 [==============================] - 8s 2ms/step - loss: 0.0175 - accuracy: 0.9984 - val_loss: 0.0168 - val_accuracy: 0.9982\n",
            "Epoch 31/50\n",
            "4362/4362 [==============================] - 8s 2ms/step - loss: 0.0188 - accuracy: 0.9982 - val_loss: 0.0185 - val_accuracy: 0.9982\n",
            "Epoch 32/50\n",
            "4362/4362 [==============================] - 8s 2ms/step - loss: 0.0178 - accuracy: 0.9983 - val_loss: 0.0177 - val_accuracy: 0.9982\n",
            "Epoch 33/50\n",
            "4362/4362 [==============================] - 8s 2ms/step - loss: 0.0166 - accuracy: 0.9984 - val_loss: 0.0184 - val_accuracy: 0.9982\n",
            "Epoch 34/50\n",
            "4362/4362 [==============================] - 8s 2ms/step - loss: 0.0177 - accuracy: 0.9983 - val_loss: 0.0186 - val_accuracy: 0.9982\n",
            "Epoch 35/50\n",
            "4362/4362 [==============================] - 8s 2ms/step - loss: 0.0178 - accuracy: 0.9983 - val_loss: 0.0183 - val_accuracy: 0.9982\n",
            "Epoch 36/50\n",
            "4362/4362 [==============================] - 8s 2ms/step - loss: 0.0189 - accuracy: 0.9982 - val_loss: 0.0181 - val_accuracy: 0.9982\n",
            "Epoch 37/50\n",
            "4362/4362 [==============================] - 8s 2ms/step - loss: 0.0173 - accuracy: 0.9984 - val_loss: 0.0168 - val_accuracy: 0.9982\n",
            "Epoch 38/50\n",
            "4362/4362 [==============================] - 8s 2ms/step - loss: 0.0188 - accuracy: 0.9982 - val_loss: 0.0176 - val_accuracy: 0.9982\n",
            "Epoch 39/50\n",
            "4362/4362 [==============================] - 8s 2ms/step - loss: 0.0171 - accuracy: 0.9984 - val_loss: 0.0173 - val_accuracy: 0.9982\n",
            "Epoch 40/50\n",
            "4362/4362 [==============================] - 8s 2ms/step - loss: 0.0183 - accuracy: 0.9983 - val_loss: 0.0174 - val_accuracy: 0.9982\n",
            "Epoch 41/50\n",
            "4362/4362 [==============================] - 8s 2ms/step - loss: 0.0185 - accuracy: 0.9982 - val_loss: 0.0179 - val_accuracy: 0.9982\n",
            "Epoch 42/50\n",
            "4362/4362 [==============================] - 8s 2ms/step - loss: 0.0187 - accuracy: 0.9982 - val_loss: 0.0184 - val_accuracy: 0.9982\n",
            "Epoch 43/50\n",
            "4362/4362 [==============================] - 8s 2ms/step - loss: 0.0173 - accuracy: 0.9984 - val_loss: 0.0178 - val_accuracy: 0.9982\n",
            "Epoch 44/50\n",
            "4362/4362 [==============================] - 8s 2ms/step - loss: 0.0170 - accuracy: 0.9984 - val_loss: 0.0180 - val_accuracy: 0.9982\n",
            "Epoch 45/50\n",
            "4362/4362 [==============================] - 8s 2ms/step - loss: 0.0182 - accuracy: 0.9982 - val_loss: 0.0178 - val_accuracy: 0.9982\n",
            "Epoch 46/50\n",
            "4362/4362 [==============================] - 8s 2ms/step - loss: 0.0185 - accuracy: 0.9982 - val_loss: 0.0178 - val_accuracy: 0.9982\n",
            "Epoch 47/50\n",
            "4362/4362 [==============================] - 8s 2ms/step - loss: 0.0176 - accuracy: 0.9983 - val_loss: 0.0188 - val_accuracy: 0.9982\n",
            "Epoch 48/50\n",
            "4362/4362 [==============================] - 8s 2ms/step - loss: 0.0164 - accuracy: 0.9984 - val_loss: 0.0169 - val_accuracy: 0.9982\n",
            "Epoch 49/50\n",
            "4362/4362 [==============================] - 8s 2ms/step - loss: 0.0165 - accuracy: 0.9983 - val_loss: 0.0180 - val_accuracy: 0.9982\n",
            "Epoch 50/50\n",
            "4362/4362 [==============================] - 8s 2ms/step - loss: 0.0170 - accuracy: 0.9983 - val_loss: 0.0193 - val_accuracy: 0.9982\n"
          ],
          "name": "stdout"
        }
      ]
    },
    {
      "cell_type": "code",
      "metadata": {
        "colab": {
          "base_uri": "https://localhost:8080/"
        },
        "id": "Iqvm7ne1FIba",
        "outputId": "1d8007cb-1901-463e-9f1b-9b80f746f0ea"
      },
      "source": [
        "loss, accuracy = model.evaluate(test_data, test_labels)"
      ],
      "execution_count": null,
      "outputs": [
        {
          "output_type": "stream",
          "text": [
            "2671/2671 [==============================] - 3s 1ms/step - loss: 0.0196 - accuracy: 0.9982\n"
          ],
          "name": "stdout"
        }
      ]
    },
    {
      "cell_type": "code",
      "metadata": {
        "colab": {
          "base_uri": "https://localhost:8080/"
        },
        "id": "C9zNGJojF3p8",
        "outputId": "1afc493d-dedd-4228-98da-a3af09b6ee04"
      },
      "source": [
        "loss"
      ],
      "execution_count": null,
      "outputs": [
        {
          "output_type": "execute_result",
          "data": {
            "text/plain": [
              "0.019554458558559418"
            ]
          },
          "metadata": {
            "tags": []
          },
          "execution_count": 145
        }
      ]
    },
    {
      "cell_type": "code",
      "metadata": {
        "colab": {
          "base_uri": "https://localhost:8080/"
        },
        "id": "UCUql4clF7fg",
        "outputId": "453be5bd-8fe8-4fbe-bf80-09911c4e171f"
      },
      "source": [
        "accuracy"
      ],
      "execution_count": null,
      "outputs": [
        {
          "output_type": "execute_result",
          "data": {
            "text/plain": [
              "0.9982210397720337"
            ]
          },
          "metadata": {
            "tags": []
          },
          "execution_count": 146
        }
      ]
    },
    {
      "cell_type": "code",
      "metadata": {
        "id": "asjUNsqqhzSq",
        "colab": {
          "base_uri": "https://localhost:8080/"
        },
        "outputId": "86045b9c-f8f0-479c-b697-d80871cdccf0"
      },
      "source": [
        "history.history.keys()"
      ],
      "execution_count": null,
      "outputs": [
        {
          "output_type": "execute_result",
          "data": {
            "text/plain": [
              "dict_keys(['loss', 'accuracy', 'val_loss', 'val_accuracy'])"
            ]
          },
          "metadata": {
            "tags": []
          },
          "execution_count": 147
        }
      ]
    },
    {
      "cell_type": "markdown",
      "metadata": {
        "id": "wXUzD53oMzVn"
      },
      "source": [
        "## 9.Prediction should be > 92% \n"
      ]
    },
    {
      "cell_type": "code",
      "metadata": {
        "id": "QwpOgI-PhzSq"
      },
      "source": [
        "predictions = model.predict(test_data)"
      ],
      "execution_count": null,
      "outputs": []
    },
    {
      "cell_type": "code",
      "metadata": {
        "id": "EnfMYlf7hzSq"
      },
      "source": [
        "y_pred = (predictions > 0.5)"
      ],
      "execution_count": null,
      "outputs": []
    },
    {
      "cell_type": "code",
      "metadata": {
        "id": "hjUHhuVnhzSr"
      },
      "source": [
        "con = tf.math.confusion_matrix(\n",
        "    test_labels, y_pred, num_classes=2, weights=None, dtype=tf.dtypes.int32,\n",
        "    name=None\n",
        ")"
      ],
      "execution_count": null,
      "outputs": []
    },
    {
      "cell_type": "markdown",
      "metadata": {
        "id": "lnFL1uiJNB6r"
      },
      "source": [
        "## 10.Evaluation Step"
      ]
    },
    {
      "cell_type": "code",
      "metadata": {
        "id": "jRA-LTEnqO_g",
        "colab": {
          "base_uri": "https://localhost:8080/"
        },
        "outputId": "abf34e71-66ef-44f8-c885-36c2e069b232"
      },
      "source": [
        "test_loss_score, test_acc_score=model.evaluate(test_data, test_labels)"
      ],
      "execution_count": null,
      "outputs": [
        {
          "output_type": "stream",
          "text": [
            "2671/2671 [==============================] - 3s 1ms/step - loss: 0.0196 - accuracy: 0.9982\n"
          ],
          "name": "stdout"
        }
      ]
    },
    {
      "cell_type": "markdown",
      "metadata": {
        "id": "3QMoIv1gNHle"
      },
      "source": [
        "## 11.Prediction"
      ]
    },
    {
      "cell_type": "code",
      "metadata": {
        "id": "gxMCRun-qPIc",
        "colab": {
          "base_uri": "https://localhost:8080/"
        },
        "outputId": "241ee803-3901-42d8-eb5f-35fb92e6a3bc"
      },
      "source": [
        "predictions = model.predict(test_data)\n",
        "prediction "
      ],
      "execution_count": null,
      "outputs": [
        {
          "output_type": "execute_result",
          "data": {
            "text/plain": [
              "array([[0],\n",
              "       [0],\n",
              "       [0],\n",
              "       ...,\n",
              "       [0],\n",
              "       [0],\n",
              "       [0]], dtype=uint64)"
            ]
          },
          "metadata": {
            "tags": []
          },
          "execution_count": 153
        }
      ]
    },
    {
      "cell_type": "code",
      "metadata": {
        "id": "_XD-k7J6qZbB",
        "colab": {
          "base_uri": "https://localhost:8080/"
        },
        "outputId": "27e20508-81be-4325-ee00-e4dc216c3eee"
      },
      "source": [
        "y_pred = (predictions > 0.5)\n",
        "y_pred"
      ],
      "execution_count": null,
      "outputs": [
        {
          "output_type": "execute_result",
          "data": {
            "text/plain": [
              "array([[False],\n",
              "       [False],\n",
              "       [False],\n",
              "       ...,\n",
              "       [False],\n",
              "       [False],\n",
              "       [False]])"
            ]
          },
          "metadata": {
            "tags": []
          },
          "execution_count": 154
        }
      ]
    },
    {
      "cell_type": "markdown",
      "metadata": {
        "id": "BzWrJ_NHNvQ9"
      },
      "source": [
        "**<h4 align=\"right\"> AIC Deep Learning Assignment Submitted by : PIAIC101499 </h4>**\n",
        "\n",
        "\n"
      ]
    }
  ]
}