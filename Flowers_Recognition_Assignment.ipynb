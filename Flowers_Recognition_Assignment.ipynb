{
  "nbformat": 4,
  "nbformat_minor": 0,
  "metadata": {
    "accelerator": "TPU",
    "colab": {
      "name": "Flowers Recognition Assignment.ipynb",
      "provenance": [],
      "collapsed_sections": [],
      "toc_visible": true
    },
    "kernelspec": {
      "display_name": "Python 3",
      "name": "python3"
    }
  },
  "cells": [
    {
      "cell_type": "markdown",
      "metadata": {
        "id": "BXgJ6uT1NydQ"
      },
      "source": [
        "Assignment: Flowers Recognition <br>\n",
        "Dataset Description:<br>\n",
        "\n",
        "This dataset contains 4242 images of flowers.<br>\n",
        "The data collection is based on the data flicr, google images, yandex images.<br>\n",
        "You can use this datastet to recognize plants from the photo.<br>\n",
        "\n",
        "Attribute Information:<br>\n",
        "The pictures are divided into five classes: chamomile, tulip, rose, sunflower, dandelion.<br>\n",
        "For each class there are about 800 photos. Photos are not high resolution, about 320x240 pixels. <br>\n",
        "<b>Also explore how to resize images in tensorflow and then resize all the images to a same size. </b> <br>\n",
        "This is a Multiclass Classification Problem.<br>\n",
        "\n",
        "\n"
      ]
    },
    {
      "cell_type": "markdown",
      "metadata": {
        "id": "T7vy-ktuOKJH"
      },
      "source": [
        "WORKFLOW : <br>\n",
        "Load Data <br>\n",
        "Split into 60 and 40 ratio.<br>\n",
        "Encode labels.<br>\n",
        "Create Model<br>\n",
        "Compilation Step (Note : Its a Multiclass Classification problem , select loss , metrics according to it)<br>\n",
        "Train the Model.<br>\n",
        "If the model gets overfit tune your model by changing the units , No. of layers , epochs , add dropout layer or add Regularizer according to the need .<br>\n",
        "Prediction should be > 85%<br>\n",
        "Evaluation Step<br>\n",
        "Prediction<br>\n",
        "\n",
        "\n"
      ]
    },
    {
      "cell_type": "markdown",
      "metadata": {
        "id": "ri3Bg5qfPRic"
      },
      "source": [
        "Data : <br>\n",
        "https://drive.google.com/file/d/1-OX6wn5gA-bJpjPNfSyaYQLz-A-AB_uj/view?usp=sharing"
      ]
    },
    {
      "cell_type": "markdown",
      "metadata": {
        "id": "Z6i-UcM8w9Tu"
      },
      "source": [
        "## Mount Google Drive into Colab"
      ]
    },
    {
      "cell_type": "code",
      "metadata": {
        "id": "QQESnoqqg7aE",
        "colab": {
          "base_uri": "https://localhost:8080/"
        },
        "outputId": "e603f933-bd62-425d-c046-2de0833ce371"
      },
      "source": [
        "# mount google drive in to your Colab enviornment\n",
        "from google.colab import drive\n",
        "drive.mount('/content/drive')"
      ],
      "execution_count": 6,
      "outputs": [
        {
          "output_type": "stream",
          "text": [
            "Mounted at /content/drive\n"
          ],
          "name": "stdout"
        }
      ]
    },
    {
      "cell_type": "code",
      "metadata": {
        "id": "O0TdQC8_70kX"
      },
      "source": [
        "\n",
        "directory = '/content/drive/MyDrive/Colab_Notebooks/Quarter2_AIC/DL_Assignments/flowers'\n",
        "filetype = '/*.jpg'"
      ],
      "execution_count": 13,
      "outputs": []
    },
    {
      "cell_type": "markdown",
      "metadata": {
        "id": "5sdCzKNKIoGe"
      },
      "source": [
        "## Importing Libraries"
      ]
    },
    {
      "cell_type": "code",
      "metadata": {
        "id": "KAu3rV8D70k-"
      },
      "source": [
        "import numpy as np\n",
        "import pandas as pd\n",
        "import tensorflow as tf\n",
        "import matplotlib.pyplot as plt\n",
        "from os import listdir\n",
        "import os\n",
        "from os.path import join\n",
        "import cv2\n",
        "import pathlib\n",
        "from pathlib import Path"
      ],
      "execution_count": 12,
      "outputs": []
    },
    {
      "cell_type": "markdown",
      "metadata": {
        "id": "ce0yW0C2JWSP"
      },
      "source": [
        "# Loading Data"
      ]
    },
    {
      "cell_type": "code",
      "metadata": {
        "colab": {
          "base_uri": "https://localhost:8080/",
          "height": 35
        },
        "id": "T1xJ3cHc4r4Z",
        "outputId": "803aebd5-1008-4c57-9d05-aa525af1327c"
      },
      "source": [
        "directory"
      ],
      "execution_count": 14,
      "outputs": [
        {
          "output_type": "execute_result",
          "data": {
            "application/vnd.google.colaboratory.intrinsic+json": {
              "type": "string"
            },
            "text/plain": [
              "'/content/drive/MyDrive/Colab_Notebooks/Quarter2_AIC/DL_Assignments/flowers'"
            ]
          },
          "metadata": {
            "tags": []
          },
          "execution_count": 14
        }
      ]
    },
    {
      "cell_type": "code",
      "metadata": {
        "colab": {
          "base_uri": "https://localhost:8080/"
        },
        "id": "iJqg8QEH8RPx",
        "outputId": "331c36fe-90d5-4598-8979-36196e49b081"
      },
      "source": [
        "folders = os.listdir(directory)\n",
        "print(folders)"
      ],
      "execution_count": 15,
      "outputs": [
        {
          "output_type": "stream",
          "text": [
            "['daisy', 'dandelion', 'rose', 'tulip', 'sunflower']\n"
          ],
          "name": "stdout"
        }
      ]
    },
    {
      "cell_type": "code",
      "metadata": {
        "id": "Kvwwodz2-893"
      },
      "source": [
        "image_names = []\n",
        "labels = []\n",
        "data_images = []\n",
        "\n",
        "size = 320, 240\n",
        "\n",
        "\n",
        "for folder in folders:\n",
        "    for file in os.listdir(os.path.join(directory,folder)):\n",
        "        if file.endswith(\"jpg\"):\n",
        "            image_names.append(os.path.join(directory,folder,file))\n",
        "            labels.append(folder)\n",
        "            img = cv2.imread(os.path.join(directory,folder,file) , cv2.IMREAD_GRAYSCALE)\n",
        "            im = cv2.resize(img,size)\n",
        "            data_images.append(im)\n",
        "        else:\n",
        "            continue"
      ],
      "execution_count": 16,
      "outputs": []
    },
    {
      "cell_type": "code",
      "metadata": {
        "colab": {
          "base_uri": "https://localhost:8080/",
          "height": 70
        },
        "id": "HApteXgB_ZVf",
        "outputId": "96250c02-355b-41fe-d1f8-6cc0694bd63b"
      },
      "source": [
        "display(len(labels))\n",
        "display(len(image_names))\n",
        "len(data_images)"
      ],
      "execution_count": 21,
      "outputs": [
        {
          "output_type": "display_data",
          "data": {
            "text/plain": [
              "4323"
            ]
          },
          "metadata": {
            "tags": []
          }
        },
        {
          "output_type": "display_data",
          "data": {
            "text/plain": [
              "4323"
            ]
          },
          "metadata": {
            "tags": []
          }
        },
        {
          "output_type": "execute_result",
          "data": {
            "text/plain": [
              "4323"
            ]
          },
          "metadata": {
            "tags": []
          },
          "execution_count": 21
        }
      ]
    },
    {
      "cell_type": "markdown",
      "metadata": {
        "id": "gdDnfSO9GzEa"
      },
      "source": [
        "## Mapping the String into numeric"
      ]
    },
    {
      "cell_type": "code",
      "metadata": {
        "id": "wXUkuDMDdOCx"
      },
      "source": [
        "\n",
        "df= pd.DataFrame(labels)\n",
        "labels=df[0].map({\"rose\":0,\"sunflower\":1,\"tulip\":2,\"daisy\":3,\"dandelion\":4})"
      ],
      "execution_count": 23,
      "outputs": []
    },
    {
      "cell_type": "code",
      "metadata": {
        "colab": {
          "base_uri": "https://localhost:8080/"
        },
        "id": "6MW6yz74U4Sy",
        "outputId": "27a07203-5809-420b-ac3d-0bfd9178b8d6"
      },
      "source": [
        "labels"
      ],
      "execution_count": 26,
      "outputs": [
        {
          "output_type": "execute_result",
          "data": {
            "text/plain": [
              "0       3\n",
              "1       3\n",
              "2       3\n",
              "3       3\n",
              "4       3\n",
              "       ..\n",
              "4318    1\n",
              "4319    1\n",
              "4320    1\n",
              "4321    1\n",
              "4322    1\n",
              "Name: 0, Length: 4323, dtype: int64"
            ]
          },
          "metadata": {
            "tags": []
          },
          "execution_count": 26
        }
      ]
    },
    {
      "cell_type": "code",
      "metadata": {
        "colab": {
          "base_uri": "https://localhost:8080/",
          "height": 35
        },
        "id": "ok31SVd0Uxod",
        "outputId": "20a83e9c-fdcb-4bfc-a990-9404b4fa0841"
      },
      "source": [
        "image_names[0]"
      ],
      "execution_count": 27,
      "outputs": [
        {
          "output_type": "execute_result",
          "data": {
            "application/vnd.google.colaboratory.intrinsic+json": {
              "type": "string"
            },
            "text/plain": [
              "'/content/drive/MyDrive/Colab_Notebooks/Quarter2_AIC/DL_Assignments/flowers/daisy/16577886423_9b23622f1d_n.jpg'"
            ]
          },
          "metadata": {
            "tags": []
          },
          "execution_count": 27
        }
      ]
    },
    {
      "cell_type": "code",
      "metadata": {
        "id": "qvpINziBU929",
        "colab": {
          "base_uri": "https://localhost:8080/"
        },
        "outputId": "efb21a03-ddbe-43bd-8f9b-d9528aca69dd"
      },
      "source": [
        "data_images[0]"
      ],
      "execution_count": 28,
      "outputs": [
        {
          "output_type": "execute_result",
          "data": {
            "text/plain": [
              "array([[17, 18, 18, ..., 27, 27, 27],\n",
              "       [17, 18, 18, ..., 28, 28, 28],\n",
              "       [17, 18, 18, ..., 29, 28, 28],\n",
              "       ...,\n",
              "       [ 1,  1,  1, ..., 15, 15, 15],\n",
              "       [ 1,  1,  1, ..., 16, 16, 16],\n",
              "       [ 1,  1,  1, ..., 17, 17, 17]], dtype=uint8)"
            ]
          },
          "metadata": {
            "tags": []
          },
          "execution_count": 28
        }
      ]
    },
    {
      "cell_type": "markdown",
      "metadata": {
        "id": "PHEClo3Nn8gX"
      },
      "source": [
        "## Data Preparation"
      ]
    },
    {
      "cell_type": "code",
      "metadata": {
        "id": "7TyHE2X-buSq"
      },
      "source": [
        "import sklearn\n",
        "\n",
        "from sklearn.model_selection import train_test_split\n",
        "x_train, x_test, y_train, y_test=  train_test_split (data_images, labels, test_size=.40, random_state=1)"
      ],
      "execution_count": null,
      "outputs": []
    },
    {
      "cell_type": "code",
      "metadata": {
        "id": "Q_5Pj237dx8d"
      },
      "source": [
        "x_train= np.asarray(x_train).astype(\"float32\")"
      ],
      "execution_count": null,
      "outputs": []
    },
    {
      "cell_type": "code",
      "metadata": {
        "id": "41pawDaldyAS"
      },
      "source": [
        "x_test= np.asarray(x_test).astype(\"float32\")"
      ],
      "execution_count": null,
      "outputs": []
    },
    {
      "cell_type": "code",
      "metadata": {
        "colab": {
          "base_uri": "https://localhost:8080/"
        },
        "id": "wPxgb1BDeURi",
        "outputId": "851eaa41-9138-4436-fa67-453fc1b29dae"
      },
      "source": [
        "x_train.shape #Shape of training data"
      ],
      "execution_count": null,
      "outputs": [
        {
          "output_type": "execute_result",
          "data": {
            "text/plain": [
              "(2593, 240, 320)"
            ]
          },
          "metadata": {
            "tags": []
          },
          "execution_count": 58
        }
      ]
    },
    {
      "cell_type": "code",
      "metadata": {
        "colab": {
          "base_uri": "https://localhost:8080/"
        },
        "id": "IgkfErW2egPE",
        "outputId": "ff5e6306-589d-41a3-e3da-41295e3ac144"
      },
      "source": [
        "y_train.shape #Shape of training label"
      ],
      "execution_count": null,
      "outputs": [
        {
          "output_type": "execute_result",
          "data": {
            "text/plain": [
              "(2593,)"
            ]
          },
          "metadata": {
            "tags": []
          },
          "execution_count": 59
        }
      ]
    },
    {
      "cell_type": "code",
      "metadata": {
        "colab": {
          "base_uri": "https://localhost:8080/"
        },
        "id": "vXoxOVfjeUYt",
        "outputId": "3a8f7728-b1a2-4991-9f16-2b4e91e64575"
      },
      "source": [
        "x_test.shape #Shape of testing data"
      ],
      "execution_count": null,
      "outputs": [
        {
          "output_type": "execute_result",
          "data": {
            "text/plain": [
              "(1730, 240, 320)"
            ]
          },
          "metadata": {
            "tags": []
          },
          "execution_count": 61
        }
      ]
    },
    {
      "cell_type": "code",
      "metadata": {
        "colab": {
          "base_uri": "https://localhost:8080/"
        },
        "id": "0km4ThFkeUgk",
        "outputId": "b060950b-b1b8-4bf5-a3fa-506e44f03a53"
      },
      "source": [
        "y_test.shape #Shape of testing label"
      ],
      "execution_count": null,
      "outputs": [
        {
          "output_type": "execute_result",
          "data": {
            "text/plain": [
              "(1730,)"
            ]
          },
          "metadata": {
            "tags": []
          },
          "execution_count": 62
        }
      ]
    },
    {
      "cell_type": "code",
      "metadata": {
        "id": "4TWcmXa2eUol"
      },
      "source": [
        "x_train= x_train.reshape(2593, 320*240)\n",
        "x_train"
      ],
      "execution_count": null,
      "outputs": []
    },
    {
      "cell_type": "code",
      "metadata": {
        "id": "oY9YDNAyfCAc"
      },
      "source": [
        "x_test= x_test.reshape(1730, 320*240)\n",
        "x_test"
      ],
      "execution_count": null,
      "outputs": []
    },
    {
      "cell_type": "code",
      "metadata": {
        "colab": {
          "base_uri": "https://localhost:8080/"
        },
        "id": "0BCMl7Wyg8Fl",
        "outputId": "72a570d1-209c-4b8d-b18e-6cd9f3f8d4a8"
      },
      "source": [
        "x_train[0]"
      ],
      "execution_count": null,
      "outputs": [
        {
          "output_type": "execute_result",
          "data": {
            "text/plain": [
              "array([169., 168., 167., ..., 166., 160., 162.], dtype=float32)"
            ]
          },
          "metadata": {
            "tags": []
          },
          "execution_count": 65
        }
      ]
    },
    {
      "cell_type": "code",
      "metadata": {
        "colab": {
          "base_uri": "https://localhost:8080/"
        },
        "id": "Z3534kZNg8Jx",
        "outputId": "70032a7c-43b3-4b50-b1f3-ecedaa4f167c"
      },
      "source": [
        "x_test[0]"
      ],
      "execution_count": null,
      "outputs": [
        {
          "output_type": "execute_result",
          "data": {
            "text/plain": [
              "array([ 94.,  95.,  95., ..., 143., 144., 143.], dtype=float32)"
            ]
          },
          "metadata": {
            "tags": []
          },
          "execution_count": 66
        }
      ]
    },
    {
      "cell_type": "markdown",
      "metadata": {
        "id": "afDoCi4ahVjC"
      },
      "source": [
        "## Normalising Data"
      ]
    },
    {
      "cell_type": "code",
      "metadata": {
        "colab": {
          "base_uri": "https://localhost:8080/"
        },
        "id": "-8RmyfCZhIZs",
        "outputId": "671625c8-8655-4988-ad00-1709c9eceff2"
      },
      "source": [
        "#normalize the data\n",
        "\n",
        "x_train= x_train/255.0\n",
        "x_train[0]"
      ],
      "execution_count": null,
      "outputs": [
        {
          "output_type": "execute_result",
          "data": {
            "text/plain": [
              "array([0.6627451 , 0.65882355, 0.654902  , ..., 0.6509804 , 0.627451  ,\n",
              "       0.63529414], dtype=float32)"
            ]
          },
          "metadata": {
            "tags": []
          },
          "execution_count": 67
        }
      ]
    },
    {
      "cell_type": "code",
      "metadata": {
        "colab": {
          "base_uri": "https://localhost:8080/"
        },
        "id": "FFUIVW3yhw8Y",
        "outputId": "883677f4-7905-4113-b8b5-1eb7546cdda1"
      },
      "source": [
        "x_test= x_test/255.0\n",
        "x_test[0]"
      ],
      "execution_count": null,
      "outputs": [
        {
          "output_type": "execute_result",
          "data": {
            "text/plain": [
              "array([0.36862746, 0.37254903, 0.37254903, ..., 0.56078434, 0.5647059 ,\n",
              "       0.56078434], dtype=float32)"
            ]
          },
          "metadata": {
            "tags": []
          },
          "execution_count": 68
        }
      ]
    },
    {
      "cell_type": "markdown",
      "metadata": {
        "id": "Xzvft9x4oHLV"
      },
      "source": [
        "## Data Encoding"
      ]
    },
    {
      "cell_type": "code",
      "metadata": {
        "id": "uUW6fIxFh84k"
      },
      "source": [
        "from keras.utils import to_categorical\n",
        "\n",
        "y_train= to_categorical(y_train)\n",
        "y_test= to_categorical(y_test)"
      ],
      "execution_count": null,
      "outputs": []
    },
    {
      "cell_type": "code",
      "metadata": {
        "id": "ZmNZvEvzHqr0"
      },
      "source": [
        ""
      ],
      "execution_count": null,
      "outputs": []
    },
    {
      "cell_type": "markdown",
      "metadata": {
        "id": "JUgbbcdt1gaf"
      },
      "source": [
        "# 1.Using Add Droupout Method"
      ]
    },
    {
      "cell_type": "code",
      "metadata": {
        "colab": {
          "base_uri": "https://localhost:8080/"
        },
        "id": "xbwCyXCi7i0L",
        "outputId": "707e109e-217b-467d-f21e-8ae55ad6d7b6"
      },
      "source": [
        "x_train.shape"
      ],
      "execution_count": null,
      "outputs": [
        {
          "output_type": "execute_result",
          "data": {
            "text/plain": [
              "(2593, 76800)"
            ]
          },
          "metadata": {
            "tags": []
          },
          "execution_count": 123
        }
      ]
    },
    {
      "cell_type": "code",
      "metadata": {
        "colab": {
          "base_uri": "https://localhost:8080/"
        },
        "id": "tI9ijN0o89Kk",
        "outputId": "895c8f41-b575-4343-a7a9-e5d1d6e46c55"
      },
      "source": [
        "y_train.shape"
      ],
      "execution_count": null,
      "outputs": [
        {
          "output_type": "execute_result",
          "data": {
            "text/plain": [
              "(2593, 5)"
            ]
          },
          "metadata": {
            "tags": []
          },
          "execution_count": 124
        }
      ]
    },
    {
      "cell_type": "markdown",
      "metadata": {
        "id": "PT-Iib2WH88j"
      },
      "source": [
        "### Model definition"
      ]
    },
    {
      "cell_type": "code",
      "metadata": {
        "id": "5l_BtWzAyKc0"
      },
      "source": [
        "from tensorflow.keras.models import Sequential\n",
        "from tensorflow.keras.layers import Dense, Dropout\n",
        "from keras.optimizers import Adam, RMSprop\n",
        "\n",
        "model = Sequential()\n",
        "model.add(Dense(256, activation='relu', input_shape = (x_train.shape[1],)))\n",
        "model.add(Dropout(0.3))\n",
        "model.add(Dense(128, activation='relu'))\n",
        "model.add(Dropout(0.3))\n",
        "model.add(Dense(64, activation='relu'))\n",
        "model.add(Dropout(0.3))\n",
        "model.add(Dense(32, activation='relu'))\n",
        "model.add(Dense(5, activation='softmax'))"
      ],
      "execution_count": null,
      "outputs": []
    },
    {
      "cell_type": "code",
      "metadata": {
        "id": "kKrzg4Ie6bQw"
      },
      "source": [
        "model.compile(optimizer=Adam(0.01), loss = 'categorical_crossentropy', metrics = ['accuracy'])"
      ],
      "execution_count": null,
      "outputs": []
    },
    {
      "cell_type": "code",
      "metadata": {
        "id": "H5TS3EFNyPgX",
        "colab": {
          "base_uri": "https://localhost:8080/"
        },
        "outputId": "328f1d87-7bab-4fa6-e0a9-be92e83cfea2"
      },
      "source": [
        "history=  model.fit(x_train, y_train, batch_size= 1, epochs= 20)"
      ],
      "execution_count": null,
      "outputs": [
        {
          "output_type": "stream",
          "text": [
            "Epoch 1/20\n",
            "2593/2593 [==============================] - 186s 71ms/step - loss: 65.6715 - accuracy: 0.1914\n",
            "Epoch 2/20\n",
            "2593/2593 [==============================] - 185s 72ms/step - loss: 1.9855 - accuracy: 0.2458\n",
            "Epoch 3/20\n",
            "2593/2593 [==============================] - 185s 71ms/step - loss: 1.6306 - accuracy: 0.2071\n",
            "Epoch 4/20\n",
            "2593/2593 [==============================] - 185s 72ms/step - loss: 1.6118 - accuracy: 0.2332\n",
            "Epoch 5/20\n",
            "2593/2593 [==============================] - 185s 71ms/step - loss: 1.6038 - accuracy: 0.2360\n",
            "Epoch 6/20\n",
            "2593/2593 [==============================] - 185s 71ms/step - loss: 1.6115 - accuracy: 0.2196\n",
            "Epoch 7/20\n",
            "2593/2593 [==============================] - 185s 71ms/step - loss: 1.6011 - accuracy: 0.2505\n",
            "Epoch 8/20\n",
            "2593/2593 [==============================] - 185s 71ms/step - loss: 1.6114 - accuracy: 0.2277\n",
            "Epoch 9/20\n",
            "2593/2593 [==============================] - 184s 71ms/step - loss: 1.6074 - accuracy: 0.2331\n",
            "Epoch 10/20\n",
            "2593/2593 [==============================] - 185s 71ms/step - loss: 1.6096 - accuracy: 0.2373\n",
            "Epoch 11/20\n",
            "2593/2593 [==============================] - 185s 71ms/step - loss: 1.6012 - accuracy: 0.2530\n",
            "Epoch 12/20\n",
            "2593/2593 [==============================] - 185s 71ms/step - loss: 1.6137 - accuracy: 0.2361\n",
            "Epoch 13/20\n",
            "2593/2593 [==============================] - 185s 71ms/step - loss: 1.6090 - accuracy: 0.2269\n",
            "Epoch 14/20\n",
            "2593/2593 [==============================] - 185s 71ms/step - loss: 1.6089 - accuracy: 0.2326\n",
            "Epoch 15/20\n",
            "2593/2593 [==============================] - 185s 71ms/step - loss: 1.6059 - accuracy: 0.2423\n",
            "Epoch 16/20\n",
            "2593/2593 [==============================] - 186s 72ms/step - loss: 1.6075 - accuracy: 0.2373\n",
            "Epoch 17/20\n",
            "2593/2593 [==============================] - 185s 72ms/step - loss: 1.6050 - accuracy: 0.2121\n",
            "Epoch 18/20\n",
            "2593/2593 [==============================] - 186s 72ms/step - loss: 1.6103 - accuracy: 0.2241\n",
            "Epoch 19/20\n",
            "2593/2593 [==============================] - 186s 72ms/step - loss: 1.6080 - accuracy: 0.2397\n",
            "Epoch 20/20\n",
            "2593/2593 [==============================] - 185s 71ms/step - loss: 1.6020 - accuracy: 0.2256\n"
          ],
          "name": "stdout"
        }
      ]
    },
    {
      "cell_type": "markdown",
      "metadata": {
        "id": "QHDXBcsVIEN7"
      },
      "source": [
        "### Plotting Loss and Accuracy"
      ]
    },
    {
      "cell_type": "code",
      "metadata": {
        "id": "JNDNcPNuzoJL",
        "colab": {
          "base_uri": "https://localhost:8080/",
          "height": 294
        },
        "outputId": "c6d207cf-dbb1-4a6d-c2f6-f99f7bb33224"
      },
      "source": [
        "\n",
        "history_dict = history.history\n",
        "loss_values = history_dict['loss']\n",
        "val_accuracy = history_dict['accuracy']\n",
        "epochs = range(1, len(history_dict['accuracy']) + 1)\n",
        "plt.plot(epochs, loss_values, 'r', label='loss')\n",
        "plt.plot(epochs, val_accuracy, 'b', label='accuracy')\n",
        "plt.title('loss and accuracy')\n",
        "plt.xlabel('Epochs')\n",
        "plt.ylabel('Loss')\n",
        "plt.legend()\n",
        "plt.grid()\n",
        "plt.show()"
      ],
      "execution_count": null,
      "outputs": [
        {
          "output_type": "display_data",
          "data": {
            "image/png": "[encoded data removed]",
            "text/plain": [
              "<Figure size 432x288 with 1 Axes>"
            ]
          },
          "metadata": {
            "tags": [],
            "needs_background": "light"
          }
        }
      ]
    },
    {
      "cell_type": "markdown",
      "metadata": {
        "id": "GvSk2_U4IJ6h"
      },
      "source": [
        "### Evaluation and Prediction"
      ]
    },
    {
      "cell_type": "code",
      "metadata": {
        "id": "8SDr2rZezoJO",
        "colab": {
          "base_uri": "https://localhost:8080/"
        },
        "outputId": "804bed0b-f2d0-4a0c-cf72-8479f9f9768d"
      },
      "source": [
        "results= model.evaluate(x_test, y_test)"
      ],
      "execution_count": null,
      "outputs": [
        {
          "output_type": "stream",
          "text": [
            "55/55 [==============================] - 2s 34ms/step - loss: 1.6034 - accuracy: 0.2486\n"
          ],
          "name": "stdout"
        }
      ]
    },
    {
      "cell_type": "code",
      "metadata": {
        "id": "BXeLYoQxF4vv"
      },
      "source": [
        "pred=network.predict(x_test)"
      ],
      "execution_count": null,
      "outputs": []
    },
    {
      "cell_type": "code",
      "metadata": {
        "colab": {
          "base_uri": "https://localhost:8080/"
        },
        "id": "Ql99t75HF4wK",
        "outputId": "d44bea1d-5164-483c-e11a-e4c6cd0d05c6"
      },
      "source": [
        "pred[0]"
      ],
      "execution_count": null,
      "outputs": [
        {
          "output_type": "execute_result",
          "data": {
            "text/plain": [
              "array([0.29899377, 0.03417077, 0.11019462, 0.18276   , 0.37388083],\n",
              "      dtype=float32)"
            ]
          },
          "metadata": {
            "tags": []
          },
          "execution_count": 132
        }
      ]
    },
    {
      "cell_type": "code",
      "metadata": {
        "colab": {
          "base_uri": "https://localhost:8080/"
        },
        "id": "_C5qNxgqF4wM",
        "outputId": "a9db5752-532b-4eea-e40b-7f70d308fff4"
      },
      "source": [
        "x_test[0]"
      ],
      "execution_count": null,
      "outputs": [
        {
          "output_type": "execute_result",
          "data": {
            "text/plain": [
              "array([0.36862746, 0.37254903, 0.37254903, ..., 0.56078434, 0.5647059 ,\n",
              "       0.56078434], dtype=float32)"
            ]
          },
          "metadata": {
            "tags": []
          },
          "execution_count": 133
        }
      ]
    },
    {
      "cell_type": "code",
      "metadata": {
        "colab": {
          "base_uri": "https://localhost:8080/"
        },
        "id": "roCutkgTF4wQ",
        "outputId": "68b7da5b-0254-472c-e803-ad0432c7c9d0"
      },
      "source": [
        "pred = network.predict_classes(x_test[:5])\n",
        "for i in range(len(pred)):\n",
        "    print(f\"Prediction = {pred[i]} Testing Data = {y_test[i]}\")"
      ],
      "execution_count": null,
      "outputs": [
        {
          "output_type": "stream",
          "text": [
            "Prediction = 4 Testing Data = [0. 1. 0. 0. 0.]\n",
            "Prediction = 0 Testing Data = [0. 0. 0. 0. 1.]\n",
            "Prediction = 2 Testing Data = [0. 0. 1. 0. 0.]\n",
            "Prediction = 1 Testing Data = [0. 0. 0. 0. 1.]\n",
            "Prediction = 2 Testing Data = [1. 0. 0. 0. 0.]\n"
          ],
          "name": "stdout"
        },
        {
          "output_type": "stream",
          "text": [
            "/usr/local/lib/python3.7/dist-packages/tensorflow/python/keras/engine/sequential.py:450: UserWarning: `model.predict_classes()` is deprecated and will be removed after 2021-01-01. Please use instead:* `np.argmax(model.predict(x), axis=-1)`,   if your model does multi-class classification   (e.g. if it uses a `softmax` last-layer activation).* `(model.predict(x) > 0.5).astype(\"int32\")`,   if your model does binary classification   (e.g. if it uses a `sigmoid` last-layer activation).\n",
            "  warnings.warn('`model.predict_classes()` is deprecated and '\n"
          ],
          "name": "stderr"
        }
      ]
    },
    {
      "cell_type": "markdown",
      "metadata": {
        "id": "10lYLDKsbkO6"
      },
      "source": [
        "# 2.Using Add Dropout Method (Better Results)"
      ]
    },
    {
      "cell_type": "markdown",
      "metadata": {
        "id": "wIJU0Kh0oSHL"
      },
      "source": [
        "### Model definition"
      ]
    },
    {
      "cell_type": "code",
      "metadata": {
        "id": "p51MrfZ6bkO8"
      },
      "source": [
        "from keras.models import Sequential\n",
        "from keras.layers import Dense, Dropout\n",
        "from keras.optimizers import Adam, RMSprop\n",
        "\n",
        "network=Sequential()\n",
        "network.add(Dense(256,activation=\"relu\",input_shape=(x_train.shape[1],)))\n",
        "network.add(Dropout(0.2))\n",
        "network.add(Dense(128,activation=\"relu\"))\n",
        "network.add(Dense(64,activation=\"relu\"))\n",
        "network.add(Dropout(0.2))\n",
        "network.add(Dense(5,activation=\"softmax\"))"
      ],
      "execution_count": 70,
      "outputs": []
    },
    {
      "cell_type": "code",
      "metadata": {
        "colab": {
          "base_uri": "https://localhost:8080/"
        },
        "id": "qvsnSkFbbkO9",
        "outputId": "e0ffdf2a-bec1-46ac-a30e-94ac8f52e7b8"
      },
      "source": [
        "network.compile(optimizer=RMSprop(0.0001), loss = 'categorical_crossentropy', metrics = ['accuracy'])\n",
        "history=  network.fit(x_train, y_train, batch_size= 20, epochs= 100)"
      ],
      "execution_count": 71,
      "outputs": [
        {
          "output_type": "stream",
          "text": [
            "Epoch 1/100\n",
            "130/130 [==============================] - 21s 151ms/step - loss: 2.9023 - accuracy: 0.2123\n",
            "Epoch 2/100\n",
            "130/130 [==============================] - 20s 150ms/step - loss: 1.6046 - accuracy: 0.2423\n",
            "Epoch 3/100\n",
            "130/130 [==============================] - 20s 151ms/step - loss: 1.6044 - accuracy: 0.2549\n",
            "Epoch 4/100\n",
            "130/130 [==============================] - 20s 151ms/step - loss: 1.5750 - accuracy: 0.2913\n",
            "Epoch 5/100\n",
            "130/130 [==============================] - 20s 151ms/step - loss: 1.5801 - accuracy: 0.2638\n",
            "Epoch 6/100\n",
            "130/130 [==============================] - 20s 150ms/step - loss: 1.5759 - accuracy: 0.2824\n",
            "Epoch 7/100\n",
            "130/130 [==============================] - 20s 151ms/step - loss: 1.5696 - accuracy: 0.2819\n",
            "Epoch 8/100\n",
            "130/130 [==============================] - 20s 151ms/step - loss: 1.5611 - accuracy: 0.2810\n",
            "Epoch 9/100\n",
            "130/130 [==============================] - 20s 151ms/step - loss: 1.5555 - accuracy: 0.2880\n",
            "Epoch 10/100\n",
            "130/130 [==============================] - 20s 151ms/step - loss: 1.5644 - accuracy: 0.2795\n",
            "Epoch 11/100\n",
            "130/130 [==============================] - 20s 151ms/step - loss: 1.5524 - accuracy: 0.2813\n",
            "Epoch 12/100\n",
            "130/130 [==============================] - 20s 151ms/step - loss: 1.5354 - accuracy: 0.2888\n",
            "Epoch 13/100\n",
            "130/130 [==============================] - 20s 151ms/step - loss: 1.5287 - accuracy: 0.2932\n",
            "Epoch 14/100\n",
            "130/130 [==============================] - 20s 151ms/step - loss: 1.5092 - accuracy: 0.3245\n",
            "Epoch 15/100\n",
            "130/130 [==============================] - 20s 151ms/step - loss: 1.5335 - accuracy: 0.3035\n",
            "Epoch 16/100\n",
            "130/130 [==============================] - 20s 151ms/step - loss: 1.5166 - accuracy: 0.3143\n",
            "Epoch 17/100\n",
            "130/130 [==============================] - 20s 151ms/step - loss: 1.5127 - accuracy: 0.2989\n",
            "Epoch 18/100\n",
            "130/130 [==============================] - 20s 151ms/step - loss: 1.5186 - accuracy: 0.3018\n",
            "Epoch 19/100\n",
            "130/130 [==============================] - 20s 152ms/step - loss: 1.5081 - accuracy: 0.3129\n",
            "Epoch 20/100\n",
            "130/130 [==============================] - 20s 152ms/step - loss: 1.4968 - accuracy: 0.3268\n",
            "Epoch 21/100\n",
            "130/130 [==============================] - 20s 152ms/step - loss: 1.4819 - accuracy: 0.3201\n",
            "Epoch 22/100\n",
            "130/130 [==============================] - 20s 153ms/step - loss: 1.4826 - accuracy: 0.3209\n",
            "Epoch 23/100\n",
            "130/130 [==============================] - 20s 154ms/step - loss: 1.4666 - accuracy: 0.3370\n",
            "Epoch 24/100\n",
            "130/130 [==============================] - 20s 152ms/step - loss: 1.4807 - accuracy: 0.3120\n",
            "Epoch 25/100\n",
            "130/130 [==============================] - 20s 152ms/step - loss: 1.4770 - accuracy: 0.3216\n",
            "Epoch 26/100\n",
            "130/130 [==============================] - 20s 152ms/step - loss: 1.4716 - accuracy: 0.3281\n",
            "Epoch 27/100\n",
            "130/130 [==============================] - 20s 151ms/step - loss: 1.4455 - accuracy: 0.3419\n",
            "Epoch 28/100\n",
            "130/130 [==============================] - 20s 151ms/step - loss: 1.4525 - accuracy: 0.3376\n",
            "Epoch 29/100\n",
            "130/130 [==============================] - 20s 152ms/step - loss: 1.4564 - accuracy: 0.3498\n",
            "Epoch 30/100\n",
            "130/130 [==============================] - 20s 152ms/step - loss: 1.4317 - accuracy: 0.3575\n",
            "Epoch 31/100\n",
            "130/130 [==============================] - 20s 152ms/step - loss: 1.4434 - accuracy: 0.3454\n",
            "Epoch 32/100\n",
            "130/130 [==============================] - 20s 151ms/step - loss: 1.4350 - accuracy: 0.3501\n",
            "Epoch 33/100\n",
            "130/130 [==============================] - 20s 152ms/step - loss: 1.4213 - accuracy: 0.3757\n",
            "Epoch 34/100\n",
            "130/130 [==============================] - 20s 151ms/step - loss: 1.4122 - accuracy: 0.3620\n",
            "Epoch 35/100\n",
            "130/130 [==============================] - 20s 151ms/step - loss: 1.4107 - accuracy: 0.3754\n",
            "Epoch 36/100\n",
            "130/130 [==============================] - 20s 152ms/step - loss: 1.4101 - accuracy: 0.3818\n",
            "Epoch 37/100\n",
            "130/130 [==============================] - 20s 151ms/step - loss: 1.4399 - accuracy: 0.3387\n",
            "Epoch 38/100\n",
            "130/130 [==============================] - 20s 152ms/step - loss: 1.3790 - accuracy: 0.3901\n",
            "Epoch 39/100\n",
            "130/130 [==============================] - 20s 151ms/step - loss: 1.3629 - accuracy: 0.3869\n",
            "Epoch 40/100\n",
            "130/130 [==============================] - 20s 153ms/step - loss: 1.3862 - accuracy: 0.3872\n",
            "Epoch 41/100\n",
            "130/130 [==============================] - 20s 153ms/step - loss: 1.3760 - accuracy: 0.3882\n",
            "Epoch 42/100\n",
            "130/130 [==============================] - 20s 153ms/step - loss: 1.3651 - accuracy: 0.3889\n",
            "Epoch 43/100\n",
            "130/130 [==============================] - 20s 154ms/step - loss: 1.3580 - accuracy: 0.3949\n",
            "Epoch 44/100\n",
            "130/130 [==============================] - 20s 154ms/step - loss: 1.3585 - accuracy: 0.3812\n",
            "Epoch 45/100\n",
            "130/130 [==============================] - 20s 154ms/step - loss: 1.3490 - accuracy: 0.4036\n",
            "Epoch 46/100\n",
            "130/130 [==============================] - 20s 155ms/step - loss: 1.3583 - accuracy: 0.4006\n",
            "Epoch 47/100\n",
            "130/130 [==============================] - 20s 155ms/step - loss: 1.3260 - accuracy: 0.4182\n",
            "Epoch 48/100\n",
            "130/130 [==============================] - 20s 153ms/step - loss: 1.3597 - accuracy: 0.3906\n",
            "Epoch 49/100\n",
            "130/130 [==============================] - 20s 153ms/step - loss: 1.3224 - accuracy: 0.4104\n",
            "Epoch 50/100\n",
            "130/130 [==============================] - 20s 154ms/step - loss: 1.3294 - accuracy: 0.4198\n",
            "Epoch 51/100\n",
            "130/130 [==============================] - 20s 155ms/step - loss: 1.2994 - accuracy: 0.4341\n",
            "Epoch 52/100\n",
            "130/130 [==============================] - 20s 155ms/step - loss: 1.2724 - accuracy: 0.4333\n",
            "Epoch 53/100\n",
            "130/130 [==============================] - 20s 154ms/step - loss: 1.2993 - accuracy: 0.4251\n",
            "Epoch 54/100\n",
            "130/130 [==============================] - 20s 155ms/step - loss: 1.3038 - accuracy: 0.4400\n",
            "Epoch 55/100\n",
            "130/130 [==============================] - 20s 155ms/step - loss: 1.2885 - accuracy: 0.4168\n",
            "Epoch 56/100\n",
            "130/130 [==============================] - 20s 154ms/step - loss: 1.2823 - accuracy: 0.4359\n",
            "Epoch 57/100\n",
            "130/130 [==============================] - 20s 154ms/step - loss: 1.2813 - accuracy: 0.4242\n",
            "Epoch 58/100\n",
            "130/130 [==============================] - 20s 154ms/step - loss: 1.2571 - accuracy: 0.4399\n",
            "Epoch 59/100\n",
            "130/130 [==============================] - 20s 155ms/step - loss: 1.2625 - accuracy: 0.4415\n",
            "Epoch 60/100\n",
            "130/130 [==============================] - 20s 154ms/step - loss: 1.3020 - accuracy: 0.4114\n",
            "Epoch 61/100\n",
            "130/130 [==============================] - 20s 154ms/step - loss: 1.2565 - accuracy: 0.4407\n",
            "Epoch 62/100\n",
            "130/130 [==============================] - 20s 154ms/step - loss: 1.2682 - accuracy: 0.4402\n",
            "Epoch 63/100\n",
            "130/130 [==============================] - 20s 154ms/step - loss: 1.2428 - accuracy: 0.4351\n",
            "Epoch 64/100\n",
            "130/130 [==============================] - 20s 153ms/step - loss: 1.2331 - accuracy: 0.4533\n",
            "Epoch 65/100\n",
            "130/130 [==============================] - 20s 154ms/step - loss: 1.2301 - accuracy: 0.4456\n",
            "Epoch 66/100\n",
            "130/130 [==============================] - 20s 154ms/step - loss: 1.2233 - accuracy: 0.4688\n",
            "Epoch 67/100\n",
            "130/130 [==============================] - 20s 154ms/step - loss: 1.2218 - accuracy: 0.4576\n",
            "Epoch 68/100\n",
            "130/130 [==============================] - 20s 154ms/step - loss: 1.1906 - accuracy: 0.4771\n",
            "Epoch 69/100\n",
            "130/130 [==============================] - 20s 154ms/step - loss: 1.2268 - accuracy: 0.4618\n",
            "Epoch 70/100\n",
            "130/130 [==============================] - 20s 153ms/step - loss: 1.2273 - accuracy: 0.4530\n",
            "Epoch 71/100\n",
            "130/130 [==============================] - 20s 155ms/step - loss: 1.2514 - accuracy: 0.4517\n",
            "Epoch 72/100\n",
            "130/130 [==============================] - 20s 154ms/step - loss: 1.2052 - accuracy: 0.4745\n",
            "Epoch 73/100\n",
            "130/130 [==============================] - 20s 155ms/step - loss: 1.1938 - accuracy: 0.4806\n",
            "Epoch 74/100\n",
            "130/130 [==============================] - 20s 155ms/step - loss: 1.2281 - accuracy: 0.4570\n",
            "Epoch 75/100\n",
            "130/130 [==============================] - 20s 154ms/step - loss: 1.1928 - accuracy: 0.4673\n",
            "Epoch 76/100\n",
            "130/130 [==============================] - 20s 154ms/step - loss: 1.1992 - accuracy: 0.4786\n",
            "Epoch 77/100\n",
            "130/130 [==============================] - 20s 153ms/step - loss: 1.1977 - accuracy: 0.4746\n",
            "Epoch 78/100\n",
            "130/130 [==============================] - 20s 152ms/step - loss: 1.1350 - accuracy: 0.5058\n",
            "Epoch 79/100\n",
            "130/130 [==============================] - 20s 152ms/step - loss: 1.2052 - accuracy: 0.4716\n",
            "Epoch 80/100\n",
            "130/130 [==============================] - 20s 153ms/step - loss: 1.1973 - accuracy: 0.4744\n",
            "Epoch 81/100\n",
            "130/130 [==============================] - 20s 153ms/step - loss: 1.1656 - accuracy: 0.4831\n",
            "Epoch 82/100\n",
            "130/130 [==============================] - 20s 153ms/step - loss: 1.1878 - accuracy: 0.4876\n",
            "Epoch 83/100\n",
            "130/130 [==============================] - 20s 152ms/step - loss: 1.1494 - accuracy: 0.4923\n",
            "Epoch 84/100\n",
            "130/130 [==============================] - 20s 152ms/step - loss: 1.1886 - accuracy: 0.4709\n",
            "Epoch 85/100\n",
            "130/130 [==============================] - 20s 152ms/step - loss: 1.1877 - accuracy: 0.4701\n",
            "Epoch 86/100\n",
            "130/130 [==============================] - 20s 153ms/step - loss: 1.1740 - accuracy: 0.4818\n",
            "Epoch 87/100\n",
            "130/130 [==============================] - 20s 153ms/step - loss: 1.1378 - accuracy: 0.5087\n",
            "Epoch 88/100\n",
            "130/130 [==============================] - 20s 154ms/step - loss: 1.1370 - accuracy: 0.4983\n",
            "Epoch 89/100\n",
            "130/130 [==============================] - 20s 153ms/step - loss: 1.1591 - accuracy: 0.4929\n",
            "Epoch 90/100\n",
            "130/130 [==============================] - 20s 152ms/step - loss: 1.1752 - accuracy: 0.4923\n",
            "Epoch 91/100\n",
            "130/130 [==============================] - 20s 153ms/step - loss: 1.1525 - accuracy: 0.5024\n",
            "Epoch 92/100\n",
            "130/130 [==============================] - 20s 152ms/step - loss: 1.1865 - accuracy: 0.4925\n",
            "Epoch 93/100\n",
            "130/130 [==============================] - 20s 153ms/step - loss: 1.1115 - accuracy: 0.5061\n",
            "Epoch 94/100\n",
            "130/130 [==============================] - 20s 152ms/step - loss: 1.1449 - accuracy: 0.4952\n",
            "Epoch 95/100\n",
            "130/130 [==============================] - 20s 153ms/step - loss: 1.1459 - accuracy: 0.4951\n",
            "Epoch 96/100\n",
            "130/130 [==============================] - 20s 153ms/step - loss: 1.1005 - accuracy: 0.5323\n",
            "Epoch 97/100\n",
            "130/130 [==============================] - 20s 152ms/step - loss: 1.1539 - accuracy: 0.4862\n",
            "Epoch 98/100\n",
            "130/130 [==============================] - 20s 153ms/step - loss: 1.1061 - accuracy: 0.5189\n",
            "Epoch 99/100\n",
            "130/130 [==============================] - 20s 153ms/step - loss: 1.0738 - accuracy: 0.5269\n",
            "Epoch 100/100\n",
            "130/130 [==============================] - 20s 153ms/step - loss: 1.0818 - accuracy: 0.5066\n"
          ],
          "name": "stdout"
        }
      ]
    },
    {
      "cell_type": "code",
      "metadata": {
        "colab": {
          "base_uri": "https://localhost:8080/"
        },
        "id": "cZuJLff4bkO_",
        "outputId": "9116e16c-edec-4711-b96e-eef05ae0544b"
      },
      "source": [
        "history_dict = history.history\n",
        "history_dict.keys()"
      ],
      "execution_count": 72,
      "outputs": [
        {
          "output_type": "execute_result",
          "data": {
            "text/plain": [
              "dict_keys(['loss', 'accuracy'])"
            ]
          },
          "metadata": {
            "tags": []
          },
          "execution_count": 72
        }
      ]
    },
    {
      "cell_type": "markdown",
      "metadata": {
        "id": "2FbEIzJ1odgZ"
      },
      "source": [
        "### Plotting Loss and Accuracy"
      ]
    },
    {
      "cell_type": "code",
      "metadata": {
        "colab": {
          "base_uri": "https://localhost:8080/",
          "height": 294
        },
        "id": "7MfHrj0NbkPA",
        "outputId": "c41dbd5b-e043-4a96-ea73-72150f528587"
      },
      "source": [
        "import matplotlib.pyplot as plt\n",
        "\n",
        "history_dict = history.history\n",
        "loss_values = history_dict['loss']\n",
        "val_accuracy = history_dict['accuracy']\n",
        "epochs = range(100)\n",
        "plt.plot(epochs, loss_values, 'r', label='loss')\n",
        "plt.plot(epochs, val_accuracy, 'b', label='accuracy')\n",
        "plt.title('loss and accuracy')\n",
        "plt.xlabel('Epochs')\n",
        "plt.ylabel('Loss')\n",
        "plt.legend()\n",
        "plt.grid()\n",
        "plt.show()"
      ],
      "execution_count": 74,
      "outputs": [
        {
          "output_type": "display_data",
          "data": {
            "image/png": "[encoded data removed]",
            "text/plain": [
              "<Figure size 432x288 with 1 Axes>"
            ]
          },
          "metadata": {
            "tags": [],
            "needs_background": "light"
          }
        }
      ]
    },
    {
      "cell_type": "markdown",
      "metadata": {
        "id": "MeQ6ta1Fojjm"
      },
      "source": [
        "### Evaluation and Prediction"
      ]
    },
    {
      "cell_type": "code",
      "metadata": {
        "colab": {
          "base_uri": "https://localhost:8080/"
        },
        "id": "At0XDkTzbkPB",
        "outputId": "0ecc8ea7-0d06-4e62-bacb-41e694764499"
      },
      "source": [
        "results= network.evaluate(x_test, y_test)"
      ],
      "execution_count": 80,
      "outputs": [
        {
          "output_type": "stream",
          "text": [
            "55/55 [==============================] - 2s 33ms/step - loss: 1.7791 - accuracy: 0.3058\n"
          ],
          "name": "stdout"
        }
      ]
    },
    {
      "cell_type": "code",
      "metadata": {
        "id": "gxB8zTCxuV26"
      },
      "source": [
        "pred=network.predict(x_test)"
      ],
      "execution_count": 104,
      "outputs": []
    },
    {
      "cell_type": "code",
      "metadata": {
        "colab": {
          "base_uri": "https://localhost:8080/"
        },
        "id": "pVyST3v9ufNI",
        "outputId": "c5d24108-c91b-4c5e-b1f3-73d903419d95"
      },
      "source": [
        "pred[0]"
      ],
      "execution_count": 102,
      "outputs": [
        {
          "output_type": "execute_result",
          "data": {
            "text/plain": [
              "array([0.29899377, 0.03417077, 0.11019462, 0.18276   , 0.37388083],\n",
              "      dtype=float32)"
            ]
          },
          "metadata": {
            "tags": []
          },
          "execution_count": 102
        }
      ]
    },
    {
      "cell_type": "code",
      "metadata": {
        "colab": {
          "base_uri": "https://localhost:8080/"
        },
        "id": "WMqyGQqKuu_9",
        "outputId": "716ddebd-7617-4779-9ce4-b6d763626b30"
      },
      "source": [
        "x_test[0]"
      ],
      "execution_count": 103,
      "outputs": [
        {
          "output_type": "execute_result",
          "data": {
            "text/plain": [
              "array([0.36862746, 0.37254903, 0.37254903, ..., 0.56078434, 0.5647059 ,\n",
              "       0.56078434], dtype=float32)"
            ]
          },
          "metadata": {
            "tags": []
          },
          "execution_count": 103
        }
      ]
    },
    {
      "cell_type": "code",
      "metadata": {
        "colab": {
          "base_uri": "https://localhost:8080/"
        },
        "id": "1o5j4C2YbkPC",
        "outputId": "68c31235-046c-48fe-897c-a0f756674126"
      },
      "source": [
        "pred = network.predict_classes(x_test[:5])\n",
        "for i in range(len(pred)):\n",
        "    print(f\"Prediction = {pred[i]} Testing Data = {y_test[i]}\")"
      ],
      "execution_count": 113,
      "outputs": [
        {
          "output_type": "stream",
          "text": [
            "Prediction = 4 Testing Data = [0. 1. 0. 0. 0.]\n",
            "Prediction = 0 Testing Data = [0. 0. 0. 0. 1.]\n",
            "Prediction = 2 Testing Data = [0. 0. 1. 0. 0.]\n",
            "Prediction = 1 Testing Data = [0. 0. 0. 0. 1.]\n",
            "Prediction = 2 Testing Data = [1. 0. 0. 0. 0.]\n"
          ],
          "name": "stdout"
        },
        {
          "output_type": "stream",
          "text": [
            "/usr/local/lib/python3.7/dist-packages/tensorflow/python/keras/engine/sequential.py:450: UserWarning: `model.predict_classes()` is deprecated and will be removed after 2021-01-01. Please use instead:* `np.argmax(model.predict(x), axis=-1)`,   if your model does multi-class classification   (e.g. if it uses a `softmax` last-layer activation).* `(model.predict(x) > 0.5).astype(\"int32\")`,   if your model does binary classification   (e.g. if it uses a `sigmoid` last-layer activation).\n",
            "  warnings.warn('`model.predict_classes()` is deprecated and '\n"
          ],
          "name": "stderr"
        }
      ]
    }
  ]
}