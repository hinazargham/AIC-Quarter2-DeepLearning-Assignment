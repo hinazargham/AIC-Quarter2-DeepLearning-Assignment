{
  "nbformat": 4,
  "nbformat_minor": 0,
  "metadata": {
    "kernelspec": {
      "display_name": "Python 3",
      "language": "python",
      "name": "python3"
    },
    "language_info": {
      "codemirror_mode": {
        "name": "ipython",
        "version": 3
      },
      "file_extension": ".py",
      "mimetype": "text/x-python",
      "name": "python",
      "nbconvert_exporter": "python",
      "pygments_lexer": "ipython3",
      "version": "3.7.3"
    },
    "colab": {
      "name": "Concrete Strength Assignment.ipynb",
      "provenance": [],
      "collapsed_sections": [],
      "toc_visible": true
    },
    "accelerator": "TPU"
  },
  "cells": [
    {
      "cell_type": "markdown",
      "metadata": {
        "id": "3W--tFOvazLr"
      },
      "source": [
        "# Assignment: Compresive Strength Concrete Problem\n",
        "\n",
        "\n",
        "### Abstract: \n",
        "\n",
        "Concrete is the most important material in civil engineering. The concrete compressive strength (concrete strength to bear the load) is a highly nonlinear function of age and ingredients.  <br><br>\n",
        "\n",
        "<table border=\"1\"  cellpadding=\"6\" bordercolor=\"red\">\n",
        "\t<tbody>\n",
        "        <tr>\n",
        "\t\t<td bgcolor=\"#DDEEFF\"><p class=\"normal\"><b>Data Set Characteristics:&nbsp;&nbsp;</b></p></td>\n",
        "\t\t<td><p class=\"normal\">Multivariate</p></td>\n",
        "\t\t<td bgcolor=\"#DDEEFF\"><p class=\"normal\"><b>Number of Instances:</b></p></td>\n",
        "\t\t<td><p class=\"normal\">1030</p></td>\n",
        "\t\t<td bgcolor=\"#DDEEFF\"><p class=\"normal\"><b>Area:</b></p></td>\n",
        "\t\t<td><p class=\"normal\">Physical</p></td>\n",
        "        </tr>\n",
        "     </tbody>\n",
        "    </table>\n",
        "<table border=\"1\" cellpadding=\"6\">\n",
        "    <tbody>\n",
        "        <tr>\n",
        "            <td bgcolor=\"#DDEEFF\"><p class=\"normal\"><b>Attribute Characteristics:</b></p></td>\n",
        "            <td><p class=\"normal\">Real</p></td>\n",
        "            <td bgcolor=\"#DDEEFF\"><p class=\"normal\"><b>Number of Attributes:</b></p></td>\n",
        "            <td><p class=\"normal\">9</p></td>\n",
        "            <td bgcolor=\"#DDEEFF\"><p class=\"normal\"><b>Date Donated</b></p></td>\n",
        "            <td><p class=\"normal\">2007-08-03</p></td>\n",
        "        </tr>\n",
        "     </tbody>\n",
        "    </table>\n",
        "<table border=\"1\" cellpadding=\"6\">\t\n",
        "    <tbody>\n",
        "    <tr>\n",
        "\t\t<td bgcolor=\"#DDEEFF\"><p class=\"normal\"><b>Associated Tasks:</b></p></td>\n",
        "\t\t<td><p class=\"normal\">Regression</p></td>\n",
        "\t\t<td bgcolor=\"#DDEEFF\"><p class=\"normal\"><b>Missing Values?</b></p></td>\n",
        "\t\t<td><p class=\"normal\">N/A</p></td>\n",
        "\t\t<td bgcolor=\"#DDEEFF\"><p class=\"normal\"><b>Number of Web Hits:</b></p></td>\n",
        "\t\t<td><p class=\"normal\">231464</p></td>\n",
        "\t</tr>\n",
        "    </tbody>\n",
        "    </table>"
      ]
    },
    {
      "cell_type": "markdown",
      "metadata": {
        "id": "b1XJfxhwazL1"
      },
      "source": [
        "###  Description:\n",
        "| Features Name | Data Type | Measurement | Description |\n",
        "| -- | -- | -- | -- |\n",
        "Cement (component 1) | quantitative | kg in a m3 mixture | Input Variable\n",
        "Blast Furnace Slag (component 2) | quantitative | kg in a m3 mixture | Input Variable\n",
        "Fly Ash (component 3) | quantitative | kg in a m3 mixture | Input Variable\n",
        "Water (component 4) | quantitative | kg in a m3 mixture | Input Variable\n",
        "Superplasticizer (component 5) | quantitative | kg in a m3 mixture | Input Variable\n",
        "Coarse Aggregate (component 6) | quantitative | kg in a m3 mixture | Input Variable\n",
        "Fine Aggregate (component 7) | quantitative | kg in a m3 mixture | Input Variable\n",
        "Age | quantitative | Day (1~365) | Input Variable\n",
        "Concrete compressive strength | quantitative | MPa | Output Variable\n",
        "\n",
        "### WORKFLOW :\n",
        "- Load Data\n",
        "- Check Missing Values ( If Exist ; Fill each record with mean of its feature )\n",
        "- Standardized the Input Variables. **Hint**: Centeralized the data\n",
        "- Split into 50% Training(Samples,Labels) , 30% Test(Samples,Labels) and 20% Validation Data(Samples,Labels).\n",
        "- Model : input Layer (No. of features ), 3 hidden layers including 10,8,6 unit & Output Layer with activation function relu/tanh (check by experiment).\n",
        "- Compilation Step (Note : Its a Regression problem , select loss , metrics according to it)\n",
        "- Train the Model with Epochs (100) and validate it\n",
        "- If the model gets overfit tune your model by changing the units , No. of layers , activation function , epochs , add dropout layer or add Regularizer according to the need .\n",
        "- Evaluation Step\n",
        "- Prediction\n"
      ]
    },
    {
      "cell_type": "markdown",
      "metadata": {
        "id": "wbk1BMmfazL4"
      },
      "source": [
        "# 1.Load Data:\n",
        "[Click Here to Download DataSet](https://github.com/ramsha275/ML_Datasets/blob/main/compresive_strength_concrete.csv)"
      ]
    },
    {
      "cell_type": "code",
      "metadata": {
        "colab": {
          "base_uri": "https://localhost:8080/"
        },
        "id": "7M-b5JMUazL5",
        "outputId": "92885819-f543-4e2f-c152-97928e6f015b"
      },
      "source": [
        "# mount google drive in to your Colab enviornment\n",
        "from google.colab import drive\n",
        "drive.mount('/content/drive')"
      ],
      "execution_count": 1,
      "outputs": [
        {
          "output_type": "stream",
          "text": [
            "Mounted at /content/drive\n"
          ],
          "name": "stdout"
        }
      ]
    },
    {
      "cell_type": "code",
      "metadata": {
        "colab": {
          "resources": {
            "http://localhost:8080/nbextensions/google.colab/files.js": {
              "data": "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",
              "ok": true,
              "headers": [
                [
                  "content-type",
                  "application/javascript"
                ]
              ],
              "status": 200,
              "status_text": ""
            }
          },
          "base_uri": "https://localhost:8080/",
          "height": 73
        },
        "id": "uDA8GuPlbfUL",
        "outputId": "8a0d6f17-3f52-41fb-a5dd-788dfbc6da9e"
      },
      "source": [
        "from google.colab import files\n",
        "uploaded = files.upload()"
      ],
      "execution_count": 4,
      "outputs": [
        {
          "output_type": "display_data",
          "data": {
            "text/html": [
              "\n",
              "     <input type=\"file\" id=\"files-1bf6ce49-a41b-4bca-93ef-283a330550bb\" name=\"files[]\" multiple disabled\n",
              "        style=\"border:none\" />\n",
              "     <output id=\"result-1bf6ce49-a41b-4bca-93ef-283a330550bb\">\n",
              "      Upload widget is only available when the cell has been executed in the\n",
              "      current browser session. Please rerun this cell to enable.\n",
              "      </output>\n",
              "      <script src=\"/nbextensions/google.colab/files.js\"></script> "
            ],
            "text/plain": [
              "<IPython.core.display.HTML object>"
            ]
          },
          "metadata": {
            "tags": []
          }
        },
        {
          "output_type": "stream",
          "text": [
            "Saving compresive_strength_concrete.csv to compresive_strength_concrete.csv\n"
          ],
          "name": "stdout"
        }
      ]
    },
    {
      "cell_type": "markdown",
      "metadata": {
        "id": "xghvTqT08hgj"
      },
      "source": [
        "# 2.Importing Libraries"
      ]
    },
    {
      "cell_type": "code",
      "metadata": {
        "id": "EENlF6n-xP4O"
      },
      "source": [
        "import numpy as np\n",
        "import pandas as pd\n",
        "import matplotlib.pyplot as plt\n",
        "from keras import models,layers"
      ],
      "execution_count": 67,
      "outputs": []
    },
    {
      "cell_type": "code",
      "metadata": {
        "colab": {
          "base_uri": "https://localhost:8080/",
          "height": 247
        },
        "id": "4cmOXbcRzap3",
        "outputId": "348d2c0b-17d5-4e4a-e951-cb64dfa0d98c"
      },
      "source": [
        "concrete_data = pd.read_csv('compresive_strength_concrete.csv')\n",
        "concrete_data.head()"
      ],
      "execution_count": 45,
      "outputs": [
        {
          "output_type": "execute_result",
          "data": {
            "text/html": [
              "<div>\n",
              "<style scoped>\n",
              "    .dataframe tbody tr th:only-of-type {\n",
              "        vertical-align: middle;\n",
              "    }\n",
              "\n",
              "    .dataframe tbody tr th {\n",
              "        vertical-align: top;\n",
              "    }\n",
              "\n",
              "    .dataframe thead th {\n",
              "        text-align: right;\n",
              "    }\n",
              "</style>\n",
              "<table border=\"1\" class=\"dataframe\">\n",
              "  <thead>\n",
              "    <tr style=\"text-align: right;\">\n",
              "      <th></th>\n",
              "      <th>Cement (component 1)(kg in a m^3 mixture)</th>\n",
              "      <th>Blast Furnace Slag (component 2)(kg in a m^3 mixture)</th>\n",
              "      <th>Fly Ash (component 3)(kg in a m^3 mixture)</th>\n",
              "      <th>Water  (component 4)(kg in a m^3 mixture)</th>\n",
              "      <th>Superplasticizer (component 5)(kg in a m^3 mixture)</th>\n",
              "      <th>Coarse Aggregate  (component 6)(kg in a m^3 mixture)</th>\n",
              "      <th>Fine Aggregate (component 7)(kg in a m^3 mixture)</th>\n",
              "      <th>Age (day)</th>\n",
              "      <th>Concrete compressive strength(MPa, megapascals)</th>\n",
              "    </tr>\n",
              "  </thead>\n",
              "  <tbody>\n",
              "    <tr>\n",
              "      <th>0</th>\n",
              "      <td>540.0</td>\n",
              "      <td>0.0</td>\n",
              "      <td>0.0</td>\n",
              "      <td>162.0</td>\n",
              "      <td>2.5</td>\n",
              "      <td>1040.0</td>\n",
              "      <td>676.0</td>\n",
              "      <td>28</td>\n",
              "      <td>79.99</td>\n",
              "    </tr>\n",
              "    <tr>\n",
              "      <th>1</th>\n",
              "      <td>540.0</td>\n",
              "      <td>0.0</td>\n",
              "      <td>0.0</td>\n",
              "      <td>162.0</td>\n",
              "      <td>2.5</td>\n",
              "      <td>1055.0</td>\n",
              "      <td>676.0</td>\n",
              "      <td>28</td>\n",
              "      <td>61.89</td>\n",
              "    </tr>\n",
              "    <tr>\n",
              "      <th>2</th>\n",
              "      <td>332.5</td>\n",
              "      <td>142.5</td>\n",
              "      <td>0.0</td>\n",
              "      <td>228.0</td>\n",
              "      <td>0.0</td>\n",
              "      <td>932.0</td>\n",
              "      <td>594.0</td>\n",
              "      <td>270</td>\n",
              "      <td>40.27</td>\n",
              "    </tr>\n",
              "    <tr>\n",
              "      <th>3</th>\n",
              "      <td>332.5</td>\n",
              "      <td>142.5</td>\n",
              "      <td>0.0</td>\n",
              "      <td>228.0</td>\n",
              "      <td>0.0</td>\n",
              "      <td>932.0</td>\n",
              "      <td>594.0</td>\n",
              "      <td>365</td>\n",
              "      <td>41.05</td>\n",
              "    </tr>\n",
              "    <tr>\n",
              "      <th>4</th>\n",
              "      <td>198.6</td>\n",
              "      <td>132.4</td>\n",
              "      <td>0.0</td>\n",
              "      <td>192.0</td>\n",
              "      <td>0.0</td>\n",
              "      <td>978.4</td>\n",
              "      <td>825.5</td>\n",
              "      <td>360</td>\n",
              "      <td>44.30</td>\n",
              "    </tr>\n",
              "  </tbody>\n",
              "</table>\n",
              "</div>"
            ],
            "text/plain": [
              "   Cement (component 1)(kg in a m^3 mixture)  ...  Concrete compressive strength(MPa, megapascals) \n",
              "0                                      540.0  ...                                             79.99\n",
              "1                                      540.0  ...                                             61.89\n",
              "2                                      332.5  ...                                             40.27\n",
              "3                                      332.5  ...                                             41.05\n",
              "4                                      198.6  ...                                             44.30\n",
              "\n",
              "[5 rows x 9 columns]"
            ]
          },
          "metadata": {
            "tags": []
          },
          "execution_count": 45
        }
      ]
    },
    {
      "cell_type": "code",
      "metadata": {
        "colab": {
          "base_uri": "https://localhost:8080/"
        },
        "id": "SYdkCxiL0LSl",
        "outputId": "8333152e-166b-4108-c212-370d3a2834cf"
      },
      "source": [
        "concrete_data.info()"
      ],
      "execution_count": 46,
      "outputs": [
        {
          "output_type": "stream",
          "text": [
            "<class 'pandas.core.frame.DataFrame'>\n",
            "RangeIndex: 1030 entries, 0 to 1029\n",
            "Data columns (total 9 columns):\n",
            " #   Column                                                 Non-Null Count  Dtype  \n",
            "---  ------                                                 --------------  -----  \n",
            " 0   Cement (component 1)(kg in a m^3 mixture)              1030 non-null   float64\n",
            " 1   Blast Furnace Slag (component 2)(kg in a m^3 mixture)  1030 non-null   float64\n",
            " 2   Fly Ash (component 3)(kg in a m^3 mixture)             1030 non-null   float64\n",
            " 3   Water  (component 4)(kg in a m^3 mixture)              1030 non-null   float64\n",
            " 4   Superplasticizer (component 5)(kg in a m^3 mixture)    1030 non-null   float64\n",
            " 5   Coarse Aggregate  (component 6)(kg in a m^3 mixture)   1030 non-null   float64\n",
            " 6   Fine Aggregate (component 7)(kg in a m^3 mixture)      1030 non-null   float64\n",
            " 7   Age (day)                                              1030 non-null   int64  \n",
            " 8   Concrete compressive strength(MPa, megapascals)        1030 non-null   float64\n",
            "dtypes: float64(8), int64(1)\n",
            "memory usage: 72.5 KB\n"
          ],
          "name": "stdout"
        }
      ]
    },
    {
      "cell_type": "code",
      "metadata": {
        "colab": {
          "base_uri": "https://localhost:8080/"
        },
        "id": "nyMPReRn0LW4",
        "outputId": "1cdd2fa3-cbe3-4f26-9515-431d2dea89e6"
      },
      "source": [
        "concrete_data['Age (day)']=concrete_data.select_dtypes('int64').astype('float64')\n",
        "concrete_data.info()"
      ],
      "execution_count": 47,
      "outputs": [
        {
          "output_type": "stream",
          "text": [
            "<class 'pandas.core.frame.DataFrame'>\n",
            "RangeIndex: 1030 entries, 0 to 1029\n",
            "Data columns (total 9 columns):\n",
            " #   Column                                                 Non-Null Count  Dtype  \n",
            "---  ------                                                 --------------  -----  \n",
            " 0   Cement (component 1)(kg in a m^3 mixture)              1030 non-null   float64\n",
            " 1   Blast Furnace Slag (component 2)(kg in a m^3 mixture)  1030 non-null   float64\n",
            " 2   Fly Ash (component 3)(kg in a m^3 mixture)             1030 non-null   float64\n",
            " 3   Water  (component 4)(kg in a m^3 mixture)              1030 non-null   float64\n",
            " 4   Superplasticizer (component 5)(kg in a m^3 mixture)    1030 non-null   float64\n",
            " 5   Coarse Aggregate  (component 6)(kg in a m^3 mixture)   1030 non-null   float64\n",
            " 6   Fine Aggregate (component 7)(kg in a m^3 mixture)      1030 non-null   float64\n",
            " 7   Age (day)                                              1030 non-null   float64\n",
            " 8   Concrete compressive strength(MPa, megapascals)        1030 non-null   float64\n",
            "dtypes: float64(9)\n",
            "memory usage: 72.5 KB\n"
          ],
          "name": "stdout"
        }
      ]
    },
    {
      "cell_type": "code",
      "metadata": {
        "id": "epg8hGJ43kXq"
      },
      "source": [
        "req_col_names = [\"Cement\", \"Blast_Furnance_Slag\", \"Fly_Ash\", \"Water\", \"Super_Plasticizer\",\n",
        "                 \"Coarse_Aggregate\", \"Fine_Aggregate\", \"Age\", \"Concrete_Strength\"]\n",
        "curr_col_names = list(concrete_data.columns)\n",
        "curr_col_names\n",
        "mapper = {}\n",
        "for i,name in enumerate(curr_col_names):\n",
        "    mapper[name] = req_col_names[i]\n",
        "  \n",
        "    \n",
        "concrete_data = concrete_data.rename(columns = mapper)"
      ],
      "execution_count": 48,
      "outputs": []
    },
    {
      "cell_type": "code",
      "metadata": {
        "colab": {
          "base_uri": "https://localhost:8080/",
          "height": 197
        },
        "id": "IcoCLldP3qPs",
        "outputId": "b8ea4ad4-d636-44d5-d89e-f07bacaf4a3f"
      },
      "source": [
        "concrete_data.head()"
      ],
      "execution_count": 49,
      "outputs": [
        {
          "output_type": "execute_result",
          "data": {
            "text/html": [
              "<div>\n",
              "<style scoped>\n",
              "    .dataframe tbody tr th:only-of-type {\n",
              "        vertical-align: middle;\n",
              "    }\n",
              "\n",
              "    .dataframe tbody tr th {\n",
              "        vertical-align: top;\n",
              "    }\n",
              "\n",
              "    .dataframe thead th {\n",
              "        text-align: right;\n",
              "    }\n",
              "</style>\n",
              "<table border=\"1\" class=\"dataframe\">\n",
              "  <thead>\n",
              "    <tr style=\"text-align: right;\">\n",
              "      <th></th>\n",
              "      <th>Cement</th>\n",
              "      <th>Blast_Furnance_Slag</th>\n",
              "      <th>Fly_Ash</th>\n",
              "      <th>Water</th>\n",
              "      <th>Super_Plasticizer</th>\n",
              "      <th>Coarse_Aggregate</th>\n",
              "      <th>Fine_Aggregate</th>\n",
              "      <th>Age</th>\n",
              "      <th>Concrete_Strength</th>\n",
              "    </tr>\n",
              "  </thead>\n",
              "  <tbody>\n",
              "    <tr>\n",
              "      <th>0</th>\n",
              "      <td>540.0</td>\n",
              "      <td>0.0</td>\n",
              "      <td>0.0</td>\n",
              "      <td>162.0</td>\n",
              "      <td>2.5</td>\n",
              "      <td>1040.0</td>\n",
              "      <td>676.0</td>\n",
              "      <td>28.0</td>\n",
              "      <td>79.99</td>\n",
              "    </tr>\n",
              "    <tr>\n",
              "      <th>1</th>\n",
              "      <td>540.0</td>\n",
              "      <td>0.0</td>\n",
              "      <td>0.0</td>\n",
              "      <td>162.0</td>\n",
              "      <td>2.5</td>\n",
              "      <td>1055.0</td>\n",
              "      <td>676.0</td>\n",
              "      <td>28.0</td>\n",
              "      <td>61.89</td>\n",
              "    </tr>\n",
              "    <tr>\n",
              "      <th>2</th>\n",
              "      <td>332.5</td>\n",
              "      <td>142.5</td>\n",
              "      <td>0.0</td>\n",
              "      <td>228.0</td>\n",
              "      <td>0.0</td>\n",
              "      <td>932.0</td>\n",
              "      <td>594.0</td>\n",
              "      <td>270.0</td>\n",
              "      <td>40.27</td>\n",
              "    </tr>\n",
              "    <tr>\n",
              "      <th>3</th>\n",
              "      <td>332.5</td>\n",
              "      <td>142.5</td>\n",
              "      <td>0.0</td>\n",
              "      <td>228.0</td>\n",
              "      <td>0.0</td>\n",
              "      <td>932.0</td>\n",
              "      <td>594.0</td>\n",
              "      <td>365.0</td>\n",
              "      <td>41.05</td>\n",
              "    </tr>\n",
              "    <tr>\n",
              "      <th>4</th>\n",
              "      <td>198.6</td>\n",
              "      <td>132.4</td>\n",
              "      <td>0.0</td>\n",
              "      <td>192.0</td>\n",
              "      <td>0.0</td>\n",
              "      <td>978.4</td>\n",
              "      <td>825.5</td>\n",
              "      <td>360.0</td>\n",
              "      <td>44.30</td>\n",
              "    </tr>\n",
              "  </tbody>\n",
              "</table>\n",
              "</div>"
            ],
            "text/plain": [
              "   Cement  Blast_Furnance_Slag  ...    Age  Concrete_Strength\n",
              "0   540.0                  0.0  ...   28.0              79.99\n",
              "1   540.0                  0.0  ...   28.0              61.89\n",
              "2   332.5                142.5  ...  270.0              40.27\n",
              "3   332.5                142.5  ...  365.0              41.05\n",
              "4   198.6                132.4  ...  360.0              44.30\n",
              "\n",
              "[5 rows x 9 columns]"
            ]
          },
          "metadata": {
            "tags": []
          },
          "execution_count": 49
        }
      ]
    },
    {
      "cell_type": "markdown",
      "metadata": {
        "id": "Mn8hZKI44AJt"
      },
      "source": [
        "Check Missing Values ( If Exist ; Fill each record with mean of its feature )\n",
        "\n",
        "Standardized the Input Variables. Hint: Centeralized the data"
      ]
    },
    {
      "cell_type": "code",
      "metadata": {
        "colab": {
          "base_uri": "https://localhost:8080/"
        },
        "id": "YipFiSWi30Z-",
        "outputId": "75a5ed99-cb7c-4ea6-eb45-c2819fd81c85"
      },
      "source": [
        "concrete_data.isna().sum()"
      ],
      "execution_count": 50,
      "outputs": [
        {
          "output_type": "execute_result",
          "data": {
            "text/plain": [
              "Cement                 0\n",
              "Blast_Furnance_Slag    0\n",
              "Fly_Ash                0\n",
              "Water                  0\n",
              "Super_Plasticizer      0\n",
              "Coarse_Aggregate       0\n",
              "Fine_Aggregate         0\n",
              "Age                    0\n",
              "Concrete_Strength      0\n",
              "dtype: int64"
            ]
          },
          "metadata": {
            "tags": []
          },
          "execution_count": 50
        }
      ]
    },
    {
      "cell_type": "code",
      "metadata": {
        "colab": {
          "base_uri": "https://localhost:8080/",
          "height": 307
        },
        "id": "X_xlS2Z9595m",
        "outputId": "33190d72-cb49-47b9-cd5e-a15b97bf40bc"
      },
      "source": [
        "concrete_data.describe()"
      ],
      "execution_count": 51,
      "outputs": [
        {
          "output_type": "execute_result",
          "data": {
            "text/html": [
              "<div>\n",
              "<style scoped>\n",
              "    .dataframe tbody tr th:only-of-type {\n",
              "        vertical-align: middle;\n",
              "    }\n",
              "\n",
              "    .dataframe tbody tr th {\n",
              "        vertical-align: top;\n",
              "    }\n",
              "\n",
              "    .dataframe thead th {\n",
              "        text-align: right;\n",
              "    }\n",
              "</style>\n",
              "<table border=\"1\" class=\"dataframe\">\n",
              "  <thead>\n",
              "    <tr style=\"text-align: right;\">\n",
              "      <th></th>\n",
              "      <th>Cement</th>\n",
              "      <th>Blast_Furnance_Slag</th>\n",
              "      <th>Fly_Ash</th>\n",
              "      <th>Water</th>\n",
              "      <th>Super_Plasticizer</th>\n",
              "      <th>Coarse_Aggregate</th>\n",
              "      <th>Fine_Aggregate</th>\n",
              "      <th>Age</th>\n",
              "      <th>Concrete_Strength</th>\n",
              "    </tr>\n",
              "  </thead>\n",
              "  <tbody>\n",
              "    <tr>\n",
              "      <th>count</th>\n",
              "      <td>1030.000000</td>\n",
              "      <td>1030.000000</td>\n",
              "      <td>1030.000000</td>\n",
              "      <td>1030.000000</td>\n",
              "      <td>1030.000000</td>\n",
              "      <td>1030.000000</td>\n",
              "      <td>1030.000000</td>\n",
              "      <td>1030.000000</td>\n",
              "      <td>1030.000000</td>\n",
              "    </tr>\n",
              "    <tr>\n",
              "      <th>mean</th>\n",
              "      <td>281.167864</td>\n",
              "      <td>73.895825</td>\n",
              "      <td>54.188350</td>\n",
              "      <td>181.567282</td>\n",
              "      <td>6.204660</td>\n",
              "      <td>972.918932</td>\n",
              "      <td>773.580485</td>\n",
              "      <td>45.662136</td>\n",
              "      <td>35.817961</td>\n",
              "    </tr>\n",
              "    <tr>\n",
              "      <th>std</th>\n",
              "      <td>104.506364</td>\n",
              "      <td>86.279342</td>\n",
              "      <td>63.997004</td>\n",
              "      <td>21.354219</td>\n",
              "      <td>5.973841</td>\n",
              "      <td>77.753954</td>\n",
              "      <td>80.175980</td>\n",
              "      <td>63.169912</td>\n",
              "      <td>16.705742</td>\n",
              "    </tr>\n",
              "    <tr>\n",
              "      <th>min</th>\n",
              "      <td>102.000000</td>\n",
              "      <td>0.000000</td>\n",
              "      <td>0.000000</td>\n",
              "      <td>121.800000</td>\n",
              "      <td>0.000000</td>\n",
              "      <td>801.000000</td>\n",
              "      <td>594.000000</td>\n",
              "      <td>1.000000</td>\n",
              "      <td>2.330000</td>\n",
              "    </tr>\n",
              "    <tr>\n",
              "      <th>25%</th>\n",
              "      <td>192.375000</td>\n",
              "      <td>0.000000</td>\n",
              "      <td>0.000000</td>\n",
              "      <td>164.900000</td>\n",
              "      <td>0.000000</td>\n",
              "      <td>932.000000</td>\n",
              "      <td>730.950000</td>\n",
              "      <td>7.000000</td>\n",
              "      <td>23.710000</td>\n",
              "    </tr>\n",
              "    <tr>\n",
              "      <th>50%</th>\n",
              "      <td>272.900000</td>\n",
              "      <td>22.000000</td>\n",
              "      <td>0.000000</td>\n",
              "      <td>185.000000</td>\n",
              "      <td>6.400000</td>\n",
              "      <td>968.000000</td>\n",
              "      <td>779.500000</td>\n",
              "      <td>28.000000</td>\n",
              "      <td>34.445000</td>\n",
              "    </tr>\n",
              "    <tr>\n",
              "      <th>75%</th>\n",
              "      <td>350.000000</td>\n",
              "      <td>142.950000</td>\n",
              "      <td>118.300000</td>\n",
              "      <td>192.000000</td>\n",
              "      <td>10.200000</td>\n",
              "      <td>1029.400000</td>\n",
              "      <td>824.000000</td>\n",
              "      <td>56.000000</td>\n",
              "      <td>46.135000</td>\n",
              "    </tr>\n",
              "    <tr>\n",
              "      <th>max</th>\n",
              "      <td>540.000000</td>\n",
              "      <td>359.400000</td>\n",
              "      <td>200.100000</td>\n",
              "      <td>247.000000</td>\n",
              "      <td>32.200000</td>\n",
              "      <td>1145.000000</td>\n",
              "      <td>992.600000</td>\n",
              "      <td>365.000000</td>\n",
              "      <td>82.600000</td>\n",
              "    </tr>\n",
              "  </tbody>\n",
              "</table>\n",
              "</div>"
            ],
            "text/plain": [
              "            Cement  Blast_Furnance_Slag  ...          Age  Concrete_Strength\n",
              "count  1030.000000          1030.000000  ...  1030.000000        1030.000000\n",
              "mean    281.167864            73.895825  ...    45.662136          35.817961\n",
              "std     104.506364            86.279342  ...    63.169912          16.705742\n",
              "min     102.000000             0.000000  ...     1.000000           2.330000\n",
              "25%     192.375000             0.000000  ...     7.000000          23.710000\n",
              "50%     272.900000            22.000000  ...    28.000000          34.445000\n",
              "75%     350.000000           142.950000  ...    56.000000          46.135000\n",
              "max     540.000000           359.400000  ...   365.000000          82.600000\n",
              "\n",
              "[8 rows x 9 columns]"
            ]
          },
          "metadata": {
            "tags": []
          },
          "execution_count": 51
        }
      ]
    },
    {
      "cell_type": "code",
      "metadata": {
        "colab": {
          "base_uri": "https://localhost:8080/"
        },
        "id": "-OONCzlG5_3Q",
        "outputId": "4e0914b5-74a5-4752-e163-bdefca5a6ca0"
      },
      "source": [
        "concrete_data.info()"
      ],
      "execution_count": 52,
      "outputs": [
        {
          "output_type": "stream",
          "text": [
            "<class 'pandas.core.frame.DataFrame'>\n",
            "RangeIndex: 1030 entries, 0 to 1029\n",
            "Data columns (total 9 columns):\n",
            " #   Column               Non-Null Count  Dtype  \n",
            "---  ------               --------------  -----  \n",
            " 0   Cement               1030 non-null   float64\n",
            " 1   Blast_Furnance_Slag  1030 non-null   float64\n",
            " 2   Fly_Ash              1030 non-null   float64\n",
            " 3   Water                1030 non-null   float64\n",
            " 4   Super_Plasticizer    1030 non-null   float64\n",
            " 5   Coarse_Aggregate     1030 non-null   float64\n",
            " 6   Fine_Aggregate       1030 non-null   float64\n",
            " 7   Age                  1030 non-null   float64\n",
            " 8   Concrete_Strength    1030 non-null   float64\n",
            "dtypes: float64(9)\n",
            "memory usage: 72.5 KB\n"
          ],
          "name": "stdout"
        }
      ]
    },
    {
      "cell_type": "markdown",
      "metadata": {
        "id": "3tq4IBtzAdkG"
      },
      "source": [
        "# 3.Split Data according to Task"
      ]
    },
    {
      "cell_type": "markdown",
      "metadata": {
        "id": "4jAw2bvf6YEm"
      },
      "source": [
        "Split into 50% Training(Samples,Labels) , 30% Test(Samples,Labels) and 20% Validation Data(Samples,Labels)."
      ]
    },
    {
      "cell_type": "code",
      "metadata": {
        "id": "U1la3jhj6ilh"
      },
      "source": [
        "test_val=(30/100)*len(concrete_data)\n",
        "train_val=(50/100)*len(concrete_data)\n",
        "val_val=(20/100)*len(concrete_data)\n",
        "\n",
        "test_data=concrete_data.loc[len(concrete_data)-test_val: ,:'Age']\n",
        "test_labels=concrete_data.loc[len(concrete_data)-test_val: ,'Concrete_Strength']\n",
        "\n",
        "remaining_data=concrete_data.loc[:len(concrete_data)-test_val,:'Age']\n",
        "remaining_labels=concrete_data.loc[:len(concrete_data)-test_val,'Concrete_Strength']\n"
      ],
      "execution_count": null,
      "outputs": []
    },
    {
      "cell_type": "code",
      "metadata": {
        "id": "B_xb97jg7iJ5"
      },
      "source": [
        "train_data = remaining_data.loc[ :test_val]\n",
        "train_labels = remaining_labels.loc[ :test_val]\n",
        "\n",
        "val_data=remaining_data.loc[test_val:]\n",
        "val_labels=remaining_labels.loc[test_val:]"
      ],
      "execution_count": null,
      "outputs": []
    },
    {
      "cell_type": "markdown",
      "metadata": {
        "id": "-TJbozwI8QHK"
      },
      "source": [
        "Model : input Layer (No. of features ), 3 hidden layers including 10,8,6 unit & Output Layer with activation function relu/tanh (check by experiment).\n",
        "\n",
        "Compilation Step (Note : Its a Regression problem , select loss , metrics according to it)\n",
        "Train the Model with Epochs (100) and validate it\n",
        "\n",
        "If the model gets overfit tune your model by changing the units , No. of layers , activation function , epochs , add dropout layer or add Regularizer according to the need .\n",
        "\n",
        "Evaluation Step\n",
        "\n",
        "Prediction"
      ]
    },
    {
      "cell_type": "markdown",
      "metadata": {
        "id": "jQmIsGg7vJfZ"
      },
      "source": [
        "## Method 1"
      ]
    },
    {
      "cell_type": "code",
      "metadata": {
        "id": "NkOdQIKeU80x"
      },
      "source": [
        "model = models.Sequential()\n",
        "model.add(layers.Dense(12, activation = 'relu', input_shape=(8,)))\n",
        "model.add(layers.Dense(10, activation='relu'))\n",
        "model.add(layers.Dense(8, activation = 'relu'))\n",
        "model.add(layers.Dense(6, activation = 'sigmoid'))\n",
        "model.add(layers.Dense(1,))\n",
        "model.compile(optimizer = 'rmsprop', loss = 'mse', metrics = ['mse', 'mae'])"
      ],
      "execution_count": null,
      "outputs": []
    },
    {
      "cell_type": "code",
      "metadata": {
        "id": "NCCTpe6iVmuU"
      },
      "source": [
        "history = model.fit(train_data, train_labels, epochs=100, verbose = 0, validation_split= 0.2)"
      ],
      "execution_count": null,
      "outputs": []
    },
    {
      "cell_type": "code",
      "metadata": {
        "colab": {
          "base_uri": "https://localhost:8080/"
        },
        "id": "qUWdOUv1Vw4F",
        "outputId": "55bc4f5c-64b1-4b53-91f0-066902604082"
      },
      "source": [
        "history.history.keys()"
      ],
      "execution_count": null,
      "outputs": [
        {
          "output_type": "execute_result",
          "data": {
            "text/plain": [
              "dict_keys(['loss', 'mse', 'mae', 'val_loss', 'val_mse', 'val_mae'])"
            ]
          },
          "metadata": {
            "tags": []
          },
          "execution_count": 178
        }
      ]
    },
    {
      "cell_type": "code",
      "metadata": {
        "colab": {
          "base_uri": "https://localhost:8080/",
          "height": 295
        },
        "id": "ULmaCbzUWtIy",
        "outputId": "4603212c-c675-4d8b-e326-c845b574feb0"
      },
      "source": [
        "history_dict = history.history\n",
        "mae_values = history_dict['mae']\n",
        "val_mae_values = history_dict['val_mae']\n",
        "\n",
        "epochs = range(100)\n",
        "plt.plot(epochs, mae_values, 'bo', label='Training MAE')\n",
        "plt.plot(epochs, val_mae_values, 'r', label='Validation MAE')\n",
        "plt.title('Training and validation MAE')\n",
        "plt.xlabel('Epochs')\n",
        "plt.ylabel('Loss')\n",
        "plt.legend()\n",
        "plt.show()"
      ],
      "execution_count": null,
      "outputs": [
        {
          "output_type": "display_data",
          "data": {
            "image/png": "[encoded data removed]",
            "text/plain": [
              "<Figure size 432x288 with 1 Axes>"
            ]
          },
          "metadata": {
            "tags": [],
            "needs_background": "light"
          }
        }
      ]
    },
    {
      "cell_type": "code",
      "metadata": {
        "colab": {
          "base_uri": "https://localhost:8080/",
          "height": 295
        },
        "id": "sSa-M_s0W_XW",
        "outputId": "92aef79b-7e06-41a5-ec58-11728f215dd0"
      },
      "source": [
        "loss_values = history_dict['loss']\n",
        "val_mse_values = history_dict['val_mse']\n",
        "plt.plot(epochs, loss_values, 'bo', label='Training Loss')\n",
        "plt.plot(epochs, val_mse_values, 'r', label='Validation Loss')\n",
        "plt.title('Training and validation MSE')\n",
        "plt.xlabel('Epochs')\n",
        "plt.ylabel('Mean Square Error (Price)')\n",
        "plt.legend()\n",
        "plt.show()"
      ],
      "execution_count": null,
      "outputs": [
        {
          "output_type": "display_data",
          "data": {
            "image/png": "[encoded data removed]",
            "text/plain": [
              "<Figure size 432x288 with 1 Axes>"
            ]
          },
          "metadata": {
            "tags": [],
            "needs_background": "light"
          }
        }
      ]
    },
    {
      "cell_type": "markdown",
      "metadata": {
        "id": "9Inh6kr9veIt"
      },
      "source": [
        "# Method 2"
      ]
    },
    {
      "cell_type": "code",
      "metadata": {
        "id": "SfH0ygua6O3V"
      },
      "source": [
        "mean=concrete_data.mean(axis=0)\n",
        "std=concrete_data.std(axis=0)\n",
        "\n",
        "remaining_data-=mean\n",
        "remaining_data/=std\n",
        "\n",
        "test_data-=mean\n",
        "test_data/=std"
      ],
      "execution_count": null,
      "outputs": []
    },
    {
      "cell_type": "code",
      "metadata": {
        "colab": {
          "base_uri": "https://localhost:8080/"
        },
        "id": "532DoFBX7iN9",
        "outputId": "94223a1e-f672-4140-94a0-d8d0888caaf4"
      },
      "source": [
        "model=models.Sequential()\n",
        "model.add(layers.Dense(36,activation='relu',input_shape=(8,)))\n",
        "model.add(layers.Dense(36,activation='relu'))\n",
        "model.add(layers.Dense(1))\n",
        "model.compile(optimizer='rmsprop',loss='mse',metrics=['mae'])\n",
        "history=model.fit(train_data,train_labels,epochs=150,batch_size=100,validation_data=(val_data,val_labels))"
      ],
      "execution_count": null,
      "outputs": [
        {
          "output_type": "stream",
          "text": [
            "Epoch 1/150\n",
            "4/4 [==============================] - 1s 74ms/step - loss: 2374.6984 - mae: 40.8092 - val_loss: 491.9659 - val_mae: 18.3266\n",
            "Epoch 2/150\n",
            "4/4 [==============================] - 0s 16ms/step - loss: 963.3757 - mae: 26.1246 - val_loss: 441.9873 - val_mae: 17.5610\n",
            "Epoch 3/150\n",
            "4/4 [==============================] - 0s 18ms/step - loss: 759.1994 - mae: 22.7893 - val_loss: 430.9897 - val_mae: 17.4607\n",
            "Epoch 4/150\n",
            "4/4 [==============================] - 0s 18ms/step - loss: 513.3028 - mae: 18.7370 - val_loss: 1014.6010 - val_mae: 27.1424\n",
            "Epoch 5/150\n",
            "4/4 [==============================] - 0s 18ms/step - loss: 582.0294 - mae: 19.5079 - val_loss: 407.5900 - val_mae: 16.9868\n",
            "Epoch 6/150\n",
            "4/4 [==============================] - 0s 18ms/step - loss: 383.7045 - mae: 16.0290 - val_loss: 381.9985 - val_mae: 16.2951\n",
            "Epoch 7/150\n",
            "4/4 [==============================] - 0s 17ms/step - loss: 403.7481 - mae: 16.5637 - val_loss: 358.5197 - val_mae: 15.5198\n",
            "Epoch 8/150\n",
            "4/4 [==============================] - 0s 19ms/step - loss: 346.3497 - mae: 15.2601 - val_loss: 388.4911 - val_mae: 15.6671\n",
            "Epoch 9/150\n",
            "4/4 [==============================] - 0s 18ms/step - loss: 464.0933 - mae: 17.6574 - val_loss: 346.4023 - val_mae: 15.1386\n",
            "Epoch 10/150\n",
            "4/4 [==============================] - 0s 18ms/step - loss: 243.3068 - mae: 12.7583 - val_loss: 417.2480 - val_mae: 17.3426\n",
            "Epoch 11/150\n",
            "4/4 [==============================] - 0s 17ms/step - loss: 232.8740 - mae: 12.8831 - val_loss: 1953.0557 - val_mae: 40.0541\n",
            "Epoch 12/150\n",
            "4/4 [==============================] - 0s 18ms/step - loss: 904.0272 - mae: 25.2488 - val_loss: 508.5870 - val_mae: 19.2325\n",
            "Epoch 13/150\n",
            "4/4 [==============================] - 0s 18ms/step - loss: 245.1482 - mae: 13.2836 - val_loss: 470.9348 - val_mae: 18.4812\n",
            "Epoch 14/150\n",
            "4/4 [==============================] - 0s 18ms/step - loss: 210.2150 - mae: 12.0563 - val_loss: 416.2931 - val_mae: 17.4214\n",
            "Epoch 15/150\n",
            "4/4 [==============================] - 0s 23ms/step - loss: 185.7297 - mae: 11.3803 - val_loss: 777.0734 - val_mae: 24.1247\n",
            "Epoch 16/150\n",
            "4/4 [==============================] - 0s 18ms/step - loss: 494.8048 - mae: 18.5133 - val_loss: 878.0154 - val_mae: 25.7205\n",
            "Epoch 17/150\n",
            "4/4 [==============================] - 0s 19ms/step - loss: 387.6046 - mae: 16.1016 - val_loss: 312.6815 - val_mae: 14.9163\n",
            "Epoch 18/150\n",
            "4/4 [==============================] - 0s 19ms/step - loss: 174.8639 - mae: 11.2950 - val_loss: 329.0290 - val_mae: 15.4191\n",
            "Epoch 19/150\n",
            "4/4 [==============================] - 0s 20ms/step - loss: 205.9083 - mae: 11.9080 - val_loss: 336.5262 - val_mae: 15.6400\n",
            "Epoch 20/150\n",
            "4/4 [==============================] - 0s 19ms/step - loss: 174.5961 - mae: 11.2168 - val_loss: 348.7924 - val_mae: 15.9638\n",
            "Epoch 21/150\n",
            "4/4 [==============================] - 0s 21ms/step - loss: 204.2302 - mae: 11.6235 - val_loss: 1447.6444 - val_mae: 34.0673\n",
            "Epoch 22/150\n",
            "4/4 [==============================] - 0s 18ms/step - loss: 602.4004 - mae: 20.9621 - val_loss: 450.7915 - val_mae: 18.0750\n",
            "Epoch 23/150\n",
            "4/4 [==============================] - 0s 18ms/step - loss: 194.5439 - mae: 11.5349 - val_loss: 305.2128 - val_mae: 13.9956\n",
            "Epoch 24/150\n",
            "4/4 [==============================] - 0s 17ms/step - loss: 243.1423 - mae: 12.9780 - val_loss: 464.6581 - val_mae: 16.6429\n",
            "Epoch 25/150\n",
            "4/4 [==============================] - 0s 19ms/step - loss: 357.6296 - mae: 15.7016 - val_loss: 374.1837 - val_mae: 15.0172\n",
            "Epoch 26/150\n",
            "4/4 [==============================] - 0s 18ms/step - loss: 244.1766 - mae: 12.4881 - val_loss: 287.3939 - val_mae: 14.4198\n",
            "Epoch 27/150\n",
            "4/4 [==============================] - 0s 18ms/step - loss: 140.7097 - mae: 9.9815 - val_loss: 544.6591 - val_mae: 19.9794\n",
            "Epoch 28/150\n",
            "4/4 [==============================] - 0s 18ms/step - loss: 397.0567 - mae: 16.7447 - val_loss: 309.3340 - val_mae: 15.0138\n",
            "Epoch 29/150\n",
            "4/4 [==============================] - 0s 16ms/step - loss: 139.0051 - mae: 9.6725 - val_loss: 263.3625 - val_mae: 13.6483\n",
            "Epoch 30/150\n",
            "4/4 [==============================] - 0s 15ms/step - loss: 135.7519 - mae: 9.7789 - val_loss: 264.7757 - val_mae: 13.2322\n",
            "Epoch 31/150\n",
            "4/4 [==============================] - 0s 18ms/step - loss: 351.1878 - mae: 15.5418 - val_loss: 458.9212 - val_mae: 16.6832\n",
            "Epoch 32/150\n",
            "4/4 [==============================] - 0s 18ms/step - loss: 300.9023 - mae: 14.1160 - val_loss: 307.7723 - val_mae: 14.8773\n",
            "Epoch 33/150\n",
            "4/4 [==============================] - 0s 17ms/step - loss: 135.4208 - mae: 9.4883 - val_loss: 290.7776 - val_mae: 14.4416\n",
            "Epoch 34/150\n",
            "4/4 [==============================] - 0s 16ms/step - loss: 124.2747 - mae: 9.2147 - val_loss: 245.4092 - val_mae: 12.7744\n",
            "Epoch 35/150\n",
            "4/4 [==============================] - 0s 18ms/step - loss: 229.2832 - mae: 12.2390 - val_loss: 486.2374 - val_mae: 17.5453\n",
            "Epoch 36/150\n",
            "4/4 [==============================] - 0s 18ms/step - loss: 372.9083 - mae: 16.2597 - val_loss: 262.2502 - val_mae: 12.9554\n",
            "Epoch 37/150\n",
            "4/4 [==============================] - 0s 17ms/step - loss: 202.6345 - mae: 11.8369 - val_loss: 238.3596 - val_mae: 12.9521\n",
            "Epoch 38/150\n",
            "4/4 [==============================] - 0s 19ms/step - loss: 128.6757 - mae: 9.2981 - val_loss: 512.9065 - val_mae: 19.2523\n",
            "Epoch 39/150\n",
            "4/4 [==============================] - 0s 18ms/step - loss: 309.7055 - mae: 14.8275 - val_loss: 564.3892 - val_mae: 20.2549\n",
            "Epoch 40/150\n",
            "4/4 [==============================] - 0s 18ms/step - loss: 282.6311 - mae: 14.1467 - val_loss: 218.7020 - val_mae: 12.2822\n",
            "Epoch 41/150\n",
            "4/4 [==============================] - 0s 19ms/step - loss: 125.2890 - mae: 9.3993 - val_loss: 213.6960 - val_mae: 12.2211\n",
            "Epoch 42/150\n",
            "4/4 [==============================] - 0s 17ms/step - loss: 118.6190 - mae: 8.8650 - val_loss: 332.9039 - val_mae: 14.4400\n",
            "Epoch 43/150\n",
            "4/4 [==============================] - 0s 18ms/step - loss: 386.9743 - mae: 16.9496 - val_loss: 490.1989 - val_mae: 17.9134\n",
            "Epoch 44/150\n",
            "4/4 [==============================] - 0s 17ms/step - loss: 303.8030 - mae: 14.4344 - val_loss: 219.4167 - val_mae: 12.4280\n",
            "Epoch 45/150\n",
            "4/4 [==============================] - 0s 16ms/step - loss: 113.2475 - mae: 8.7319 - val_loss: 231.5869 - val_mae: 12.7777\n",
            "Epoch 46/150\n",
            "4/4 [==============================] - 0s 17ms/step - loss: 113.1347 - mae: 8.5411 - val_loss: 213.2462 - val_mae: 11.9451\n",
            "Epoch 47/150\n",
            "4/4 [==============================] - 0s 18ms/step - loss: 205.0089 - mae: 11.4396 - val_loss: 214.8686 - val_mae: 12.2372\n",
            "Epoch 48/150\n",
            "4/4 [==============================] - 0s 19ms/step - loss: 137.9270 - mae: 9.5128 - val_loss: 279.7417 - val_mae: 13.2607\n",
            "Epoch 49/150\n",
            "4/4 [==============================] - 0s 20ms/step - loss: 253.1122 - mae: 13.1734 - val_loss: 602.4323 - val_mae: 20.5979\n",
            "Epoch 50/150\n",
            "4/4 [==============================] - 0s 17ms/step - loss: 409.8035 - mae: 16.9958 - val_loss: 204.5563 - val_mae: 11.9296\n",
            "Epoch 51/150\n",
            "4/4 [==============================] - 0s 17ms/step - loss: 126.6199 - mae: 9.1366 - val_loss: 262.6696 - val_mae: 13.4753\n",
            "Epoch 52/150\n",
            "4/4 [==============================] - 0s 18ms/step - loss: 115.1800 - mae: 8.6506 - val_loss: 229.2118 - val_mae: 12.6160\n",
            "Epoch 53/150\n",
            "4/4 [==============================] - 0s 16ms/step - loss: 127.9322 - mae: 8.9598 - val_loss: 893.1557 - val_mae: 26.5895\n",
            "Epoch 54/150\n",
            "4/4 [==============================] - 0s 18ms/step - loss: 479.8275 - mae: 19.2464 - val_loss: 270.9373 - val_mae: 13.6626\n",
            "Epoch 55/150\n",
            "4/4 [==============================] - 0s 21ms/step - loss: 114.8883 - mae: 8.5731 - val_loss: 251.4586 - val_mae: 13.1630\n",
            "Epoch 56/150\n",
            "4/4 [==============================] - 0s 20ms/step - loss: 115.5821 - mae: 8.5658 - val_loss: 259.2721 - val_mae: 13.4035\n",
            "Epoch 57/150\n",
            "4/4 [==============================] - 0s 18ms/step - loss: 137.3932 - mae: 9.5106 - val_loss: 541.0288 - val_mae: 19.8426\n",
            "Epoch 58/150\n",
            "4/4 [==============================] - 0s 16ms/step - loss: 377.9566 - mae: 17.1402 - val_loss: 296.2546 - val_mae: 14.3989\n",
            "Epoch 59/150\n",
            "4/4 [==============================] - 0s 18ms/step - loss: 119.3877 - mae: 8.9793 - val_loss: 231.3731 - val_mae: 12.7391\n",
            "Epoch 60/150\n",
            "4/4 [==============================] - 0s 18ms/step - loss: 92.1971 - mae: 7.5333 - val_loss: 234.2398 - val_mae: 12.7657\n",
            "Epoch 61/150\n",
            "4/4 [==============================] - 0s 19ms/step - loss: 104.3263 - mae: 8.0958 - val_loss: 188.8069 - val_mae: 11.3300\n",
            "Epoch 62/150\n",
            "4/4 [==============================] - 0s 19ms/step - loss: 214.5831 - mae: 11.8336 - val_loss: 435.0501 - val_mae: 17.0841\n",
            "Epoch 63/150\n",
            "4/4 [==============================] - 0s 18ms/step - loss: 273.7460 - mae: 13.9224 - val_loss: 203.8935 - val_mae: 11.5710\n",
            "Epoch 64/150\n",
            "4/4 [==============================] - 0s 18ms/step - loss: 133.8176 - mae: 9.5417 - val_loss: 266.0760 - val_mae: 13.0315\n",
            "Epoch 65/150\n",
            "4/4 [==============================] - 0s 19ms/step - loss: 198.4240 - mae: 11.6568 - val_loss: 232.8331 - val_mae: 12.1729\n",
            "Epoch 66/150\n",
            "4/4 [==============================] - 0s 17ms/step - loss: 201.8012 - mae: 11.8316 - val_loss: 187.7604 - val_mae: 11.3391\n",
            "Epoch 67/150\n",
            "4/4 [==============================] - 0s 18ms/step - loss: 122.8241 - mae: 8.9314 - val_loss: 183.8135 - val_mae: 11.1654\n",
            "Epoch 68/150\n",
            "4/4 [==============================] - 0s 21ms/step - loss: 108.5583 - mae: 8.4178 - val_loss: 225.2689 - val_mae: 11.9917\n",
            "Epoch 69/150\n",
            "4/4 [==============================] - 0s 21ms/step - loss: 291.8589 - mae: 14.4923 - val_loss: 272.3209 - val_mae: 13.2557\n",
            "Epoch 70/150\n",
            "4/4 [==============================] - 0s 18ms/step - loss: 178.9616 - mae: 10.9581 - val_loss: 176.5742 - val_mae: 11.0585\n",
            "Epoch 71/150\n",
            "4/4 [==============================] - 0s 19ms/step - loss: 105.0312 - mae: 8.3686 - val_loss: 181.9864 - val_mae: 11.1951\n",
            "Epoch 72/150\n",
            "4/4 [==============================] - 0s 19ms/step - loss: 101.1180 - mae: 8.1332 - val_loss: 203.4818 - val_mae: 11.5397\n",
            "Epoch 73/150\n",
            "4/4 [==============================] - 0s 18ms/step - loss: 246.5154 - mae: 13.0877 - val_loss: 289.7441 - val_mae: 13.7373\n",
            "Epoch 74/150\n",
            "4/4 [==============================] - 0s 17ms/step - loss: 246.7389 - mae: 13.0919 - val_loss: 180.0617 - val_mae: 11.1957\n",
            "Epoch 75/150\n",
            "4/4 [==============================] - 0s 17ms/step - loss: 99.7187 - mae: 8.0078 - val_loss: 182.7359 - val_mae: 11.1254\n",
            "Epoch 76/150\n",
            "4/4 [==============================] - 0s 18ms/step - loss: 123.1527 - mae: 8.8039 - val_loss: 340.2480 - val_mae: 14.9769\n",
            "Epoch 77/150\n",
            "4/4 [==============================] - 0s 19ms/step - loss: 320.5842 - mae: 15.7826 - val_loss: 281.9174 - val_mae: 13.5151\n",
            "Epoch 78/150\n",
            "4/4 [==============================] - 0s 19ms/step - loss: 178.3518 - mae: 11.1481 - val_loss: 185.2617 - val_mae: 11.0955\n",
            "Epoch 79/150\n",
            "4/4 [==============================] - 0s 19ms/step - loss: 130.7093 - mae: 9.2447 - val_loss: 267.2970 - val_mae: 13.1233\n",
            "Epoch 80/150\n",
            "4/4 [==============================] - 0s 19ms/step - loss: 293.3758 - mae: 14.9492 - val_loss: 263.8300 - val_mae: 13.0424\n",
            "Epoch 81/150\n",
            "4/4 [==============================] - 0s 21ms/step - loss: 183.6717 - mae: 11.2966 - val_loss: 180.8274 - val_mae: 11.0594\n",
            "Epoch 82/150\n",
            "4/4 [==============================] - 0s 19ms/step - loss: 82.4229 - mae: 7.1580 - val_loss: 182.8394 - val_mae: 11.0401\n",
            "Epoch 83/150\n",
            "4/4 [==============================] - 0s 18ms/step - loss: 97.1053 - mae: 8.0209 - val_loss: 228.8788 - val_mae: 12.0786\n",
            "Epoch 84/150\n",
            "4/4 [==============================] - 0s 17ms/step - loss: 232.1859 - mae: 12.9415 - val_loss: 378.2382 - val_mae: 15.9567\n",
            "Epoch 85/150\n",
            "4/4 [==============================] - 0s 18ms/step - loss: 300.6445 - mae: 14.7257 - val_loss: 186.9590 - val_mae: 11.2453\n",
            "Epoch 86/150\n",
            "4/4 [==============================] - 0s 18ms/step - loss: 88.1486 - mae: 7.4456 - val_loss: 281.8367 - val_mae: 13.7152\n",
            "Epoch 87/150\n",
            "4/4 [==============================] - 0s 19ms/step - loss: 163.3768 - mae: 10.6532 - val_loss: 391.0464 - val_mae: 16.4479\n",
            "Epoch 88/150\n",
            "4/4 [==============================] - 0s 19ms/step - loss: 212.1586 - mae: 12.4386 - val_loss: 363.9297 - val_mae: 15.7855\n",
            "Epoch 89/150\n",
            "4/4 [==============================] - 0s 19ms/step - loss: 196.5026 - mae: 11.7891 - val_loss: 313.9591 - val_mae: 14.5744\n",
            "Epoch 90/150\n",
            "4/4 [==============================] - 0s 18ms/step - loss: 188.9948 - mae: 11.4494 - val_loss: 259.8212 - val_mae: 13.2342\n",
            "Epoch 91/150\n",
            "4/4 [==============================] - 0s 20ms/step - loss: 100.1581 - mae: 7.8773 - val_loss: 237.9216 - val_mae: 12.6098\n",
            "Epoch 92/150\n",
            "4/4 [==============================] - 0s 18ms/step - loss: 127.6574 - mae: 9.1756 - val_loss: 632.4872 - val_mae: 21.7204\n",
            "Epoch 93/150\n",
            "4/4 [==============================] - 0s 19ms/step - loss: 387.0612 - mae: 17.3859 - val_loss: 276.7293 - val_mae: 13.7000\n",
            "Epoch 94/150\n",
            "4/4 [==============================] - 0s 18ms/step - loss: 101.6571 - mae: 8.2219 - val_loss: 274.0660 - val_mae: 13.6527\n",
            "Epoch 95/150\n",
            "4/4 [==============================] - 0s 16ms/step - loss: 128.5308 - mae: 9.0055 - val_loss: 407.6111 - val_mae: 16.8850\n",
            "Epoch 96/150\n",
            "4/4 [==============================] - 0s 20ms/step - loss: 265.0152 - mae: 13.9585 - val_loss: 429.6293 - val_mae: 17.3985\n",
            "Epoch 97/150\n",
            "4/4 [==============================] - 0s 18ms/step - loss: 198.2070 - mae: 11.7416 - val_loss: 310.2155 - val_mae: 14.5005\n",
            "Epoch 98/150\n",
            "4/4 [==============================] - 0s 19ms/step - loss: 162.8528 - mae: 10.6377 - val_loss: 291.0914 - val_mae: 13.9809\n",
            "Epoch 99/150\n",
            "4/4 [==============================] - 0s 19ms/step - loss: 118.6625 - mae: 8.7075 - val_loss: 180.3550 - val_mae: 10.9727\n",
            "Epoch 100/150\n",
            "4/4 [==============================] - 0s 17ms/step - loss: 76.1082 - mae: 6.8745 - val_loss: 321.5901 - val_mae: 14.5869\n",
            "Epoch 101/150\n",
            "4/4 [==============================] - 0s 18ms/step - loss: 338.7426 - mae: 16.2274 - val_loss: 211.0282 - val_mae: 11.6006\n",
            "Epoch 102/150\n",
            "4/4 [==============================] - 0s 18ms/step - loss: 141.2303 - mae: 9.5378 - val_loss: 234.4539 - val_mae: 12.2518\n",
            "Epoch 103/150\n",
            "4/4 [==============================] - 0s 17ms/step - loss: 178.8176 - mae: 11.1050 - val_loss: 170.4457 - val_mae: 10.6958\n",
            "Epoch 104/150\n",
            "4/4 [==============================] - 0s 17ms/step - loss: 86.6841 - mae: 7.3498 - val_loss: 179.5317 - val_mae: 11.0581\n",
            "Epoch 105/150\n",
            "4/4 [==============================] - 0s 18ms/step - loss: 101.9917 - mae: 7.9421 - val_loss: 708.8293 - val_mae: 23.4728\n",
            "Epoch 106/150\n",
            "4/4 [==============================] - 0s 19ms/step - loss: 378.4681 - mae: 17.1688 - val_loss: 479.2770 - val_mae: 18.5098\n",
            "Epoch 107/150\n",
            "4/4 [==============================] - 0s 18ms/step - loss: 195.7142 - mae: 11.3540 - val_loss: 200.0961 - val_mae: 11.6190\n",
            "Epoch 108/150\n",
            "4/4 [==============================] - 0s 20ms/step - loss: 88.3983 - mae: 7.2945 - val_loss: 224.3446 - val_mae: 11.9380\n",
            "Epoch 109/150\n",
            "4/4 [==============================] - 0s 18ms/step - loss: 210.5731 - mae: 12.3399 - val_loss: 635.1045 - val_mae: 22.1272\n",
            "Epoch 110/150\n",
            "4/4 [==============================] - 0s 17ms/step - loss: 418.5366 - mae: 17.8348 - val_loss: 175.7246 - val_mae: 10.8885\n",
            "Epoch 111/150\n",
            "4/4 [==============================] - 0s 17ms/step - loss: 74.8976 - mae: 6.8632 - val_loss: 213.5293 - val_mae: 11.9243\n",
            "Epoch 112/150\n",
            "4/4 [==============================] - 0s 20ms/step - loss: 116.4564 - mae: 8.5563 - val_loss: 421.0712 - val_mae: 17.1396\n",
            "Epoch 113/150\n",
            "4/4 [==============================] - 0s 19ms/step - loss: 216.3984 - mae: 12.4606 - val_loss: 195.6550 - val_mae: 11.4486\n",
            "Epoch 114/150\n",
            "4/4 [==============================] - 0s 21ms/step - loss: 88.0508 - mae: 7.5541 - val_loss: 213.2768 - val_mae: 11.8632\n",
            "Epoch 115/150\n",
            "4/4 [==============================] - 0s 18ms/step - loss: 137.1101 - mae: 9.2986 - val_loss: 384.0483 - val_mae: 16.2283\n",
            "Epoch 116/150\n",
            "4/4 [==============================] - 0s 18ms/step - loss: 229.0200 - mae: 12.9014 - val_loss: 475.7108 - val_mae: 18.5215\n",
            "Epoch 117/150\n",
            "4/4 [==============================] - 0s 19ms/step - loss: 265.5730 - mae: 14.1991 - val_loss: 185.1816 - val_mae: 11.0993\n",
            "Epoch 118/150\n",
            "4/4 [==============================] - 0s 20ms/step - loss: 75.0330 - mae: 6.8240 - val_loss: 166.0359 - val_mae: 10.4951\n",
            "Epoch 119/150\n",
            "4/4 [==============================] - 0s 20ms/step - loss: 76.5161 - mae: 6.8387 - val_loss: 192.2222 - val_mae: 11.0248\n",
            "Epoch 120/150\n",
            "4/4 [==============================] - 0s 18ms/step - loss: 176.5385 - mae: 11.0955 - val_loss: 250.4848 - val_mae: 12.7462\n",
            "Epoch 121/150\n",
            "4/4 [==============================] - 0s 19ms/step - loss: 233.8817 - mae: 13.1793 - val_loss: 159.1106 - val_mae: 10.3843\n",
            "Epoch 122/150\n",
            "4/4 [==============================] - 0s 18ms/step - loss: 75.0352 - mae: 6.8998 - val_loss: 247.5357 - val_mae: 12.8249\n",
            "Epoch 123/150\n",
            "4/4 [==============================] - 0s 19ms/step - loss: 174.9019 - mae: 11.0858 - val_loss: 373.8030 - val_mae: 16.0268\n",
            "Epoch 124/150\n",
            "4/4 [==============================] - 0s 18ms/step - loss: 209.6043 - mae: 12.2658 - val_loss: 182.8848 - val_mae: 11.1306\n",
            "Epoch 125/150\n",
            "4/4 [==============================] - 0s 18ms/step - loss: 71.9819 - mae: 6.7324 - val_loss: 202.6209 - val_mae: 11.6046\n",
            "Epoch 126/150\n",
            "4/4 [==============================] - 0s 18ms/step - loss: 116.0222 - mae: 8.3642 - val_loss: 589.7540 - val_mae: 21.0324\n",
            "Epoch 127/150\n",
            "4/4 [==============================] - 0s 22ms/step - loss: 342.7066 - mae: 16.5220 - val_loss: 208.3112 - val_mae: 11.8047\n",
            "Epoch 128/150\n",
            "4/4 [==============================] - 0s 22ms/step - loss: 87.9522 - mae: 7.4627 - val_loss: 228.4271 - val_mae: 12.3470\n",
            "Epoch 129/150\n",
            "4/4 [==============================] - 0s 17ms/step - loss: 123.0811 - mae: 9.0178 - val_loss: 253.1849 - val_mae: 12.9248\n",
            "Epoch 130/150\n",
            "4/4 [==============================] - 0s 17ms/step - loss: 146.2005 - mae: 9.9377 - val_loss: 300.5017 - val_mae: 14.1770\n",
            "Epoch 131/150\n",
            "4/4 [==============================] - 0s 18ms/step - loss: 214.0889 - mae: 12.2842 - val_loss: 292.4117 - val_mae: 13.9864\n",
            "Epoch 132/150\n",
            "4/4 [==============================] - 0s 19ms/step - loss: 138.3169 - mae: 9.5311 - val_loss: 194.0468 - val_mae: 11.3865\n",
            "Epoch 133/150\n",
            "4/4 [==============================] - 0s 18ms/step - loss: 77.8997 - mae: 6.9926 - val_loss: 185.9528 - val_mae: 11.1959\n",
            "Epoch 134/150\n",
            "4/4 [==============================] - 0s 19ms/step - loss: 108.6018 - mae: 8.3507 - val_loss: 373.6761 - val_mae: 16.0234\n",
            "Epoch 135/150\n",
            "4/4 [==============================] - 0s 19ms/step - loss: 307.8481 - mae: 15.4871 - val_loss: 243.6028 - val_mae: 12.7172\n",
            "Epoch 136/150\n",
            "4/4 [==============================] - 0s 18ms/step - loss: 138.6654 - mae: 9.4810 - val_loss: 292.4369 - val_mae: 13.9777\n",
            "Epoch 137/150\n",
            "4/4 [==============================] - 0s 18ms/step - loss: 137.3934 - mae: 9.4407 - val_loss: 239.5100 - val_mae: 12.6394\n",
            "Epoch 138/150\n",
            "4/4 [==============================] - 0s 19ms/step - loss: 125.4990 - mae: 9.0511 - val_loss: 218.0816 - val_mae: 12.0645\n",
            "Epoch 139/150\n",
            "4/4 [==============================] - 0s 19ms/step - loss: 87.5379 - mae: 7.3843 - val_loss: 293.1630 - val_mae: 14.0337\n",
            "Epoch 140/150\n",
            "4/4 [==============================] - 0s 17ms/step - loss: 207.4146 - mae: 12.1311 - val_loss: 375.0120 - val_mae: 16.0007\n",
            "Epoch 141/150\n",
            "4/4 [==============================] - 0s 18ms/step - loss: 183.7552 - mae: 11.3994 - val_loss: 202.0972 - val_mae: 11.6611\n",
            "Epoch 142/150\n",
            "4/4 [==============================] - 0s 21ms/step - loss: 72.6725 - mae: 6.7085 - val_loss: 299.6308 - val_mae: 14.1431\n",
            "Epoch 143/150\n",
            "4/4 [==============================] - 0s 18ms/step - loss: 174.5161 - mae: 10.9518 - val_loss: 448.4116 - val_mae: 17.7237\n",
            "Epoch 144/150\n",
            "4/4 [==============================] - 0s 20ms/step - loss: 192.0070 - mae: 11.7852 - val_loss: 332.3673 - val_mae: 14.9698\n",
            "Epoch 145/150\n",
            "4/4 [==============================] - 0s 18ms/step - loss: 146.7774 - mae: 9.7441 - val_loss: 188.2236 - val_mae: 11.2943\n",
            "Epoch 146/150\n",
            "4/4 [==============================] - 0s 17ms/step - loss: 70.3923 - mae: 6.4714 - val_loss: 178.7186 - val_mae: 10.7969\n",
            "Epoch 147/150\n",
            "4/4 [==============================] - 0s 19ms/step - loss: 88.9644 - mae: 7.7575 - val_loss: 323.0540 - val_mae: 14.6802\n",
            "Epoch 148/150\n",
            "4/4 [==============================] - 0s 19ms/step - loss: 344.5339 - mae: 16.7036 - val_loss: 196.3992 - val_mae: 11.2244\n",
            "Epoch 149/150\n",
            "4/4 [==============================] - 0s 20ms/step - loss: 92.0035 - mae: 7.6253 - val_loss: 178.6346 - val_mae: 11.0165\n",
            "Epoch 150/150\n",
            "4/4 [==============================] - 0s 18ms/step - loss: 66.7336 - mae: 6.4332 - val_loss: 168.5886 - val_mae: 10.7137\n"
          ],
          "name": "stdout"
        }
      ]
    },
    {
      "cell_type": "code",
      "metadata": {
        "colab": {
          "base_uri": "https://localhost:8080/"
        },
        "id": "U1qIDdWwYy5A",
        "outputId": "4cd59549-0274-4a05-efe4-249027d66a1b"
      },
      "source": [
        "history.history.keys()"
      ],
      "execution_count": null,
      "outputs": [
        {
          "output_type": "execute_result",
          "data": {
            "text/plain": [
              "dict_keys(['loss', 'mae', 'val_loss', 'val_mae'])"
            ]
          },
          "metadata": {
            "tags": []
          },
          "execution_count": 183
        }
      ]
    },
    {
      "cell_type": "code",
      "metadata": {
        "colab": {
          "base_uri": "https://localhost:8080/",
          "height": 295
        },
        "id": "4JPNQ-PUYy5P",
        "outputId": "5b16bcb0-1b7c-494d-de6f-1c70e5faf83c"
      },
      "source": [
        "history_dict = history.history\n",
        "mae_values = history_dict['mae']\n",
        "val_mae_values = history_dict['val_mae']\n",
        "\n",
        "epochs = range(150)\n",
        "plt.plot(epochs, mae_values, 'bo', label='Training MAE')\n",
        "plt.plot(epochs, val_mae_values, 'r', label='Validation MAE')\n",
        "plt.title('Training and validation MAE')\n",
        "plt.xlabel('Epochs')\n",
        "plt.ylabel('Loss')\n",
        "plt.legend()\n",
        "plt.show()"
      ],
      "execution_count": null,
      "outputs": [
        {
          "output_type": "display_data",
          "data": {
            "image/png": "[encoded data removed]",
            "text/plain": [
              "<Figure size 432x288 with 1 Axes>"
            ]
          },
          "metadata": {
            "tags": [],
            "needs_background": "light"
          }
        }
      ]
    },
    {
      "cell_type": "code",
      "metadata": {
        "colab": {
          "base_uri": "https://localhost:8080/",
          "height": 295
        },
        "id": "pqSwhMVOYy5Q",
        "outputId": "70771e3e-a0db-426b-8665-b0bf6deb33e6"
      },
      "source": [
        "loss_values = history_dict['loss']\n",
        "val_mse_values = history_dict['val_loss']\n",
        "plt.plot(epochs, loss_values, 'bo', label='Training Loss')\n",
        "plt.plot(epochs, val_mse_values, 'r', label='Validation Loss')\n",
        "plt.title('Training and validation MSE')\n",
        "plt.xlabel('Epochs')\n",
        "plt.ylabel('Mean Square Error (Price)')\n",
        "plt.legend()\n",
        "plt.show()"
      ],
      "execution_count": null,
      "outputs": [
        {
          "output_type": "display_data",
          "data": {
            "image/png": "[encoded data removed]",
            "text/plain": [
              "<Figure size 432x288 with 1 Axes>"
            ]
          },
          "metadata": {
            "tags": [],
            "needs_background": "light"
          }
        }
      ]
    },
    {
      "cell_type": "markdown",
      "metadata": {
        "id": "CILTIeSvvjbj"
      },
      "source": [
        "# Method 3 (Using Kfold)"
      ]
    },
    {
      "cell_type": "code",
      "metadata": {
        "id": "iJcFPMW-8UUC"
      },
      "source": [
        "def build_model():\n",
        "  model=models.Sequential()\n",
        "  model.add(layers.Dense(36,activation='relu',input_shape=(8,)))\n",
        "  model.add(layers.Dense(36,activation='relu'))\n",
        "  model.add(layers.Dense(1))\n",
        "  model.compile(optimizer='rmsprop',loss='mse',metrics=['mae'])\n",
        "  return model"
      ],
      "execution_count": null,
      "outputs": []
    },
    {
      "cell_type": "code",
      "metadata": {
        "colab": {
          "base_uri": "https://localhost:8080/"
        },
        "id": "-Z3OAK677cD8",
        "outputId": "1353e858-6cc7-4424-a7dc-d8b3bbb50add"
      },
      "source": [
        "k = 4\n",
        "num_val_samples = len(remaining_data) // k\n",
        "num_epochs = 80\n",
        "all_mae_histories = []\n",
        "for i in range(k):\n",
        " print('processing fold #', i)\n",
        "\n",
        " val_data = remaining_data[i * num_val_samples: (i + 1) * num_val_samples]\n",
        " val_targets = remaining_labels[i * num_val_samples: (i + 1) * num_val_samples]\n",
        "\n",
        " partial_train_data = np.concatenate([remaining_data[:i * num_val_samples],remaining_data[(i + 1) * num_val_samples:]],axis=0)\n",
        " partial_train_targets = np.concatenate([remaining_labels[:i * num_val_samples],remaining_labels[(i + 1) * num_val_samples:]],axis=0)\n",
        " \n",
        " model = build_model()\n",
        " history = model.fit(partial_train_data, partial_train_targets,validation_data=(val_data, val_targets),epochs=num_epochs, batch_size=5, verbose=0)\n",
        " mae_history = history.history['val_mae']\n",
        " all_mae_histories.append(mae_history)"
      ],
      "execution_count": null,
      "outputs": [
        {
          "output_type": "stream",
          "text": [
            "processing fold # 0\n",
            "processing fold # 1\n",
            "processing fold # 2\n",
            "processing fold # 3\n"
          ],
          "name": "stdout"
        }
      ]
    },
    {
      "cell_type": "code",
      "metadata": {
        "colab": {
          "base_uri": "https://localhost:8080/"
        },
        "id": "upVDpwWmw2Jn",
        "outputId": "40ea3b88-b48d-4db1-bbbc-ed66df866955"
      },
      "source": [
        "history.history.keys()"
      ],
      "execution_count": null,
      "outputs": [
        {
          "output_type": "execute_result",
          "data": {
            "text/plain": [
              "dict_keys(['loss', 'mae', 'val_loss', 'val_mae'])"
            ]
          },
          "metadata": {
            "tags": []
          },
          "execution_count": 194
        }
      ]
    },
    {
      "cell_type": "code",
      "metadata": {
        "colab": {
          "base_uri": "https://localhost:8080/",
          "height": 295
        },
        "id": "GvCkj5Bmw6aQ",
        "outputId": "dfdca954-0973-4d14-9d79-4a350b406c8c"
      },
      "source": [
        "history_dict = history.history\n",
        "mae_values = history_dict['mae']\n",
        "val_mae_values = history_dict['val_mae']\n",
        "\n",
        "epochs = range(80)\n",
        "plt.plot(epochs, mae_values, 'bo', label='Training MAE')\n",
        "plt.plot(epochs, val_mae_values, 'r', label='Validation MAE')\n",
        "plt.title('Training and validation MAE')\n",
        "plt.xlabel('Epochs')\n",
        "plt.ylabel('Loss')\n",
        "plt.legend()\n",
        "plt.show()"
      ],
      "execution_count": null,
      "outputs": [
        {
          "output_type": "display_data",
          "data": {
            "image/png": "[encoded data removed]",
            "text/plain": [
              "<Figure size 432x288 with 1 Axes>"
            ]
          },
          "metadata": {
            "tags": [],
            "needs_background": "light"
          }
        }
      ]
    },
    {
      "cell_type": "code",
      "metadata": {
        "colab": {
          "base_uri": "https://localhost:8080/",
          "height": 295
        },
        "id": "4GTs491Sw6iK",
        "outputId": "a4da5d34-cb86-44d2-a724-8a261491a1bb"
      },
      "source": [
        "loss_values = history_dict['loss']\n",
        "val_mse_values = history_dict['val_loss']\n",
        "plt.plot(epochs, loss_values, 'bo', label='Training Loss')\n",
        "plt.plot(epochs, val_mse_values, 'r', label='Validation Loss')\n",
        "plt.title('Training and validation MSE')\n",
        "plt.xlabel('Epochs')\n",
        "plt.ylabel('Mean Square Error (Price)')\n",
        "plt.legend()\n",
        "plt.show()"
      ],
      "execution_count": null,
      "outputs": [
        {
          "output_type": "display_data",
          "data": {
            "image/png": "[encoded data removed]",
            "text/plain": [
              "<Figure size 432x288 with 1 Axes>"
            ]
          },
          "metadata": {
            "tags": [],
            "needs_background": "light"
          }
        }
      ]
    },
    {
      "cell_type": "code",
      "metadata": {
        "id": "tqVLsDSJ7cIB"
      },
      "source": [
        "average_mae_history = [np.mean([x[i] for x in all_mae_histories]) for i in range(num_epochs)]"
      ],
      "execution_count": null,
      "outputs": []
    },
    {
      "cell_type": "code",
      "metadata": {
        "colab": {
          "base_uri": "https://localhost:8080/",
          "height": 279
        },
        "id": "nKLP3GLRaTA2",
        "outputId": "d85e4014-df89-4414-d66f-8a3134c715c7"
      },
      "source": [
        "plt.plot(range(len(average_mae_history)), average_mae_history)\n",
        "plt.xlabel('Epochs')\n",
        "plt.ylabel('Validation MAE')\n",
        "plt.show()"
      ],
      "execution_count": null,
      "outputs": [
        {
          "output_type": "display_data",
          "data": {
            "image/png": "[encoded data removed]",
            "text/plain": [
              "<Figure size 432x288 with 1 Axes>"
            ]
          },
          "metadata": {
            "tags": [],
            "needs_background": "light"
          }
        }
      ]
    },
    {
      "cell_type": "code",
      "metadata": {
        "colab": {
          "base_uri": "https://localhost:8080/"
        },
        "id": "pQi7sOUAIvmU",
        "outputId": "ff74bded-93e7-4505-9d44-4d05866153ce"
      },
      "source": [
        "test_mse_score, test_mae_score = model.evaluate(test_data, test_labels)"
      ],
      "execution_count": null,
      "outputs": [
        {
          "output_type": "stream",
          "text": [
            "10/10 [==============================] - 0s 2ms/step - loss: 140.2606 - mae: 9.1545\n"
          ],
          "name": "stdout"
        }
      ]
    },
    {
      "cell_type": "markdown",
      "metadata": {
        "id": "WZevYiOj4cAU"
      },
      "source": [
        "# Method 4 (Improved Results)"
      ]
    },
    {
      "cell_type": "markdown",
      "metadata": {
        "id": "icQ5iq_XBdNO"
      },
      "source": [
        "### 1.Data Preparation again"
      ]
    },
    {
      "cell_type": "code",
      "metadata": {
        "id": "kbxBZc8n4g3R"
      },
      "source": [
        "x_train = concrete_data.sample(frac = 0.7, random_state = 123)"
      ],
      "execution_count": 68,
      "outputs": []
    },
    {
      "cell_type": "code",
      "metadata": {
        "colab": {
          "base_uri": "https://localhost:8080/"
        },
        "id": "khIH8oXX4g67",
        "outputId": "c11adef7-888a-43ab-c74e-f32da0e83cbd"
      },
      "source": [
        "x_train.index"
      ],
      "execution_count": 69,
      "outputs": [
        {
          "output_type": "execute_result",
          "data": {
            "text/plain": [
              "Int64Index([134,  13, 996, 770, 937,  98, 701, 527, 560, 656,\n",
              "            ...\n",
              "            436, 488, 570, 890, 958, 931, 466, 983, 918, 423],\n",
              "           dtype='int64', length=721)"
            ]
          },
          "metadata": {
            "tags": []
          },
          "execution_count": 69
        }
      ]
    },
    {
      "cell_type": "code",
      "metadata": {
        "colab": {
          "base_uri": "https://localhost:8080/",
          "height": 197
        },
        "id": "mtwgf6664g-3",
        "outputId": "c932e079-4e88-4d39-9d25-67cc401a1cf7"
      },
      "source": [
        "x_train.head()"
      ],
      "execution_count": 70,
      "outputs": [
        {
          "output_type": "execute_result",
          "data": {
            "text/html": [
              "<div>\n",
              "<style scoped>\n",
              "    .dataframe tbody tr th:only-of-type {\n",
              "        vertical-align: middle;\n",
              "    }\n",
              "\n",
              "    .dataframe tbody tr th {\n",
              "        vertical-align: top;\n",
              "    }\n",
              "\n",
              "    .dataframe thead th {\n",
              "        text-align: right;\n",
              "    }\n",
              "</style>\n",
              "<table border=\"1\" class=\"dataframe\">\n",
              "  <thead>\n",
              "    <tr style=\"text-align: right;\">\n",
              "      <th></th>\n",
              "      <th>Cement</th>\n",
              "      <th>Blast_Furnance_Slag</th>\n",
              "      <th>Fly_Ash</th>\n",
              "      <th>Water</th>\n",
              "      <th>Super_Plasticizer</th>\n",
              "      <th>Coarse_Aggregate</th>\n",
              "      <th>Fine_Aggregate</th>\n",
              "      <th>Age</th>\n",
              "      <th>Concrete_Strength</th>\n",
              "    </tr>\n",
              "  </thead>\n",
              "  <tbody>\n",
              "    <tr>\n",
              "      <th>134</th>\n",
              "      <td>362.6</td>\n",
              "      <td>189.0</td>\n",
              "      <td>0.0</td>\n",
              "      <td>164.9</td>\n",
              "      <td>11.6</td>\n",
              "      <td>944.7</td>\n",
              "      <td>755.8</td>\n",
              "      <td>28.0</td>\n",
              "      <td>71.30</td>\n",
              "    </tr>\n",
              "    <tr>\n",
              "      <th>13</th>\n",
              "      <td>190.0</td>\n",
              "      <td>190.0</td>\n",
              "      <td>0.0</td>\n",
              "      <td>228.0</td>\n",
              "      <td>0.0</td>\n",
              "      <td>932.0</td>\n",
              "      <td>670.0</td>\n",
              "      <td>90.0</td>\n",
              "      <td>42.33</td>\n",
              "    </tr>\n",
              "    <tr>\n",
              "      <th>996</th>\n",
              "      <td>152.6</td>\n",
              "      <td>238.7</td>\n",
              "      <td>0.0</td>\n",
              "      <td>200.0</td>\n",
              "      <td>6.3</td>\n",
              "      <td>1001.8</td>\n",
              "      <td>683.9</td>\n",
              "      <td>28.0</td>\n",
              "      <td>26.86</td>\n",
              "    </tr>\n",
              "    <tr>\n",
              "      <th>770</th>\n",
              "      <td>349.0</td>\n",
              "      <td>0.0</td>\n",
              "      <td>0.0</td>\n",
              "      <td>192.0</td>\n",
              "      <td>0.0</td>\n",
              "      <td>1047.0</td>\n",
              "      <td>806.0</td>\n",
              "      <td>3.0</td>\n",
              "      <td>14.99</td>\n",
              "    </tr>\n",
              "    <tr>\n",
              "      <th>937</th>\n",
              "      <td>313.3</td>\n",
              "      <td>0.0</td>\n",
              "      <td>113.0</td>\n",
              "      <td>178.5</td>\n",
              "      <td>8.0</td>\n",
              "      <td>1001.9</td>\n",
              "      <td>688.7</td>\n",
              "      <td>28.0</td>\n",
              "      <td>36.80</td>\n",
              "    </tr>\n",
              "  </tbody>\n",
              "</table>\n",
              "</div>"
            ],
            "text/plain": [
              "     Cement  Blast_Furnance_Slag  ...   Age  Concrete_Strength\n",
              "134   362.6                189.0  ...  28.0              71.30\n",
              "13    190.0                190.0  ...  90.0              42.33\n",
              "996   152.6                238.7  ...  28.0              26.86\n",
              "770   349.0                  0.0  ...   3.0              14.99\n",
              "937   313.3                  0.0  ...  28.0              36.80\n",
              "\n",
              "[5 rows x 9 columns]"
            ]
          },
          "metadata": {
            "tags": []
          },
          "execution_count": 70
        }
      ]
    },
    {
      "cell_type": "code",
      "metadata": {
        "colab": {
          "base_uri": "https://localhost:8080/",
          "height": 197
        },
        "id": "cOgy-R-q4hCI",
        "outputId": "354e44a6-3c36-445c-ea4f-97e2320e09dc"
      },
      "source": [
        "x_test = concrete_data.drop(x_train.index)\n",
        "x_test.head()"
      ],
      "execution_count": 71,
      "outputs": [
        {
          "output_type": "execute_result",
          "data": {
            "text/html": [
              "<div>\n",
              "<style scoped>\n",
              "    .dataframe tbody tr th:only-of-type {\n",
              "        vertical-align: middle;\n",
              "    }\n",
              "\n",
              "    .dataframe tbody tr th {\n",
              "        vertical-align: top;\n",
              "    }\n",
              "\n",
              "    .dataframe thead th {\n",
              "        text-align: right;\n",
              "    }\n",
              "</style>\n",
              "<table border=\"1\" class=\"dataframe\">\n",
              "  <thead>\n",
              "    <tr style=\"text-align: right;\">\n",
              "      <th></th>\n",
              "      <th>Cement</th>\n",
              "      <th>Blast_Furnance_Slag</th>\n",
              "      <th>Fly_Ash</th>\n",
              "      <th>Water</th>\n",
              "      <th>Super_Plasticizer</th>\n",
              "      <th>Coarse_Aggregate</th>\n",
              "      <th>Fine_Aggregate</th>\n",
              "      <th>Age</th>\n",
              "      <th>Concrete_Strength</th>\n",
              "    </tr>\n",
              "  </thead>\n",
              "  <tbody>\n",
              "    <tr>\n",
              "      <th>2</th>\n",
              "      <td>332.5</td>\n",
              "      <td>142.5</td>\n",
              "      <td>0.0</td>\n",
              "      <td>228.0</td>\n",
              "      <td>0.0</td>\n",
              "      <td>932.0</td>\n",
              "      <td>594.0</td>\n",
              "      <td>270.0</td>\n",
              "      <td>40.27</td>\n",
              "    </tr>\n",
              "    <tr>\n",
              "      <th>3</th>\n",
              "      <td>332.5</td>\n",
              "      <td>142.5</td>\n",
              "      <td>0.0</td>\n",
              "      <td>228.0</td>\n",
              "      <td>0.0</td>\n",
              "      <td>932.0</td>\n",
              "      <td>594.0</td>\n",
              "      <td>365.0</td>\n",
              "      <td>41.05</td>\n",
              "    </tr>\n",
              "    <tr>\n",
              "      <th>8</th>\n",
              "      <td>266.0</td>\n",
              "      <td>114.0</td>\n",
              "      <td>0.0</td>\n",
              "      <td>228.0</td>\n",
              "      <td>0.0</td>\n",
              "      <td>932.0</td>\n",
              "      <td>670.0</td>\n",
              "      <td>28.0</td>\n",
              "      <td>45.85</td>\n",
              "    </tr>\n",
              "    <tr>\n",
              "      <th>10</th>\n",
              "      <td>198.6</td>\n",
              "      <td>132.4</td>\n",
              "      <td>0.0</td>\n",
              "      <td>192.0</td>\n",
              "      <td>0.0</td>\n",
              "      <td>978.4</td>\n",
              "      <td>825.5</td>\n",
              "      <td>90.0</td>\n",
              "      <td>38.07</td>\n",
              "    </tr>\n",
              "    <tr>\n",
              "      <th>14</th>\n",
              "      <td>304.0</td>\n",
              "      <td>76.0</td>\n",
              "      <td>0.0</td>\n",
              "      <td>228.0</td>\n",
              "      <td>0.0</td>\n",
              "      <td>932.0</td>\n",
              "      <td>670.0</td>\n",
              "      <td>28.0</td>\n",
              "      <td>47.81</td>\n",
              "    </tr>\n",
              "  </tbody>\n",
              "</table>\n",
              "</div>"
            ],
            "text/plain": [
              "    Cement  Blast_Furnance_Slag  ...    Age  Concrete_Strength\n",
              "2    332.5                142.5  ...  270.0              40.27\n",
              "3    332.5                142.5  ...  365.0              41.05\n",
              "8    266.0                114.0  ...   28.0              45.85\n",
              "10   198.6                132.4  ...   90.0              38.07\n",
              "14   304.0                 76.0  ...   28.0              47.81\n",
              "\n",
              "[5 rows x 9 columns]"
            ]
          },
          "metadata": {
            "tags": []
          },
          "execution_count": 71
        }
      ]
    },
    {
      "cell_type": "code",
      "metadata": {
        "id": "xWtq3RmM5MX2"
      },
      "source": [
        "y_train = x_train.iloc[:,-1]\n",
        "x_train = x_train.iloc[:,0:-1]\n",
        "y_test = x_test.iloc[:,-1]\n",
        "x_test = x_test.iloc[:,0:-1]"
      ],
      "execution_count": 72,
      "outputs": []
    },
    {
      "cell_type": "code",
      "metadata": {
        "id": "FFArYsmi5S9S"
      },
      "source": [
        "x_mean = x_train.mean()\n",
        "x_train -= x_mean\n",
        "x_std = x_train.std()\n",
        "x_train /= x_std\n",
        "x_test -= x_mean\n",
        "x_test /= x_std"
      ],
      "execution_count": 73,
      "outputs": []
    },
    {
      "cell_type": "code",
      "metadata": {
        "id": "N9t6qyYw5TBJ"
      },
      "source": [
        "y_mean = y_train.mean()\n",
        "y_train -= y_mean\n",
        "y_std = y_train.std()\n",
        "y_train /= y_std\n",
        "y_test -= y_mean\n",
        "y_test /= y_std"
      ],
      "execution_count": 74,
      "outputs": []
    },
    {
      "cell_type": "code",
      "metadata": {
        "colab": {
          "base_uri": "https://localhost:8080/"
        },
        "id": "U48dG8YJ4hE6",
        "outputId": "879d3001-cd3c-4b2e-d315-5e7722b39d25"
      },
      "source": [
        "x_train.info()"
      ],
      "execution_count": 75,
      "outputs": [
        {
          "output_type": "stream",
          "text": [
            "<class 'pandas.core.frame.DataFrame'>\n",
            "Int64Index: 721 entries, 134 to 423\n",
            "Data columns (total 8 columns):\n",
            " #   Column               Non-Null Count  Dtype  \n",
            "---  ------               --------------  -----  \n",
            " 0   Cement               721 non-null    float64\n",
            " 1   Blast_Furnance_Slag  721 non-null    float64\n",
            " 2   Fly_Ash              721 non-null    float64\n",
            " 3   Water                721 non-null    float64\n",
            " 4   Super_Plasticizer    721 non-null    float64\n",
            " 5   Coarse_Aggregate     721 non-null    float64\n",
            " 6   Fine_Aggregate       721 non-null    float64\n",
            " 7   Age                  721 non-null    float64\n",
            "dtypes: float64(8)\n",
            "memory usage: 50.7 KB\n"
          ],
          "name": "stdout"
        }
      ]
    },
    {
      "cell_type": "code",
      "metadata": {
        "colab": {
          "base_uri": "https://localhost:8080/"
        },
        "id": "rNW1gsVJ9xOU",
        "outputId": "a60b5d7d-f3a6-4c1f-ffae-7645d49e5e33"
      },
      "source": [
        "x_train.dtypes"
      ],
      "execution_count": 76,
      "outputs": [
        {
          "output_type": "execute_result",
          "data": {
            "text/plain": [
              "Cement                 float64\n",
              "Blast_Furnance_Slag    float64\n",
              "Fly_Ash                float64\n",
              "Water                  float64\n",
              "Super_Plasticizer      float64\n",
              "Coarse_Aggregate       float64\n",
              "Fine_Aggregate         float64\n",
              "Age                    float64\n",
              "dtype: object"
            ]
          },
          "metadata": {
            "tags": []
          },
          "execution_count": 76
        }
      ]
    },
    {
      "cell_type": "code",
      "metadata": {
        "id": "H8-mZCNV9NjC"
      },
      "source": [
        "x_train = x_train.to_numpy()\n",
        "y_train = y_train.to_numpy()\n",
        "x_test = x_test.to_numpy()\n",
        "y_test = y_test.to_numpy()"
      ],
      "execution_count": 77,
      "outputs": []
    },
    {
      "cell_type": "code",
      "metadata": {
        "colab": {
          "base_uri": "https://localhost:8080/"
        },
        "id": "dzRnvitl-HOd",
        "outputId": "f356ca3c-0518-480e-9464-f2e5907b5eec"
      },
      "source": [
        "x_train"
      ],
      "execution_count": 78,
      "outputs": [
        {
          "output_type": "execute_result",
          "data": {
            "text/plain": [
              "array([[ 0.80545429,  1.30380957, -0.82805958, ..., -0.34868242,\n",
              "        -0.24128161, -0.28294978],\n",
              "       [-0.85911335,  1.31526445, -0.82805958, ..., -0.51303507,\n",
              "        -1.2999464 ,  0.70067422],\n",
              "       [-1.21980182,  1.87311692, -0.82805958, ...,  0.39025745,\n",
              "        -1.12843776, -0.28294978],\n",
              "       ...,\n",
              "       [-1.37603586,  0.98994597,  1.11404672, ..., -0.63468191,\n",
              "        -0.13516836, -0.28294978],\n",
              "       [-1.2930968 , -0.86116202,  1.93535081, ..., -1.91067965,\n",
              "         1.15546493, -0.28294978],\n",
              "       [-1.0288491 , -0.7053757 ,  1.8334597 , ...,  0.44849264,\n",
              "         0.99999668, -0.50505842]])"
            ]
          },
          "metadata": {
            "tags": []
          },
          "execution_count": 78
        }
      ]
    },
    {
      "cell_type": "code",
      "metadata": {
        "id": "mF_4yIaB-KnB"
      },
      "source": [
        "y_train"
      ],
      "execution_count": null,
      "outputs": []
    },
    {
      "cell_type": "markdown",
      "metadata": {
        "id": "Zpjfijl9BoWQ"
      },
      "source": [
        "###2.Model definition"
      ]
    },
    {
      "cell_type": "code",
      "metadata": {
        "id": "Pmk6nbIJ4hIU"
      },
      "source": [
        "from tensorflow.keras import layers\n",
        "from tensorflow.keras import models\n",
        "model=models.Sequential()\n",
        "model.add(layers.Dense(128,activation='relu',input_shape=(x_train.shape[1],)))\n",
        "model.add(layers.Dense(64,activation='relu'))\n",
        "model.add(layers.Dense(32,activation='relu'))\n",
        "model.add(layers.Dense(1))"
      ],
      "execution_count": 80,
      "outputs": []
    },
    {
      "cell_type": "code",
      "metadata": {
        "id": "vZxZnFMR4hOp"
      },
      "source": [
        "model.compile(optimizer='rmsprop',loss='mse',metrics=['mae'])"
      ],
      "execution_count": 81,
      "outputs": []
    },
    {
      "cell_type": "code",
      "metadata": {
        "colab": {
          "base_uri": "https://localhost:8080/"
        },
        "id": "nCJ9HU_76o0j",
        "outputId": "3f0ab1ff-6a98-4217-fc70-b7e6a47bbf1d"
      },
      "source": [
        "history = model.fit(x_train, y_train, epochs=200, batch_size=16, validation_split= 0.4)"
      ],
      "execution_count": 82,
      "outputs": [
        {
          "output_type": "stream",
          "text": [
            "Epoch 1/200\n",
            "27/27 [==============================] - 1s 9ms/step - loss: 0.7316 - mae: 0.6966 - val_loss: 0.4807 - val_mae: 0.5707\n",
            "Epoch 2/200\n",
            "27/27 [==============================] - 0s 4ms/step - loss: 0.3366 - mae: 0.4645 - val_loss: 0.3687 - val_mae: 0.4929\n",
            "Epoch 3/200\n",
            "27/27 [==============================] - 0s 4ms/step - loss: 0.2416 - mae: 0.3994 - val_loss: 0.2919 - val_mae: 0.4210\n",
            "Epoch 4/200\n",
            "27/27 [==============================] - 0s 4ms/step - loss: 0.2041 - mae: 0.3614 - val_loss: 0.2751 - val_mae: 0.4077\n",
            "Epoch 5/200\n",
            "27/27 [==============================] - 0s 4ms/step - loss: 0.1861 - mae: 0.3486 - val_loss: 0.2673 - val_mae: 0.3940\n",
            "Epoch 6/200\n",
            "27/27 [==============================] - 0s 4ms/step - loss: 0.1862 - mae: 0.3348 - val_loss: 0.2320 - val_mae: 0.3653\n",
            "Epoch 7/200\n",
            "27/27 [==============================] - 0s 4ms/step - loss: 0.1440 - mae: 0.2930 - val_loss: 0.2055 - val_mae: 0.3487\n",
            "Epoch 8/200\n",
            "27/27 [==============================] - 0s 4ms/step - loss: 0.1122 - mae: 0.2554 - val_loss: 0.1972 - val_mae: 0.3402\n",
            "Epoch 9/200\n",
            "27/27 [==============================] - 0s 4ms/step - loss: 0.1030 - mae: 0.2574 - val_loss: 0.1992 - val_mae: 0.3420\n",
            "Epoch 10/200\n",
            "27/27 [==============================] - 0s 4ms/step - loss: 0.1159 - mae: 0.2607 - val_loss: 0.1870 - val_mae: 0.3297\n",
            "Epoch 11/200\n",
            "27/27 [==============================] - 0s 4ms/step - loss: 0.0901 - mae: 0.2331 - val_loss: 0.1897 - val_mae: 0.3253\n",
            "Epoch 12/200\n",
            "27/27 [==============================] - 0s 4ms/step - loss: 0.0796 - mae: 0.2242 - val_loss: 0.1688 - val_mae: 0.3117\n",
            "Epoch 13/200\n",
            "27/27 [==============================] - 0s 4ms/step - loss: 0.0839 - mae: 0.2258 - val_loss: 0.1619 - val_mae: 0.3045\n",
            "Epoch 14/200\n",
            "27/27 [==============================] - 0s 4ms/step - loss: 0.0765 - mae: 0.2258 - val_loss: 0.1754 - val_mae: 0.3144\n",
            "Epoch 15/200\n",
            "27/27 [==============================] - 0s 4ms/step - loss: 0.0805 - mae: 0.2219 - val_loss: 0.1564 - val_mae: 0.3007\n",
            "Epoch 16/200\n",
            "27/27 [==============================] - 0s 4ms/step - loss: 0.0762 - mae: 0.2127 - val_loss: 0.1606 - val_mae: 0.3032\n",
            "Epoch 17/200\n",
            "27/27 [==============================] - 0s 4ms/step - loss: 0.0645 - mae: 0.1922 - val_loss: 0.1639 - val_mae: 0.3069\n",
            "Epoch 18/200\n",
            "27/27 [==============================] - 0s 3ms/step - loss: 0.0692 - mae: 0.2061 - val_loss: 0.1739 - val_mae: 0.3194\n",
            "Epoch 19/200\n",
            "27/27 [==============================] - 0s 4ms/step - loss: 0.0577 - mae: 0.1796 - val_loss: 0.1515 - val_mae: 0.2944\n",
            "Epoch 20/200\n",
            "27/27 [==============================] - 0s 4ms/step - loss: 0.0674 - mae: 0.2055 - val_loss: 0.1694 - val_mae: 0.3065\n",
            "Epoch 21/200\n",
            "27/27 [==============================] - 0s 4ms/step - loss: 0.0516 - mae: 0.1734 - val_loss: 0.1616 - val_mae: 0.2988\n",
            "Epoch 22/200\n",
            "27/27 [==============================] - 0s 3ms/step - loss: 0.0488 - mae: 0.1698 - val_loss: 0.1798 - val_mae: 0.3308\n",
            "Epoch 23/200\n",
            "27/27 [==============================] - 0s 4ms/step - loss: 0.0540 - mae: 0.1828 - val_loss: 0.1390 - val_mae: 0.2820\n",
            "Epoch 24/200\n",
            "27/27 [==============================] - 0s 4ms/step - loss: 0.0530 - mae: 0.1760 - val_loss: 0.1485 - val_mae: 0.2927\n",
            "Epoch 25/200\n",
            "27/27 [==============================] - 0s 3ms/step - loss: 0.0530 - mae: 0.1825 - val_loss: 0.1381 - val_mae: 0.2844\n",
            "Epoch 26/200\n",
            "27/27 [==============================] - 0s 3ms/step - loss: 0.0448 - mae: 0.1633 - val_loss: 0.1446 - val_mae: 0.2819\n",
            "Epoch 27/200\n",
            "27/27 [==============================] - 0s 3ms/step - loss: 0.0463 - mae: 0.1665 - val_loss: 0.1408 - val_mae: 0.2819\n",
            "Epoch 28/200\n",
            "27/27 [==============================] - 0s 3ms/step - loss: 0.0496 - mae: 0.1687 - val_loss: 0.1709 - val_mae: 0.3091\n",
            "Epoch 29/200\n",
            "27/27 [==============================] - 0s 3ms/step - loss: 0.0422 - mae: 0.1632 - val_loss: 0.1453 - val_mae: 0.2830\n",
            "Epoch 30/200\n",
            "27/27 [==============================] - 0s 4ms/step - loss: 0.0459 - mae: 0.1668 - val_loss: 0.1743 - val_mae: 0.3110\n",
            "Epoch 31/200\n",
            "27/27 [==============================] - 0s 3ms/step - loss: 0.0585 - mae: 0.1852 - val_loss: 0.1358 - val_mae: 0.2772\n",
            "Epoch 32/200\n",
            "27/27 [==============================] - 0s 3ms/step - loss: 0.0424 - mae: 0.1513 - val_loss: 0.1424 - val_mae: 0.2766\n",
            "Epoch 33/200\n",
            "27/27 [==============================] - 0s 4ms/step - loss: 0.0436 - mae: 0.1598 - val_loss: 0.1547 - val_mae: 0.2986\n",
            "Epoch 34/200\n",
            "27/27 [==============================] - 0s 3ms/step - loss: 0.0375 - mae: 0.1483 - val_loss: 0.1498 - val_mae: 0.2887\n",
            "Epoch 35/200\n",
            "27/27 [==============================] - 0s 3ms/step - loss: 0.0365 - mae: 0.1469 - val_loss: 0.1915 - val_mae: 0.3327\n",
            "Epoch 36/200\n",
            "27/27 [==============================] - 0s 4ms/step - loss: 0.0497 - mae: 0.1664 - val_loss: 0.1567 - val_mae: 0.2971\n",
            "Epoch 37/200\n",
            "27/27 [==============================] - 0s 3ms/step - loss: 0.0459 - mae: 0.1555 - val_loss: 0.1413 - val_mae: 0.2755\n",
            "Epoch 38/200\n",
            "27/27 [==============================] - 0s 3ms/step - loss: 0.0367 - mae: 0.1432 - val_loss: 0.1420 - val_mae: 0.2852\n",
            "Epoch 39/200\n",
            "27/27 [==============================] - 0s 3ms/step - loss: 0.0385 - mae: 0.1466 - val_loss: 0.1653 - val_mae: 0.3052\n",
            "Epoch 40/200\n",
            "27/27 [==============================] - 0s 3ms/step - loss: 0.0587 - mae: 0.1798 - val_loss: 0.1250 - val_mae: 0.2632\n",
            "Epoch 41/200\n",
            "27/27 [==============================] - 0s 4ms/step - loss: 0.0422 - mae: 0.1570 - val_loss: 0.1607 - val_mae: 0.2925\n",
            "Epoch 42/200\n",
            "27/27 [==============================] - 0s 3ms/step - loss: 0.0420 - mae: 0.1510 - val_loss: 0.1370 - val_mae: 0.2726\n",
            "Epoch 43/200\n",
            "27/27 [==============================] - 0s 4ms/step - loss: 0.0352 - mae: 0.1381 - val_loss: 0.1402 - val_mae: 0.2861\n",
            "Epoch 44/200\n",
            "27/27 [==============================] - 0s 3ms/step - loss: 0.0338 - mae: 0.1402 - val_loss: 0.1370 - val_mae: 0.2749\n",
            "Epoch 45/200\n",
            "27/27 [==============================] - 0s 3ms/step - loss: 0.0432 - mae: 0.1523 - val_loss: 0.1359 - val_mae: 0.2758\n",
            "Epoch 46/200\n",
            "27/27 [==============================] - 0s 3ms/step - loss: 0.0256 - mae: 0.1243 - val_loss: 0.1456 - val_mae: 0.2952\n",
            "Epoch 47/200\n",
            "27/27 [==============================] - 0s 4ms/step - loss: 0.0421 - mae: 0.1485 - val_loss: 0.1179 - val_mae: 0.2549\n",
            "Epoch 48/200\n",
            "27/27 [==============================] - 0s 4ms/step - loss: 0.0275 - mae: 0.1279 - val_loss: 0.1341 - val_mae: 0.2714\n",
            "Epoch 49/200\n",
            "27/27 [==============================] - 0s 4ms/step - loss: 0.0269 - mae: 0.1266 - val_loss: 0.1310 - val_mae: 0.2681\n",
            "Epoch 50/200\n",
            "27/27 [==============================] - 0s 4ms/step - loss: 0.0305 - mae: 0.1339 - val_loss: 0.1376 - val_mae: 0.2718\n",
            "Epoch 51/200\n",
            "27/27 [==============================] - 0s 3ms/step - loss: 0.0388 - mae: 0.1471 - val_loss: 0.1248 - val_mae: 0.2587\n",
            "Epoch 52/200\n",
            "27/27 [==============================] - 0s 3ms/step - loss: 0.0308 - mae: 0.1376 - val_loss: 0.1279 - val_mae: 0.2600\n",
            "Epoch 53/200\n",
            "27/27 [==============================] - 0s 3ms/step - loss: 0.0406 - mae: 0.1438 - val_loss: 0.1278 - val_mae: 0.2661\n",
            "Epoch 54/200\n",
            "27/27 [==============================] - 0s 4ms/step - loss: 0.0385 - mae: 0.1407 - val_loss: 0.1212 - val_mae: 0.2590\n",
            "Epoch 55/200\n",
            "27/27 [==============================] - 0s 3ms/step - loss: 0.0244 - mae: 0.1140 - val_loss: 0.1348 - val_mae: 0.2709\n",
            "Epoch 56/200\n",
            "27/27 [==============================] - 0s 3ms/step - loss: 0.0396 - mae: 0.1470 - val_loss: 0.1412 - val_mae: 0.2774\n",
            "Epoch 57/200\n",
            "27/27 [==============================] - 0s 3ms/step - loss: 0.0319 - mae: 0.1282 - val_loss: 0.1268 - val_mae: 0.2595\n",
            "Epoch 58/200\n",
            "27/27 [==============================] - 0s 3ms/step - loss: 0.0266 - mae: 0.1180 - val_loss: 0.1295 - val_mae: 0.2636\n",
            "Epoch 59/200\n",
            "27/27 [==============================] - 0s 3ms/step - loss: 0.0272 - mae: 0.1278 - val_loss: 0.1580 - val_mae: 0.2959\n",
            "Epoch 60/200\n",
            "27/27 [==============================] - 0s 4ms/step - loss: 0.0325 - mae: 0.1331 - val_loss: 0.1416 - val_mae: 0.2771\n",
            "Epoch 61/200\n",
            "27/27 [==============================] - 0s 4ms/step - loss: 0.0290 - mae: 0.1289 - val_loss: 0.1442 - val_mae: 0.2784\n",
            "Epoch 62/200\n",
            "27/27 [==============================] - 0s 4ms/step - loss: 0.0348 - mae: 0.1404 - val_loss: 0.1332 - val_mae: 0.2674\n",
            "Epoch 63/200\n",
            "27/27 [==============================] - 0s 4ms/step - loss: 0.0297 - mae: 0.1328 - val_loss: 0.1351 - val_mae: 0.2720\n",
            "Epoch 64/200\n",
            "27/27 [==============================] - 0s 3ms/step - loss: 0.0286 - mae: 0.1249 - val_loss: 0.1344 - val_mae: 0.2702\n",
            "Epoch 65/200\n",
            "27/27 [==============================] - 0s 3ms/step - loss: 0.0291 - mae: 0.1255 - val_loss: 0.1505 - val_mae: 0.2891\n",
            "Epoch 66/200\n",
            "27/27 [==============================] - 0s 4ms/step - loss: 0.0303 - mae: 0.1326 - val_loss: 0.1323 - val_mae: 0.2605\n",
            "Epoch 67/200\n",
            "27/27 [==============================] - 0s 3ms/step - loss: 0.0251 - mae: 0.1162 - val_loss: 0.1364 - val_mae: 0.2694\n",
            "Epoch 68/200\n",
            "27/27 [==============================] - 0s 4ms/step - loss: 0.0354 - mae: 0.1323 - val_loss: 0.1318 - val_mae: 0.2656\n",
            "Epoch 69/200\n",
            "27/27 [==============================] - 0s 4ms/step - loss: 0.0236 - mae: 0.1146 - val_loss: 0.1238 - val_mae: 0.2585\n",
            "Epoch 70/200\n",
            "27/27 [==============================] - 0s 4ms/step - loss: 0.0259 - mae: 0.1158 - val_loss: 0.1217 - val_mae: 0.2541\n",
            "Epoch 71/200\n",
            "27/27 [==============================] - 0s 3ms/step - loss: 0.0188 - mae: 0.1020 - val_loss: 0.1260 - val_mae: 0.2552\n",
            "Epoch 72/200\n",
            "27/27 [==============================] - 0s 3ms/step - loss: 0.0240 - mae: 0.1093 - val_loss: 0.1200 - val_mae: 0.2524\n",
            "Epoch 73/200\n",
            "27/27 [==============================] - 0s 4ms/step - loss: 0.0282 - mae: 0.1173 - val_loss: 0.1215 - val_mae: 0.2628\n",
            "Epoch 74/200\n",
            "27/27 [==============================] - 0s 3ms/step - loss: 0.0215 - mae: 0.1114 - val_loss: 0.1268 - val_mae: 0.2609\n",
            "Epoch 75/200\n",
            "27/27 [==============================] - 0s 4ms/step - loss: 0.0330 - mae: 0.1241 - val_loss: 0.1285 - val_mae: 0.2653\n",
            "Epoch 76/200\n",
            "27/27 [==============================] - 0s 4ms/step - loss: 0.0292 - mae: 0.1287 - val_loss: 0.1211 - val_mae: 0.2555\n",
            "Epoch 77/200\n",
            "27/27 [==============================] - 0s 3ms/step - loss: 0.0314 - mae: 0.1233 - val_loss: 0.1329 - val_mae: 0.2627\n",
            "Epoch 78/200\n",
            "27/27 [==============================] - 0s 3ms/step - loss: 0.0274 - mae: 0.1212 - val_loss: 0.1351 - val_mae: 0.2658\n",
            "Epoch 79/200\n",
            "27/27 [==============================] - 0s 4ms/step - loss: 0.0221 - mae: 0.1110 - val_loss: 0.1210 - val_mae: 0.2542\n",
            "Epoch 80/200\n",
            "27/27 [==============================] - 0s 4ms/step - loss: 0.0257 - mae: 0.1148 - val_loss: 0.1215 - val_mae: 0.2502\n",
            "Epoch 81/200\n",
            "27/27 [==============================] - 0s 4ms/step - loss: 0.0192 - mae: 0.1054 - val_loss: 0.1416 - val_mae: 0.2738\n",
            "Epoch 82/200\n",
            "27/27 [==============================] - 0s 4ms/step - loss: 0.0258 - mae: 0.1116 - val_loss: 0.1218 - val_mae: 0.2527\n",
            "Epoch 83/200\n",
            "27/27 [==============================] - 0s 4ms/step - loss: 0.0271 - mae: 0.1178 - val_loss: 0.1179 - val_mae: 0.2501\n",
            "Epoch 84/200\n",
            "27/27 [==============================] - 0s 3ms/step - loss: 0.0255 - mae: 0.1167 - val_loss: 0.1210 - val_mae: 0.2551\n",
            "Epoch 85/200\n",
            "27/27 [==============================] - 0s 4ms/step - loss: 0.0335 - mae: 0.1316 - val_loss: 0.1374 - val_mae: 0.2837\n",
            "Epoch 86/200\n",
            "27/27 [==============================] - 0s 4ms/step - loss: 0.0254 - mae: 0.1240 - val_loss: 0.1213 - val_mae: 0.2560\n",
            "Epoch 87/200\n",
            "27/27 [==============================] - 0s 4ms/step - loss: 0.0242 - mae: 0.1108 - val_loss: 0.1412 - val_mae: 0.2785\n",
            "Epoch 88/200\n",
            "27/27 [==============================] - 0s 4ms/step - loss: 0.0269 - mae: 0.1164 - val_loss: 0.1327 - val_mae: 0.2734\n",
            "Epoch 89/200\n",
            "27/27 [==============================] - 0s 4ms/step - loss: 0.0240 - mae: 0.1156 - val_loss: 0.1389 - val_mae: 0.2729\n",
            "Epoch 90/200\n",
            "27/27 [==============================] - 0s 4ms/step - loss: 0.0197 - mae: 0.1033 - val_loss: 0.1224 - val_mae: 0.2545\n",
            "Epoch 91/200\n",
            "27/27 [==============================] - 0s 4ms/step - loss: 0.0219 - mae: 0.1012 - val_loss: 0.1150 - val_mae: 0.2493\n",
            "Epoch 92/200\n",
            "27/27 [==============================] - 0s 5ms/step - loss: 0.0256 - mae: 0.1200 - val_loss: 0.1384 - val_mae: 0.2822\n",
            "Epoch 93/200\n",
            "27/27 [==============================] - 0s 4ms/step - loss: 0.0286 - mae: 0.1237 - val_loss: 0.1203 - val_mae: 0.2546\n",
            "Epoch 94/200\n",
            "27/27 [==============================] - 0s 3ms/step - loss: 0.0195 - mae: 0.0990 - val_loss: 0.1222 - val_mae: 0.2611\n",
            "Epoch 95/200\n",
            "27/27 [==============================] - 0s 4ms/step - loss: 0.0201 - mae: 0.1066 - val_loss: 0.1369 - val_mae: 0.2791\n",
            "Epoch 96/200\n",
            "27/27 [==============================] - 0s 4ms/step - loss: 0.0295 - mae: 0.1174 - val_loss: 0.1108 - val_mae: 0.2486\n",
            "Epoch 97/200\n",
            "27/27 [==============================] - 0s 4ms/step - loss: 0.0277 - mae: 0.1252 - val_loss: 0.1205 - val_mae: 0.2508\n",
            "Epoch 98/200\n",
            "27/27 [==============================] - 0s 4ms/step - loss: 0.0203 - mae: 0.1004 - val_loss: 0.1170 - val_mae: 0.2461\n",
            "Epoch 99/200\n",
            "27/27 [==============================] - 0s 4ms/step - loss: 0.0179 - mae: 0.0941 - val_loss: 0.1330 - val_mae: 0.2720\n",
            "Epoch 100/200\n",
            "27/27 [==============================] - 0s 4ms/step - loss: 0.0244 - mae: 0.1154 - val_loss: 0.1470 - val_mae: 0.2823\n",
            "Epoch 101/200\n",
            "27/27 [==============================] - 0s 3ms/step - loss: 0.0204 - mae: 0.1054 - val_loss: 0.1383 - val_mae: 0.2674\n",
            "Epoch 102/200\n",
            "27/27 [==============================] - 0s 4ms/step - loss: 0.0224 - mae: 0.1129 - val_loss: 0.1241 - val_mae: 0.2566\n",
            "Epoch 103/200\n",
            "27/27 [==============================] - 0s 3ms/step - loss: 0.0205 - mae: 0.1016 - val_loss: 0.1284 - val_mae: 0.2633\n",
            "Epoch 104/200\n",
            "27/27 [==============================] - 0s 3ms/step - loss: 0.0232 - mae: 0.1057 - val_loss: 0.1372 - val_mae: 0.2701\n",
            "Epoch 105/200\n",
            "27/27 [==============================] - 0s 3ms/step - loss: 0.0243 - mae: 0.1124 - val_loss: 0.1255 - val_mae: 0.2588\n",
            "Epoch 106/200\n",
            "27/27 [==============================] - 0s 4ms/step - loss: 0.0199 - mae: 0.1057 - val_loss: 0.1194 - val_mae: 0.2533\n",
            "Epoch 107/200\n",
            "27/27 [==============================] - 0s 4ms/step - loss: 0.0212 - mae: 0.1068 - val_loss: 0.1202 - val_mae: 0.2504\n",
            "Epoch 108/200\n",
            "27/27 [==============================] - 0s 5ms/step - loss: 0.0303 - mae: 0.1182 - val_loss: 0.1304 - val_mae: 0.2704\n",
            "Epoch 109/200\n",
            "27/27 [==============================] - 0s 4ms/step - loss: 0.0216 - mae: 0.1006 - val_loss: 0.1257 - val_mae: 0.2542\n",
            "Epoch 110/200\n",
            "27/27 [==============================] - 0s 4ms/step - loss: 0.0168 - mae: 0.0957 - val_loss: 0.1339 - val_mae: 0.2645\n",
            "Epoch 111/200\n",
            "27/27 [==============================] - 0s 4ms/step - loss: 0.0264 - mae: 0.1146 - val_loss: 0.1220 - val_mae: 0.2599\n",
            "Epoch 112/200\n",
            "27/27 [==============================] - 0s 4ms/step - loss: 0.0246 - mae: 0.1161 - val_loss: 0.1237 - val_mae: 0.2529\n",
            "Epoch 113/200\n",
            "27/27 [==============================] - 0s 3ms/step - loss: 0.0192 - mae: 0.0984 - val_loss: 0.1220 - val_mae: 0.2594\n",
            "Epoch 114/200\n",
            "27/27 [==============================] - 0s 3ms/step - loss: 0.0181 - mae: 0.0983 - val_loss: 0.1222 - val_mae: 0.2554\n",
            "Epoch 115/200\n",
            "27/27 [==============================] - 0s 4ms/step - loss: 0.0192 - mae: 0.1006 - val_loss: 0.1355 - val_mae: 0.2703\n",
            "Epoch 116/200\n",
            "27/27 [==============================] - 0s 3ms/step - loss: 0.0191 - mae: 0.1012 - val_loss: 0.1351 - val_mae: 0.2679\n",
            "Epoch 117/200\n",
            "27/27 [==============================] - 0s 4ms/step - loss: 0.0191 - mae: 0.1020 - val_loss: 0.1304 - val_mae: 0.2592\n",
            "Epoch 118/200\n",
            "27/27 [==============================] - 0s 3ms/step - loss: 0.0200 - mae: 0.0945 - val_loss: 0.1286 - val_mae: 0.2662\n",
            "Epoch 119/200\n",
            "27/27 [==============================] - 0s 3ms/step - loss: 0.0197 - mae: 0.1007 - val_loss: 0.1173 - val_mae: 0.2512\n",
            "Epoch 120/200\n",
            "27/27 [==============================] - 0s 3ms/step - loss: 0.0301 - mae: 0.1112 - val_loss: 0.1405 - val_mae: 0.2787\n",
            "Epoch 121/200\n",
            "27/27 [==============================] - 0s 3ms/step - loss: 0.0233 - mae: 0.1034 - val_loss: 0.1215 - val_mae: 0.2519\n",
            "Epoch 122/200\n",
            "27/27 [==============================] - 0s 4ms/step - loss: 0.0242 - mae: 0.1071 - val_loss: 0.1235 - val_mae: 0.2576\n",
            "Epoch 123/200\n",
            "27/27 [==============================] - 0s 4ms/step - loss: 0.0219 - mae: 0.1089 - val_loss: 0.1259 - val_mae: 0.2618\n",
            "Epoch 124/200\n",
            "27/27 [==============================] - 0s 4ms/step - loss: 0.0235 - mae: 0.1027 - val_loss: 0.1199 - val_mae: 0.2514\n",
            "Epoch 125/200\n",
            "27/27 [==============================] - 0s 4ms/step - loss: 0.0204 - mae: 0.0990 - val_loss: 0.1260 - val_mae: 0.2622\n",
            "Epoch 126/200\n",
            "27/27 [==============================] - 0s 4ms/step - loss: 0.0172 - mae: 0.0908 - val_loss: 0.1321 - val_mae: 0.2625\n",
            "Epoch 127/200\n",
            "27/27 [==============================] - 0s 4ms/step - loss: 0.0226 - mae: 0.1046 - val_loss: 0.1301 - val_mae: 0.2598\n",
            "Epoch 128/200\n",
            "27/27 [==============================] - 0s 4ms/step - loss: 0.0190 - mae: 0.0958 - val_loss: 0.1214 - val_mae: 0.2544\n",
            "Epoch 129/200\n",
            "27/27 [==============================] - 0s 4ms/step - loss: 0.0197 - mae: 0.1015 - val_loss: 0.1248 - val_mae: 0.2562\n",
            "Epoch 130/200\n",
            "27/27 [==============================] - 0s 3ms/step - loss: 0.0187 - mae: 0.0945 - val_loss: 0.1248 - val_mae: 0.2572\n",
            "Epoch 131/200\n",
            "27/27 [==============================] - 0s 3ms/step - loss: 0.0220 - mae: 0.1096 - val_loss: 0.1171 - val_mae: 0.2435\n",
            "Epoch 132/200\n",
            "27/27 [==============================] - 0s 4ms/step - loss: 0.0168 - mae: 0.0844 - val_loss: 0.1374 - val_mae: 0.2686\n",
            "Epoch 133/200\n",
            "27/27 [==============================] - 0s 3ms/step - loss: 0.0253 - mae: 0.1122 - val_loss: 0.1178 - val_mae: 0.2464\n",
            "Epoch 134/200\n",
            "27/27 [==============================] - 0s 4ms/step - loss: 0.0171 - mae: 0.0868 - val_loss: 0.1216 - val_mae: 0.2506\n",
            "Epoch 135/200\n",
            "27/27 [==============================] - 0s 4ms/step - loss: 0.0182 - mae: 0.0962 - val_loss: 0.1242 - val_mae: 0.2577\n",
            "Epoch 136/200\n",
            "27/27 [==============================] - 0s 4ms/step - loss: 0.0187 - mae: 0.1053 - val_loss: 0.1403 - val_mae: 0.2699\n",
            "Epoch 137/200\n",
            "27/27 [==============================] - 0s 4ms/step - loss: 0.0180 - mae: 0.0935 - val_loss: 0.1194 - val_mae: 0.2539\n",
            "Epoch 138/200\n",
            "27/27 [==============================] - 0s 3ms/step - loss: 0.0207 - mae: 0.1006 - val_loss: 0.1227 - val_mae: 0.2540\n",
            "Epoch 139/200\n",
            "27/27 [==============================] - 0s 3ms/step - loss: 0.0233 - mae: 0.1013 - val_loss: 0.1195 - val_mae: 0.2507\n",
            "Epoch 140/200\n",
            "27/27 [==============================] - 0s 4ms/step - loss: 0.0174 - mae: 0.0935 - val_loss: 0.1251 - val_mae: 0.2538\n",
            "Epoch 141/200\n",
            "27/27 [==============================] - 0s 4ms/step - loss: 0.0145 - mae: 0.0858 - val_loss: 0.1243 - val_mae: 0.2570\n",
            "Epoch 142/200\n",
            "27/27 [==============================] - 0s 3ms/step - loss: 0.0233 - mae: 0.1002 - val_loss: 0.1246 - val_mae: 0.2591\n",
            "Epoch 143/200\n",
            "27/27 [==============================] - 0s 4ms/step - loss: 0.0179 - mae: 0.0930 - val_loss: 0.1193 - val_mae: 0.2451\n",
            "Epoch 144/200\n",
            "27/27 [==============================] - 0s 4ms/step - loss: 0.0160 - mae: 0.0829 - val_loss: 0.1197 - val_mae: 0.2519\n",
            "Epoch 145/200\n",
            "27/27 [==============================] - 0s 3ms/step - loss: 0.0240 - mae: 0.1055 - val_loss: 0.1139 - val_mae: 0.2432\n",
            "Epoch 146/200\n",
            "27/27 [==============================] - 0s 4ms/step - loss: 0.0156 - mae: 0.0901 - val_loss: 0.1211 - val_mae: 0.2558\n",
            "Epoch 147/200\n",
            "27/27 [==============================] - 0s 4ms/step - loss: 0.0185 - mae: 0.0961 - val_loss: 0.1233 - val_mae: 0.2531\n",
            "Epoch 148/200\n",
            "27/27 [==============================] - 0s 4ms/step - loss: 0.0170 - mae: 0.0888 - val_loss: 0.1233 - val_mae: 0.2551\n",
            "Epoch 149/200\n",
            "27/27 [==============================] - 0s 3ms/step - loss: 0.0165 - mae: 0.0902 - val_loss: 0.1244 - val_mae: 0.2546\n",
            "Epoch 150/200\n",
            "27/27 [==============================] - 0s 4ms/step - loss: 0.0141 - mae: 0.0839 - val_loss: 0.1163 - val_mae: 0.2445\n",
            "Epoch 151/200\n",
            "27/27 [==============================] - 0s 4ms/step - loss: 0.0161 - mae: 0.0854 - val_loss: 0.1243 - val_mae: 0.2569\n",
            "Epoch 152/200\n",
            "27/27 [==============================] - 0s 4ms/step - loss: 0.0206 - mae: 0.0956 - val_loss: 0.1241 - val_mae: 0.2616\n",
            "Epoch 153/200\n",
            "27/27 [==============================] - 0s 4ms/step - loss: 0.0183 - mae: 0.0944 - val_loss: 0.1312 - val_mae: 0.2663\n",
            "Epoch 154/200\n",
            "27/27 [==============================] - 0s 3ms/step - loss: 0.0209 - mae: 0.0945 - val_loss: 0.1190 - val_mae: 0.2472\n",
            "Epoch 155/200\n",
            "27/27 [==============================] - 0s 3ms/step - loss: 0.0159 - mae: 0.0880 - val_loss: 0.1169 - val_mae: 0.2472\n",
            "Epoch 156/200\n",
            "27/27 [==============================] - 0s 4ms/step - loss: 0.0216 - mae: 0.0953 - val_loss: 0.1219 - val_mae: 0.2484\n",
            "Epoch 157/200\n",
            "27/27 [==============================] - 0s 3ms/step - loss: 0.0142 - mae: 0.0837 - val_loss: 0.1283 - val_mae: 0.2570\n",
            "Epoch 158/200\n",
            "27/27 [==============================] - 0s 3ms/step - loss: 0.0179 - mae: 0.0920 - val_loss: 0.1375 - val_mae: 0.2701\n",
            "Epoch 159/200\n",
            "27/27 [==============================] - 0s 3ms/step - loss: 0.0142 - mae: 0.0838 - val_loss: 0.1194 - val_mae: 0.2492\n",
            "Epoch 160/200\n",
            "27/27 [==============================] - 0s 3ms/step - loss: 0.0150 - mae: 0.0852 - val_loss: 0.1178 - val_mae: 0.2485\n",
            "Epoch 161/200\n",
            "27/27 [==============================] - 0s 3ms/step - loss: 0.0200 - mae: 0.0951 - val_loss: 0.1218 - val_mae: 0.2553\n",
            "Epoch 162/200\n",
            "27/27 [==============================] - 0s 3ms/step - loss: 0.0186 - mae: 0.0964 - val_loss: 0.1276 - val_mae: 0.2652\n",
            "Epoch 163/200\n",
            "27/27 [==============================] - 0s 3ms/step - loss: 0.0185 - mae: 0.0965 - val_loss: 0.1275 - val_mae: 0.2584\n",
            "Epoch 164/200\n",
            "27/27 [==============================] - 0s 4ms/step - loss: 0.0139 - mae: 0.0853 - val_loss: 0.1352 - val_mae: 0.2705\n",
            "Epoch 165/200\n",
            "27/27 [==============================] - 0s 3ms/step - loss: 0.0156 - mae: 0.0889 - val_loss: 0.1225 - val_mae: 0.2544\n",
            "Epoch 166/200\n",
            "27/27 [==============================] - 0s 4ms/step - loss: 0.0192 - mae: 0.0933 - val_loss: 0.1191 - val_mae: 0.2510\n",
            "Epoch 167/200\n",
            "27/27 [==============================] - 0s 3ms/step - loss: 0.0154 - mae: 0.0848 - val_loss: 0.1186 - val_mae: 0.2486\n",
            "Epoch 168/200\n",
            "27/27 [==============================] - 0s 4ms/step - loss: 0.0153 - mae: 0.0840 - val_loss: 0.1244 - val_mae: 0.2519\n",
            "Epoch 169/200\n",
            "27/27 [==============================] - 0s 3ms/step - loss: 0.0253 - mae: 0.1016 - val_loss: 0.1252 - val_mae: 0.2510\n",
            "Epoch 170/200\n",
            "27/27 [==============================] - 0s 3ms/step - loss: 0.0229 - mae: 0.1005 - val_loss: 0.1222 - val_mae: 0.2555\n",
            "Epoch 171/200\n",
            "27/27 [==============================] - 0s 4ms/step - loss: 0.0165 - mae: 0.0891 - val_loss: 0.1352 - val_mae: 0.2722\n",
            "Epoch 172/200\n",
            "27/27 [==============================] - 0s 3ms/step - loss: 0.0165 - mae: 0.0912 - val_loss: 0.1533 - val_mae: 0.2937\n",
            "Epoch 173/200\n",
            "27/27 [==============================] - 0s 4ms/step - loss: 0.0201 - mae: 0.0942 - val_loss: 0.1270 - val_mae: 0.2582\n",
            "Epoch 174/200\n",
            "27/27 [==============================] - 0s 4ms/step - loss: 0.0173 - mae: 0.0896 - val_loss: 0.1228 - val_mae: 0.2589\n",
            "Epoch 175/200\n",
            "27/27 [==============================] - 0s 4ms/step - loss: 0.0195 - mae: 0.0925 - val_loss: 0.1188 - val_mae: 0.2446\n",
            "Epoch 176/200\n",
            "27/27 [==============================] - 0s 4ms/step - loss: 0.0150 - mae: 0.0841 - val_loss: 0.1261 - val_mae: 0.2583\n",
            "Epoch 177/200\n",
            "27/27 [==============================] - 0s 4ms/step - loss: 0.0140 - mae: 0.0791 - val_loss: 0.1314 - val_mae: 0.2625\n",
            "Epoch 178/200\n",
            "27/27 [==============================] - 0s 3ms/step - loss: 0.0168 - mae: 0.0943 - val_loss: 0.1221 - val_mae: 0.2499\n",
            "Epoch 179/200\n",
            "27/27 [==============================] - 0s 4ms/step - loss: 0.0147 - mae: 0.0757 - val_loss: 0.1347 - val_mae: 0.2703\n",
            "Epoch 180/200\n",
            "27/27 [==============================] - 0s 4ms/step - loss: 0.0178 - mae: 0.0910 - val_loss: 0.1302 - val_mae: 0.2636\n",
            "Epoch 181/200\n",
            "27/27 [==============================] - 0s 3ms/step - loss: 0.0130 - mae: 0.0802 - val_loss: 0.1347 - val_mae: 0.2710\n",
            "Epoch 182/200\n",
            "27/27 [==============================] - 0s 4ms/step - loss: 0.0185 - mae: 0.0942 - val_loss: 0.1396 - val_mae: 0.2828\n",
            "Epoch 183/200\n",
            "27/27 [==============================] - 0s 4ms/step - loss: 0.0160 - mae: 0.0905 - val_loss: 0.1253 - val_mae: 0.2609\n",
            "Epoch 184/200\n",
            "27/27 [==============================] - 0s 4ms/step - loss: 0.0200 - mae: 0.0991 - val_loss: 0.1306 - val_mae: 0.2621\n",
            "Epoch 185/200\n",
            "27/27 [==============================] - 0s 4ms/step - loss: 0.0324 - mae: 0.1177 - val_loss: 0.1347 - val_mae: 0.2693\n",
            "Epoch 186/200\n",
            "27/27 [==============================] - 0s 4ms/step - loss: 0.0182 - mae: 0.0921 - val_loss: 0.1203 - val_mae: 0.2489\n",
            "Epoch 187/200\n",
            "27/27 [==============================] - 0s 4ms/step - loss: 0.0161 - mae: 0.0826 - val_loss: 0.1193 - val_mae: 0.2476\n",
            "Epoch 188/200\n",
            "27/27 [==============================] - 0s 4ms/step - loss: 0.0113 - mae: 0.0729 - val_loss: 0.1265 - val_mae: 0.2530\n",
            "Epoch 189/200\n",
            "27/27 [==============================] - 0s 3ms/step - loss: 0.0149 - mae: 0.0894 - val_loss: 0.1220 - val_mae: 0.2586\n",
            "Epoch 190/200\n",
            "27/27 [==============================] - 0s 3ms/step - loss: 0.0143 - mae: 0.0829 - val_loss: 0.1310 - val_mae: 0.2642\n",
            "Epoch 191/200\n",
            "27/27 [==============================] - 0s 3ms/step - loss: 0.0171 - mae: 0.0913 - val_loss: 0.1207 - val_mae: 0.2490\n",
            "Epoch 192/200\n",
            "27/27 [==============================] - 0s 4ms/step - loss: 0.0197 - mae: 0.0938 - val_loss: 0.1286 - val_mae: 0.2545\n",
            "Epoch 193/200\n",
            "27/27 [==============================] - 0s 4ms/step - loss: 0.0177 - mae: 0.0928 - val_loss: 0.1238 - val_mae: 0.2520\n",
            "Epoch 194/200\n",
            "27/27 [==============================] - 0s 4ms/step - loss: 0.0115 - mae: 0.0738 - val_loss: 0.1296 - val_mae: 0.2674\n",
            "Epoch 195/200\n",
            "27/27 [==============================] - 0s 4ms/step - loss: 0.0123 - mae: 0.0775 - val_loss: 0.1257 - val_mae: 0.2478\n",
            "Epoch 196/200\n",
            "27/27 [==============================] - 0s 4ms/step - loss: 0.0104 - mae: 0.0717 - val_loss: 0.1245 - val_mae: 0.2606\n",
            "Epoch 197/200\n",
            "27/27 [==============================] - 0s 4ms/step - loss: 0.0129 - mae: 0.0800 - val_loss: 0.1192 - val_mae: 0.2501\n",
            "Epoch 198/200\n",
            "27/27 [==============================] - 0s 3ms/step - loss: 0.0222 - mae: 0.0902 - val_loss: 0.1234 - val_mae: 0.2488\n",
            "Epoch 199/200\n",
            "27/27 [==============================] - 0s 3ms/step - loss: 0.0106 - mae: 0.0697 - val_loss: 0.1254 - val_mae: 0.2613\n",
            "Epoch 200/200\n",
            "27/27 [==============================] - 0s 4ms/step - loss: 0.0174 - mae: 0.0880 - val_loss: 0.1175 - val_mae: 0.2529\n"
          ],
          "name": "stdout"
        }
      ]
    },
    {
      "cell_type": "code",
      "metadata": {
        "colab": {
          "base_uri": "https://localhost:8080/"
        },
        "id": "63ZYRR2X7S0m",
        "outputId": "47ca2976-702d-4756-d3ae-af40a9a4f526"
      },
      "source": [
        "history.history.keys()"
      ],
      "execution_count": 83,
      "outputs": [
        {
          "output_type": "execute_result",
          "data": {
            "text/plain": [
              "dict_keys(['loss', 'mae', 'val_loss', 'val_mae'])"
            ]
          },
          "metadata": {
            "tags": []
          },
          "execution_count": 83
        }
      ]
    },
    {
      "cell_type": "markdown",
      "metadata": {
        "id": "7HMOuNb9Bujq"
      },
      "source": [
        "### 3.Results"
      ]
    },
    {
      "cell_type": "code",
      "metadata": {
        "colab": {
          "base_uri": "https://localhost:8080/"
        },
        "id": "P_bOx2pR7YAc",
        "outputId": "87819c24-3d23-4ee6-ee44-c0f9626a0309"
      },
      "source": [
        "results= model.evaluate(x_test, y_test)"
      ],
      "execution_count": 84,
      "outputs": [
        {
          "output_type": "stream",
          "text": [
            "10/10 [==============================] - 0s 1ms/step - loss: 0.1216 - mae: 0.2365\n"
          ],
          "name": "stdout"
        }
      ]
    },
    {
      "cell_type": "markdown",
      "metadata": {
        "id": "U6gAR_u0BzAm"
      },
      "source": [
        "### 4.Plotting the validation scores"
      ]
    },
    {
      "cell_type": "code",
      "metadata": {
        "colab": {
          "base_uri": "https://localhost:8080/",
          "height": 294
        },
        "id": "CBF60RaU8Erq",
        "outputId": "cf069f5b-f903-4e4f-ef78-30a5c1a050ba"
      },
      "source": [
        "history_dict = history.history\n",
        "mae_values = history_dict['mae']\n",
        "val_mae_values = history_dict['val_mae']\n",
        "\n",
        "epochs = range(200)\n",
        "plt.plot(epochs, mae_values, 'bo', label='Training MAE')\n",
        "plt.plot(epochs, val_mae_values, 'r', label='Validation MAE')\n",
        "plt.title('Training and validation MAE')\n",
        "plt.xlabel('Epochs')\n",
        "plt.ylabel('Loss')\n",
        "plt.legend()\n",
        "plt.show()"
      ],
      "execution_count": 85,
      "outputs": [
        {
          "output_type": "display_data",
          "data": {
            "image/png": "[encoded data removed]",
            "text/plain": [
              "<Figure size 432x288 with 1 Axes>"
            ]
          },
          "metadata": {
            "tags": [],
            "needs_background": "light"
          }
        }
      ]
    },
    {
      "cell_type": "code",
      "metadata": {
        "colab": {
          "base_uri": "https://localhost:8080/",
          "height": 294
        },
        "id": "0i4SSqAI8EsS",
        "outputId": "86710d3d-0226-432b-fc27-8770074b7ca6"
      },
      "source": [
        "loss_values = history_dict['loss']\n",
        "val_mse_values = history_dict['val_loss']\n",
        "plt.plot(epochs, loss_values, 'bo', label='Training Loss')\n",
        "plt.plot(epochs, val_mse_values, 'r', label='Validation Loss')\n",
        "plt.title('Training and validation MSE')\n",
        "plt.xlabel('Epochs')\n",
        "plt.ylabel('Mean Square Error (Price)')\n",
        "plt.legend()\n",
        "plt.show()"
      ],
      "execution_count": 86,
      "outputs": [
        {
          "output_type": "display_data",
          "data": {
            "image/png": "[encoded data removed]",
            "text/plain": [
              "<Figure size 432x288 with 1 Axes>"
            ]
          },
          "metadata": {
            "tags": [],
            "needs_background": "light"
          }
        }
      ]
    },
    {
      "cell_type": "markdown",
      "metadata": {
        "id": "STEiQ-10CEEO"
      },
      "source": [
        "### 5.Evaluation and Prediction "
      ]
    },
    {
      "cell_type": "code",
      "metadata": {
        "id": "_RERi3_A7YIk"
      },
      "source": [
        "y_pred = model.predict(x_test)"
      ],
      "execution_count": 89,
      "outputs": []
    },
    {
      "cell_type": "code",
      "metadata": {
        "colab": {
          "base_uri": "https://localhost:8080/"
        },
        "id": "dVCjWLD47YME",
        "outputId": "15b1cc58-5228-4d02-ed3f-01e9d5fc6b4d"
      },
      "source": [
        "y_pred[0]"
      ],
      "execution_count": 94,
      "outputs": [
        {
          "output_type": "execute_result",
          "data": {
            "text/plain": [
              "array([0.17409028], dtype=float32)"
            ]
          },
          "metadata": {
            "tags": []
          },
          "execution_count": 94
        }
      ]
    },
    {
      "cell_type": "code",
      "metadata": {
        "colab": {
          "base_uri": "https://localhost:8080/"
        },
        "id": "CadD6Tn__iIZ",
        "outputId": "3c3309f4-1e87-47ef-cb6a-9ad843224107"
      },
      "source": [
        "y_test[0]"
      ],
      "execution_count": 96,
      "outputs": [
        {
          "output_type": "execute_result",
          "data": {
            "text/plain": [
              "0.2701068049063647"
            ]
          },
          "metadata": {
            "tags": []
          },
          "execution_count": 96
        }
      ]
    },
    {
      "cell_type": "markdown",
      "metadata": {
        "id": "BzWrJ_NHNvQ9"
      },
      "source": [
        "**<h4 align=\"right\"> AIC Deep Learning Assignment Submitted by : PIAIC101499 </h4>**\n",
        "\n",
        "\n"
      ]
    }
  ]
}